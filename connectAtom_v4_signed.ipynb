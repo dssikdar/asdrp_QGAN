{
 "cells": [
  {
   "cell_type": "markdown",
   "id": "dd349c27-edad-4069-a3d1-7e1d80b6c37e",
   "metadata": {
    "tags": []
   },
   "source": [
    "<h3> Imports </h3>"
   ]
  },
  {
   "cell_type": "code",
   "execution_count": null,
   "id": "f71073f8-6acf-413e-9ef5-eb61c456bf3a",
   "metadata": {},
   "outputs": [],
   "source": [
    "import numpy as np\n",
    "import pandas as pd\n",
    "import math\n",
    "\n",
    "# Importing standard Qiskit libraries\n",
    "from qiskit import QuantumCircuit, execute, transpile, Aer, IBMQ\n",
    "from qiskit.tools.jupyter import *\n",
    "from qiskit.visualization import *\n",
    "from ibm_quantum_widgets import *\n",
    "\n",
    "# Loading your IBM Quantum account(s)\n",
    "provider = IBMQ.load_account()\n",
    "print('Libraries imported successfully!')"
   ]
  },
  {
   "cell_type": "markdown",
   "id": "5687187d-90db-4b73-b943-fbdbb18f8d8f",
   "metadata": {
    "tags": []
   },
   "source": [
    "<h3> Important Variables and Methods for Algorithm Functionality </h3>"
   ]
  },
  {
   "cell_type": "code",
   "execution_count": 33,
   "id": "992c31e1-5918-4e99-ba8d-4890d2dc9197",
   "metadata": {},
   "outputs": [
    {
     "name": "stdout",
     "output_type": "stream",
     "text": [
      "Total number of bits per atom: 23\n"
     ]
    }
   ],
   "source": [
    "atom_dict = {\"00\":\"H\", \"01\":\"C\", \"10\":\"O\", \"11\":\"N\"}\n",
    "\n",
    "pi = math.pi\n",
    "shots = 1024\n",
    "\n",
    "num_of_atoms = 1\n",
    "bits_per_atom = 2\n",
    "bits_per_coord = 6\n",
    "sign_bit = 1\n",
    "num_of_total_bits = num_of_atoms*(bits_per_atom+3*(sign_bit+bits_per_coord))\n",
    "\n",
    "print(f\"Total number of bits per atom: {int(num_of_total_bits/num_of_atoms)}\")"
   ]
  },
  {
   "cell_type": "code",
   "execution_count": 34,
   "id": "0fcdb5b0-ef48-4ac4-b00e-d6cb8a3590fe",
   "metadata": {},
   "outputs": [],
   "source": [
    "def binaryToDecimal(binary):\n",
    "    binary1 = binary\n",
    "    decimal, i, n = 0, 0, 0\n",
    "    while(binary != 0):\n",
    "        dec = binary % 10\n",
    "        decimal = decimal + dec * pow(2, i)\n",
    "        binary = binary//10\n",
    "        i += 1\n",
    "    return decimal  \n",
    "\n",
    "def whichAtom(atom, dictionary):\n",
    "    return dictionary[atom]\n",
    "\n",
    "def calcDistance(coord_dist, num_of_qubits, sign):\n",
    "    distance = binaryToDecimal(coord_dist)/(2**(num_of_qubits-2))\n",
    "    if sign == 1:\n",
    "        distance *= -1;\n",
    "    return distance\n",
    "\n",
    "def experiment(shots):\n",
    "    backend = Aer.get_backend('qasm_simulator')\n",
    "    job = execute(atom_qc,backend, shots = shots)\n",
    "    result = job.result()\n",
    "\n",
    "    counts = result.get_counts()\n",
    "    return counts"
   ]
  },
  {
   "cell_type": "code",
   "execution_count": 35,
   "id": "1a84e1af-f663-4ad5-92b3-20a10bfb22dc",
   "metadata": {},
   "outputs": [
    {
     "name": "stdout",
     "output_type": "stream",
     "text": [
      "Sample number: BIN 43 --> Float 5.375 \n",
      "\n",
      "Range and Precision: 0.0 to 7.875\n"
     ]
    }
   ],
   "source": [
    "#### Determine range of numbers and corresponding precision\n",
    "num = 101011\n",
    "maxNum = 111111\n",
    "numLen = len(str(num))\n",
    "dist = calcDistance(num, numLen-1, 0)\n",
    "maxDist = calcDistance(maxNum, numLen-1, 0)\n",
    "print(\"Sample number: BIN\",binaryToDecimal(num),\"--> Float\",dist,\"\\n\")\n",
    "print(f\"Range and Precision: 0.0 to {maxDist}\")"
   ]
  },
  {
   "cell_type": "markdown",
   "id": "a1a3abb2-8f65-45c8-83b4-afbf29451f4e",
   "metadata": {
    "tags": []
   },
   "source": [
    "<h3> Sample Circuit and Test Run (to test code only) </h3> "
   ]
  },
  {
   "cell_type": "markdown",
   "id": "ff0850f1-dc03-4c76-9609-d3d94c0ebd57",
   "metadata": {},
   "source": [
    "<b>Constructing the Quantum Circuit</b> (will come from the Quantum Generator)"
   ]
  },
  {
   "cell_type": "code",
   "execution_count": null,
   "id": "f1eebbda-2519-4e4c-9ee2-f8e6d7f3dfff",
   "metadata": {
    "tags": []
   },
   "outputs": [],
   "source": [
    "#### Sample Quantum Circuit\n",
    "print(\"Sample Quantum Circuit\")\n",
    "\n",
    "atom_qc = QuantumCircuit(num_of_total_bits)\n",
    "atom_qc.h([i for i in range(0,num_of_total_bits,3)])\n",
    "\n",
    "for q_idx in range(0,num_of_total_bits-2,3):\n",
    "    atom_qc.rz(3*pi/(q_idx+0.1), q_idx)\n",
    "    atom_qc.rx(2*pi/(q_idx+0.5), q_idx+2)\n",
    "    atom_qc.cx(q_idx-3, q_idx)\n",
    "atom_qc.measure_all()\n",
    "atom_qc.draw()"
   ]
  },
  {
   "cell_type": "code",
   "execution_count": null,
   "id": "6a2648b9-96c1-401d-ae9d-6454a7b47569",
   "metadata": {},
   "outputs": [],
   "source": [
    "#### Sample Simulation\n",
    "\n",
    "counts = experiment(shots)\n",
    "plot_histogram(counts)"
   ]
  },
  {
   "cell_type": "markdown",
   "id": "057cb8c0-ef32-418c-87ef-6271a5aa3108",
   "metadata": {
    "tags": []
   },
   "source": [
    "<h3> Main Algorithm (Variables defined at top) </h3>"
   ]
  },
  {
   "cell_type": "code",
   "execution_count": 38,
   "id": "934becf7-58f0-493f-8c2f-a871e601b56e",
   "metadata": {},
   "outputs": [],
   "source": [
    "maxVal = -1\n",
    "for value in counts.values():\n",
    "    if value > maxVal:\n",
    "        maxVal = value\n",
    "maxKey = list(counts.keys())[list(counts.values()).index(maxVal)][::-1]\n",
    "#print(type(maxKey))"
   ]
  },
  {
   "cell_type": "code",
   "execution_count": 39,
   "id": "3f04109d-70f9-446a-a107-76f87f8ddf68",
   "metadata": {},
   "outputs": [],
   "source": [
    "molecule_gen_xyz = pd.DataFrame(columns=[\"atom\", \"x\", \"y\", \"z\"])\n",
    "\n",
    "interval = bits_per_atom+3*(sign_bit+bits_per_coord)\n",
    "max_molecule_length = 11\n",
    "\n",
    "for char_index in range(0, len(maxKey), interval):\n",
    "    substring = maxKey[char_index:char_index+interval]\n",
    "    \n",
    "    length = len(substring)\n",
    "    \n",
    "    sign_x = 1 if (int(substring[length-3]) == 1) else 0\n",
    "    sign_y = 1 if (int(substring[length-2]) == 1) else 0\n",
    "    sign_z = 1 if (int(substring[length-1]) == 1) else 0\n",
    "    \n",
    "    atom_bit_str = substring[0:bits_per_atom]\n",
    "    x_coord = int(substring[bits_per_atom:bits_per_atom+bits_per_coord])\n",
    "    y_coord = int(substring[bits_per_atom+bits_per_coord:bits_per_atom+2*bits_per_coord])\n",
    "    z_coord = int(substring[bits_per_atom+2*bits_per_coord:bits_per_atom+3*bits_per_coord])\n",
    "\n",
    "    atom = whichAtom(atom_bit_str, atom_dict)\n",
    "    x_dist = calcDistance(x_coord, bits_per_coord, sign_x)\n",
    "    y_dist = calcDistance(y_coord, bits_per_coord, sign_y)\n",
    "    z_dist = calcDistance(z_coord, bits_per_coord, sign_z)\n",
    "        \n",
    "    new_row = {'atom':atom, 'x':x_dist, 'y':y_dist, 'z':z_dist}\n",
    "    molecule_gen_xyz = molecule_gen_xyz.append(new_row, ignore_index=True)\n",
    "\n",
    "if int(len(maxKey)/interval) < max_molecule_length:\n",
    "    num_zero_rows = max_molecule_length-int(len(maxKey)/interval)\n",
    "    new_row = {'atom':0, 'x':0.0, 'y':0.0, 'z':0.0}\n",
    "    for i in range(num_zero_rows):\n",
    "        molecule_gen_xyz = molecule_gen_xyz.append(new_row, ignore_index=True)"
   ]
  },
  {
   "cell_type": "code",
   "execution_count": 40,
   "id": "aa7da91d-e571-460c-bd0e-1112262922ed",
   "metadata": {},
   "outputs": [
    {
     "data": {
      "text/html": [
       "<div>\n",
       "<style scoped>\n",
       "    .dataframe tbody tr th:only-of-type {\n",
       "        vertical-align: middle;\n",
       "    }\n",
       "\n",
       "    .dataframe tbody tr th {\n",
       "        vertical-align: top;\n",
       "    }\n",
       "\n",
       "    .dataframe thead th {\n",
       "        text-align: right;\n",
       "    }\n",
       "</style>\n",
       "<table border=\"1\" class=\"dataframe\">\n",
       "  <thead>\n",
       "    <tr style=\"text-align: right;\">\n",
       "      <th></th>\n",
       "      <th>atom</th>\n",
       "      <th>x</th>\n",
       "      <th>y</th>\n",
       "      <th>z</th>\n",
       "    </tr>\n",
       "  </thead>\n",
       "  <tbody>\n",
       "    <tr>\n",
       "      <th>0</th>\n",
       "      <td>O</td>\n",
       "      <td>0.375</td>\n",
       "      <td>1.0</td>\n",
       "      <td>1.125</td>\n",
       "    </tr>\n",
       "    <tr>\n",
       "      <th>1</th>\n",
       "      <td>0.0</td>\n",
       "      <td>0.000</td>\n",
       "      <td>0.0</td>\n",
       "      <td>0.000</td>\n",
       "    </tr>\n",
       "    <tr>\n",
       "      <th>2</th>\n",
       "      <td>0.0</td>\n",
       "      <td>0.000</td>\n",
       "      <td>0.0</td>\n",
       "      <td>0.000</td>\n",
       "    </tr>\n",
       "    <tr>\n",
       "      <th>3</th>\n",
       "      <td>0.0</td>\n",
       "      <td>0.000</td>\n",
       "      <td>0.0</td>\n",
       "      <td>0.000</td>\n",
       "    </tr>\n",
       "    <tr>\n",
       "      <th>4</th>\n",
       "      <td>0.0</td>\n",
       "      <td>0.000</td>\n",
       "      <td>0.0</td>\n",
       "      <td>0.000</td>\n",
       "    </tr>\n",
       "    <tr>\n",
       "      <th>5</th>\n",
       "      <td>0.0</td>\n",
       "      <td>0.000</td>\n",
       "      <td>0.0</td>\n",
       "      <td>0.000</td>\n",
       "    </tr>\n",
       "    <tr>\n",
       "      <th>6</th>\n",
       "      <td>0.0</td>\n",
       "      <td>0.000</td>\n",
       "      <td>0.0</td>\n",
       "      <td>0.000</td>\n",
       "    </tr>\n",
       "    <tr>\n",
       "      <th>7</th>\n",
       "      <td>0.0</td>\n",
       "      <td>0.000</td>\n",
       "      <td>0.0</td>\n",
       "      <td>0.000</td>\n",
       "    </tr>\n",
       "    <tr>\n",
       "      <th>8</th>\n",
       "      <td>0.0</td>\n",
       "      <td>0.000</td>\n",
       "      <td>0.0</td>\n",
       "      <td>0.000</td>\n",
       "    </tr>\n",
       "    <tr>\n",
       "      <th>9</th>\n",
       "      <td>0.0</td>\n",
       "      <td>0.000</td>\n",
       "      <td>0.0</td>\n",
       "      <td>0.000</td>\n",
       "    </tr>\n",
       "    <tr>\n",
       "      <th>10</th>\n",
       "      <td>0.0</td>\n",
       "      <td>0.000</td>\n",
       "      <td>0.0</td>\n",
       "      <td>0.000</td>\n",
       "    </tr>\n",
       "  </tbody>\n",
       "</table>\n",
       "</div>"
      ],
      "text/plain": [
       "   atom      x    y      z\n",
       "0     O  0.375  1.0  1.125\n",
       "1   0.0  0.000  0.0  0.000\n",
       "2   0.0  0.000  0.0  0.000\n",
       "3   0.0  0.000  0.0  0.000\n",
       "4   0.0  0.000  0.0  0.000\n",
       "5   0.0  0.000  0.0  0.000\n",
       "6   0.0  0.000  0.0  0.000\n",
       "7   0.0  0.000  0.0  0.000\n",
       "8   0.0  0.000  0.0  0.000\n",
       "9   0.0  0.000  0.0  0.000\n",
       "10  0.0  0.000  0.0  0.000"
      ]
     },
     "execution_count": 40,
     "metadata": {},
     "output_type": "execute_result"
    }
   ],
   "source": [
    "molecule_gen_xyz"
   ]
  },
  {
   "cell_type": "code",
   "execution_count": null,
   "id": "549b40af-81e0-40c9-a985-88bad210fd95",
   "metadata": {},
   "outputs": [],
   "source": [
    "molecule_gen_xyz.to_csv(\"mol_gen_xyz.csv\")"
   ]
  },
  {
   "cell_type": "code",
   "execution_count": null,
   "id": "3715b24a-0dea-48ae-824f-afcbb1e831ce",
   "metadata": {},
   "outputs": [],
   "source": []
  }
 ],
 "metadata": {
  "kernelspec": {
   "display_name": "Qiskit v0.34.2 (ipykernel)",
   "language": "python",
   "name": "python3"
  },
  "language_info": {
   "codemirror_mode": {
    "name": "ipython",
    "version": 3
   },
   "file_extension": ".py",
   "mimetype": "text/x-python",
   "name": "python",
   "nbconvert_exporter": "python",
   "pygments_lexer": "ipython3",
   "version": "3.8.13"
  },
  "widgets": {
   "application/vnd.jupyter.widget-state+json": {
    "state": {
     "00348725073c4cc1b5dd6a39f9e3cf46": {
      "model_module": "@jupyter-widgets/base",
      "model_module_version": "1.2.0",
      "model_name": "LayoutModel",
      "state": {
       "width": "145px"
      }
     },
     "06a9d9a283574cacbdc4cf3fc2b87be3": {
      "model_module": "@jupyter-widgets/base",
      "model_module_version": "1.2.0",
      "model_name": "LayoutModel",
      "state": {
       "width": "95px"
      }
     },
     "0e32d9ddd4bb4f5489b23353a4461773": {
      "model_module": "@jupyter-widgets/controls",
      "model_module_version": "1.5.0",
      "model_name": "DescriptionStyleModel",
      "state": {
       "description_width": ""
      }
     },
     "15ae7a1c6890419da59393497371c72e": {
      "model_module": "@jupyter-widgets/controls",
      "model_module_version": "1.5.0",
      "model_name": "HBoxModel",
      "state": {
       "children": [
        "IPY_MODEL_c2b8ed7f8e634f1aadbfa25a99b86c2d",
        "IPY_MODEL_71e268528f514db7a44769ba20f4d78e",
        "IPY_MODEL_cd3b0dfacb0149afa8a7ba8347816864",
        "IPY_MODEL_b4e4aaa3b34042cbb203bf04f5e9881f",
        "IPY_MODEL_7968c808177f4bcca5b29f4816b07852"
       ],
       "layout": "IPY_MODEL_78dfd7e059f6492e8d758a3ce6ed3a13"
      }
     },
     "1b2d94c0d6524251bbd0ccaca1959cd0": {
      "model_module": "@jupyter-widgets/controls",
      "model_module_version": "1.5.0",
      "model_name": "ButtonStyleModel",
      "state": {}
     },
     "1bd045eb51f34081af07873f2e0174d6": {
      "model_module": "@jupyter-widgets/controls",
      "model_module_version": "1.5.0",
      "model_name": "DescriptionStyleModel",
      "state": {
       "description_width": ""
      }
     },
     "2d0de34d4c50413da7cef6221aef1ac9": {
      "model_module": "@jupyter-widgets/base",
      "model_module_version": "1.2.0",
      "model_name": "LayoutModel",
      "state": {
       "grid_area": "right",
       "padding": "0px 0px 0px 0px",
       "width": "70px"
      }
     },
     "3e12bc58c8fb435abec396cf5d7eda87": {
      "model_module": "@jupyter-widgets/base",
      "model_module_version": "1.2.0",
      "model_name": "LayoutModel",
      "state": {
       "margin": "0px 0px 10px 0px"
      }
     },
     "448df100c0024f0d8b9fcfc8573b706c": {
      "model_module": "@jupyter-widgets/controls",
      "model_module_version": "1.5.0",
      "model_name": "ButtonModel",
      "state": {
       "button_style": "primary",
       "description": "Clear",
       "layout": "IPY_MODEL_2d0de34d4c50413da7cef6221aef1ac9",
       "style": "IPY_MODEL_1b2d94c0d6524251bbd0ccaca1959cd0"
      }
     },
     "45e5f086f7b647c093a8caa387346426": {
      "model_module": "@jupyter-widgets/controls",
      "model_module_version": "1.5.0",
      "model_name": "DescriptionStyleModel",
      "state": {
       "description_width": ""
      }
     },
     "5b55696a7c744a8db6fdf34980eff560": {
      "model_module": "@jupyter-widgets/base",
      "model_module_version": "1.2.0",
      "model_name": "LayoutModel",
      "state": {}
     },
     "71e268528f514db7a44769ba20f4d78e": {
      "model_module": "@jupyter-widgets/controls",
      "model_module_version": "1.5.0",
      "model_name": "HTMLModel",
      "state": {
       "layout": "IPY_MODEL_00348725073c4cc1b5dd6a39f9e3cf46",
       "style": "IPY_MODEL_ac7108b04d304f3087836b982489c003",
       "value": "<h5>Backend</h5>"
      }
     },
     "78dfd7e059f6492e8d758a3ce6ed3a13": {
      "model_module": "@jupyter-widgets/base",
      "model_module_version": "1.2.0",
      "model_name": "LayoutModel",
      "state": {
       "margin": "0px 0px 0px 37px",
       "width": "600px"
      }
     },
     "7968c808177f4bcca5b29f4816b07852": {
      "model_module": "@jupyter-widgets/controls",
      "model_module_version": "1.5.0",
      "model_name": "HTMLModel",
      "state": {
       "layout": "IPY_MODEL_5b55696a7c744a8db6fdf34980eff560",
       "style": "IPY_MODEL_0e32d9ddd4bb4f5489b23353a4461773",
       "value": "<h5>Message</h5>"
      }
     },
     "931084bdd414478ab8aab3dec2ca5717": {
      "model_module": "@jupyter-widgets/base",
      "model_module_version": "1.2.0",
      "model_name": "LayoutModel",
      "state": {
       "width": "190px"
      }
     },
     "94b6ea807c314a9b8613a3b8b345867b": {
      "model_module": "@jupyter-widgets/controls",
      "model_module_version": "1.5.0",
      "model_name": "HTMLModel",
      "state": {
       "layout": "IPY_MODEL_3e12bc58c8fb435abec396cf5d7eda87",
       "style": "IPY_MODEL_45e5f086f7b647c093a8caa387346426",
       "value": "<p style='font-family: IBM Plex Sans, Arial, Helvetica, sans-serif; font-size: 20px; font-weight: medium;'>Circuit Properties</p>"
      }
     },
     "9c78cc5b6a16469fbe2c589cc1117200": {
      "model_module": "@jupyter-widgets/base",
      "model_module_version": "1.2.0",
      "model_name": "LayoutModel",
      "state": {
       "width": "70px"
      }
     },
     "a924ce727292416a9f8b8ebe54f1c703": {
      "model_module": "@jupyter-widgets/controls",
      "model_module_version": "1.5.0",
      "model_name": "DescriptionStyleModel",
      "state": {
       "description_width": ""
      }
     },
     "ac7108b04d304f3087836b982489c003": {
      "model_module": "@jupyter-widgets/controls",
      "model_module_version": "1.5.0",
      "model_name": "DescriptionStyleModel",
      "state": {
       "description_width": ""
      }
     },
     "b2ae2921623c4e7986cceb1040af016c": {
      "model_module": "@jupyter-widgets/base",
      "model_module_version": "1.2.0",
      "model_name": "LayoutModel",
      "state": {
       "grid_template_areas": "\n                                       \". . . . right \"\n                                        ",
       "grid_template_columns": "20% 20% 20% 20% 20%",
       "width": "100%"
      }
     },
     "b3a8fd31237f4edd937d7d78d79ef1b2": {
      "model_module": "@jupyter-widgets/controls",
      "model_module_version": "1.5.0",
      "model_name": "DescriptionStyleModel",
      "state": {
       "description_width": ""
      }
     },
     "b4e4aaa3b34042cbb203bf04f5e9881f": {
      "model_module": "@jupyter-widgets/controls",
      "model_module_version": "1.5.0",
      "model_name": "HTMLModel",
      "state": {
       "layout": "IPY_MODEL_9c78cc5b6a16469fbe2c589cc1117200",
       "style": "IPY_MODEL_a924ce727292416a9f8b8ebe54f1c703",
       "value": "<h5>Queue</h5>"
      }
     },
     "c2b8ed7f8e634f1aadbfa25a99b86c2d": {
      "model_module": "@jupyter-widgets/controls",
      "model_module_version": "1.5.0",
      "model_name": "HTMLModel",
      "state": {
       "layout": "IPY_MODEL_931084bdd414478ab8aab3dec2ca5717",
       "style": "IPY_MODEL_b3a8fd31237f4edd937d7d78d79ef1b2",
       "value": "<h5>Job ID</h5>"
      }
     },
     "cd3b0dfacb0149afa8a7ba8347816864": {
      "model_module": "@jupyter-widgets/controls",
      "model_module_version": "1.5.0",
      "model_name": "HTMLModel",
      "state": {
       "layout": "IPY_MODEL_06a9d9a283574cacbdc4cf3fc2b87be3",
       "style": "IPY_MODEL_1bd045eb51f34081af07873f2e0174d6",
       "value": "<h5>Status</h5>"
      }
     },
     "edc6f7599f014266b1ee911fbd5a5403": {
      "model_module": "@jupyter-widgets/controls",
      "model_module_version": "1.5.0",
      "model_name": "GridBoxModel",
      "state": {
       "children": [
        "IPY_MODEL_448df100c0024f0d8b9fcfc8573b706c"
       ],
       "layout": "IPY_MODEL_b2ae2921623c4e7986cceb1040af016c"
      }
     }
    },
    "version_major": 2,
    "version_minor": 0
   }
  }
 },
 "nbformat": 4,
 "nbformat_minor": 5
}
