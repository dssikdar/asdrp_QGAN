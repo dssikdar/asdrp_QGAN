{
  "nbformat": 4,
  "nbformat_minor": 0,
  "metadata": {
    "colab": {
      "name": "selfies.ipynb",
      "provenance": [],
      "collapsed_sections": []
    },
    "kernelspec": {
      "name": "python3",
      "display_name": "Python 3"
    },
    "language_info": {
      "name": "python"
    }
  },
  "cells": [
    {
      "cell_type": "markdown",
      "metadata": {
        "id": "sOzGqFVkZc2k"
      },
      "source": [
        "## Importing Libraries\n",
        "\n"
      ]
    },
    {
      "cell_type": "code",
      "metadata": {
        "colab": {
          "base_uri": "https://localhost:8080/"
        },
        "id": "Omk9jacUYZpc",
        "outputId": "1606a7b2-368c-4703-e22f-50e578b4e8a3"
      },
      "source": [
        "!pip install -q condacolab\n",
        "import condacolab\n",
        "condacolab.install()"
      ],
      "execution_count": 1,
      "outputs": [
        {
          "output_type": "stream",
          "name": "stdout",
          "text": [
            "✨🍰✨ Everything looks OK!\n"
          ]
        }
      ]
    },
    {
      "cell_type": "code",
      "metadata": {
        "colab": {
          "base_uri": "https://localhost:8080/"
        },
        "id": "r6H0WtdZ5uC5",
        "outputId": "bde6d6f7-409d-4aa1-e296-f103c6805772"
      },
      "source": [
        "!mamba install -c conda-forge rdkit"
      ],
      "execution_count": 2,
      "outputs": [
        {
          "output_type": "stream",
          "name": "stdout",
          "text": [
            "\n",
            "                  __    __    __    __\n",
            "                 /  \\  /  \\  /  \\  /  \\\n",
            "                /    \\/    \\/    \\/    \\\n",
            "███████████████/  /██/  /██/  /██/  /████████████████████████\n",
            "              /  / \\   / \\   / \\   / \\  \\____\n",
            "             /  /   \\_/   \\_/   \\_/   \\    o \\__,\n",
            "            / _/                       \\_____/  `\n",
            "            |/\n",
            "        ███╗   ███╗ █████╗ ███╗   ███╗██████╗  █████╗\n",
            "        ████╗ ████║██╔══██╗████╗ ████║██╔══██╗██╔══██╗\n",
            "        ██╔████╔██║███████║██╔████╔██║██████╔╝███████║\n",
            "        ██║╚██╔╝██║██╔══██║██║╚██╔╝██║██╔══██╗██╔══██║\n",
            "        ██║ ╚═╝ ██║██║  ██║██║ ╚═╝ ██║██████╔╝██║  ██║\n",
            "        ╚═╝     ╚═╝╚═╝  ╚═╝╚═╝     ╚═╝╚═════╝ ╚═╝  ╚═╝\n",
            "\n",
            "        mamba (0.8.0) supported by @QuantStack\n",
            "\n",
            "        GitHub:  https://github.com/mamba-org/mamba\n",
            "        Twitter: https://twitter.com/QuantStack\n",
            "\n",
            "█████████████████████████████████████████████████████████████\n",
            "\n",
            "\n",
            "Looking for: ['rdkit']\n",
            "\n",
            "conda-forge/linux-64     Using cache\n",
            "conda-forge/noarch       Using cache\n",
            "pkgs/main/linux-64       [] (--:--) No change\n",
            "pkgs/main/linux-64       [] (00m:00s) No change\n",
            "pkgs/main/linux-64       [] (00m:00s) No change\n",
            "pkgs/main/noarch         [] (--:--) No change\n",
            "pkgs/main/noarch         [] (00m:00s) No change\n",
            "pkgs/main/noarch         [] (00m:00s) No change\n",
            "pkgs/r/linux-64          [] (--:--) No change\n",
            "pkgs/r/linux-64          [] (00m:00s) No change\n",
            "pkgs/r/linux-64          [] (00m:00s) No change\n",
            "pkgs/r/noarch            [] (--:--) No change\n",
            "pkgs/r/noarch            [] (00m:00s) No change\n",
            "pkgs/r/noarch            [] (00m:00s) No change\n",
            "Transaction\n",
            "\n",
            "  Prefix: /usr/local\n",
            "\n",
            "  All requested packages already installed\n",
            "\n"
          ]
        }
      ]
    },
    {
      "cell_type": "code",
      "metadata": {
        "id": "YJWfOJVgocgn",
        "colab": {
          "base_uri": "https://localhost:8080/"
        },
        "outputId": "b2d7326c-41d2-4fe9-cd03-31db67a0ba2b"
      },
      "source": [
        "!pip install selfies\n",
        "!pip install pubchempy"
      ],
      "execution_count": 3,
      "outputs": [
        {
          "output_type": "stream",
          "name": "stdout",
          "text": [
            "Requirement already satisfied: selfies in /usr/local/lib/python3.7/site-packages (2.0.0)\n",
            "Requirement already satisfied: pubchempy in /usr/local/lib/python3.7/site-packages (1.0.4)\n"
          ]
        }
      ]
    },
    {
      "cell_type": "code",
      "metadata": {
        "id": "1NovE6_oYfcy"
      },
      "source": [
        "import selfies as sf\n",
        "import pandas as pd\n",
        "import pubchempy as pcp\n",
        "from rdkit import Chem\n",
        "from rdkit.Chem import rdMolDescriptors as rmd"
      ],
      "execution_count": 4,
      "outputs": []
    },
    {
      "cell_type": "markdown",
      "metadata": {
        "id": "OLnfvz-RZiFf"
      },
      "source": [
        "## Testing Encoding and Decoding on One Smiles Molecule"
      ]
    },
    {
      "cell_type": "code",
      "metadata": {
        "id": "cICrlUHLYkVY"
      },
      "source": [
        "original_smiles = \"CC(C)O\""
      ],
      "execution_count": 5,
      "outputs": []
    },
    {
      "cell_type": "code",
      "metadata": {
        "id": "L-SNcRLNY6CU"
      },
      "source": [
        "encoded_selfies = sf.encoder(original_smiles)\n",
        "decoded_smiles = sf.decoder(encoded_selfies)"
      ],
      "execution_count": 6,
      "outputs": []
    },
    {
      "cell_type": "code",
      "metadata": {
        "id": "TzZOVb0aY7SH",
        "colab": {
          "base_uri": "https://localhost:8080/"
        },
        "outputId": "baa036bd-7b76-4656-a172-cd2e25cf9601"
      },
      "source": [
        "print(encoded_selfies)\n",
        "print(decoded_smiles)"
      ],
      "execution_count": 7,
      "outputs": [
        {
          "output_type": "stream",
          "name": "stdout",
          "text": [
            "[C][C][Branch1][C][C][O]\n",
            "CC(C)O\n"
          ]
        }
      ]
    },
    {
      "cell_type": "markdown",
      "metadata": {
        "id": "0lIkH6giZsji"
      },
      "source": [
        "## Preprocessing QM9 Smiles Dataset"
      ]
    },
    {
      "cell_type": "code",
      "metadata": {
        "id": "xw3WhocTaYnx"
      },
      "source": [
        "smiles_df = pd.read_csv(\"OriginalSMILES_QM9.csv\")"
      ],
      "execution_count": 8,
      "outputs": []
    },
    {
      "cell_type": "code",
      "metadata": {
        "id": "BCmx4Eq5ag7w"
      },
      "source": [
        "smiles_df = smiles_df.drop('idx', axis=1)"
      ],
      "execution_count": 9,
      "outputs": []
    },
    {
      "cell_type": "code",
      "metadata": {
        "id": "EtXB5Ny6LJos",
        "colab": {
          "base_uri": "https://localhost:8080/",
          "height": 424
        },
        "outputId": "43de39a8-712d-4cc5-cc46-c5dfb02b73ff"
      },
      "source": [
        "smiles_df"
      ],
      "execution_count": 10,
      "outputs": [
        {
          "output_type": "execute_result",
          "data": {
            "text/html": [
              "<div>\n",
              "<style scoped>\n",
              "    .dataframe tbody tr th:only-of-type {\n",
              "        vertical-align: middle;\n",
              "    }\n",
              "\n",
              "    .dataframe tbody tr th {\n",
              "        vertical-align: top;\n",
              "    }\n",
              "\n",
              "    .dataframe thead th {\n",
              "        text-align: right;\n",
              "    }\n",
              "</style>\n",
              "<table border=\"1\" class=\"dataframe\">\n",
              "  <thead>\n",
              "    <tr style=\"text-align: right;\">\n",
              "      <th></th>\n",
              "      <th>smiles</th>\n",
              "    </tr>\n",
              "  </thead>\n",
              "  <tbody>\n",
              "    <tr>\n",
              "      <th>0</th>\n",
              "      <td>C</td>\n",
              "    </tr>\n",
              "    <tr>\n",
              "      <th>1</th>\n",
              "      <td>N</td>\n",
              "    </tr>\n",
              "    <tr>\n",
              "      <th>2</th>\n",
              "      <td>O</td>\n",
              "    </tr>\n",
              "    <tr>\n",
              "      <th>3</th>\n",
              "      <td>C#C</td>\n",
              "    </tr>\n",
              "    <tr>\n",
              "      <th>4</th>\n",
              "      <td>C#N</td>\n",
              "    </tr>\n",
              "    <tr>\n",
              "      <th>...</th>\n",
              "      <td>...</td>\n",
              "    </tr>\n",
              "    <tr>\n",
              "      <th>132035</th>\n",
              "      <td>C1C2C3C4C5OC14C5N23</td>\n",
              "    </tr>\n",
              "    <tr>\n",
              "      <th>132036</th>\n",
              "      <td>C1N2C3C2C2C4OC12C34</td>\n",
              "    </tr>\n",
              "    <tr>\n",
              "      <th>132037</th>\n",
              "      <td>C1N2C3C4C5C2C13CN45</td>\n",
              "    </tr>\n",
              "    <tr>\n",
              "      <th>132038</th>\n",
              "      <td>C1N2C3C4C5CC13C2C45</td>\n",
              "    </tr>\n",
              "    <tr>\n",
              "      <th>132039</th>\n",
              "      <td>C1N2C3C4C5OC13C2C45</td>\n",
              "    </tr>\n",
              "  </tbody>\n",
              "</table>\n",
              "<p>132040 rows × 1 columns</p>\n",
              "</div>"
            ],
            "text/plain": [
              "                     smiles\n",
              "0                         C\n",
              "1                         N\n",
              "2                         O\n",
              "3                       C#C\n",
              "4                       C#N\n",
              "...                     ...\n",
              "132035  C1C2C3C4C5OC14C5N23\n",
              "132036  C1N2C3C2C2C4OC12C34\n",
              "132037  C1N2C3C4C5C2C13CN45\n",
              "132038  C1N2C3C4C5CC13C2C45\n",
              "132039  C1N2C3C4C5OC13C2C45\n",
              "\n",
              "[132040 rows x 1 columns]"
            ]
          },
          "metadata": {},
          "execution_count": 10
        }
      ]
    },
    {
      "cell_type": "markdown",
      "metadata": {
        "id": "iXc6El1wM4oi"
      },
      "source": [
        "### Finding the Count of C, N, O, F in Each Compound"
      ]
    },
    {
      "cell_type": "code",
      "metadata": {
        "id": "oDfqcRRyLQLV"
      },
      "source": [
        "carbons = [] # lists to store number of each element in each compound\n",
        "nitrogens = []\n",
        "oxygens = []\n",
        "fluorines = []\n",
        "\n",
        "for i in range(len(smiles_df)): # goes through each molecule, converts to all lowercase, and appends count of each element\n",
        "  molecule = smiles_df['smiles'][i].lower()\n",
        "  carbons.append(molecule.count('c'))\n",
        "  nitrogens.append(molecule.count('n'))\n",
        "  oxygens.append(molecule.count('o'))\n",
        "  fluorines.append(molecule.count('f'))"
      ],
      "execution_count": 11,
      "outputs": []
    },
    {
      "cell_type": "code",
      "metadata": {
        "id": "_JKmAR73OtWy"
      },
      "source": [
        "smiles_df['carbons'] = carbons # add count to dataframe\n",
        "smiles_df['nitrogens'] = nitrogens\n",
        "smiles_df['oxygens'] = oxygens\n",
        "smiles_df['fluorines'] = fluorines"
      ],
      "execution_count": 12,
      "outputs": []
    },
    {
      "cell_type": "markdown",
      "metadata": {
        "id": "Q6vutMuWKMEX"
      },
      "source": [
        "### Finding Count of H in Each Compound"
      ]
    },
    {
      "cell_type": "markdown",
      "metadata": {
        "id": "lfHue0OnK9G8"
      },
      "source": [
        "#### Get Molecular Formula of SMILES Molecule"
      ]
    },
    {
      "cell_type": "code",
      "metadata": {
        "id": "2UTVBrkaKTNV"
      },
      "source": [
        "hydrogens = [] # list to store number of hydrogrens in each compound\n",
        "\n",
        "for i in range(len(smiles_df)): # goes through each molecule and gets molecular formula\n",
        "  smiles = smiles_df['smiles'][i]\n",
        "  compound = Chem.MolFromSmiles(smiles) # finds the molecular formula of the smiles\n",
        "  compound = rmd.CalcMolFormula(compound)\n",
        "  \n",
        "  countH = 0\n",
        "  for i in range(len(compound)):\n",
        "    if compound[i] == 'H':\n",
        "      idx = 1\n",
        "      countStr = ''\n",
        "      while (ord(compound[i + idx]) >= 48 and ord(compound[i + idx]) <= 57):\n",
        "        countStr += compound[i + idx]\n",
        "        if ((i + idx + 1) == len(compound)):\n",
        "          break\n",
        "        idx += 1\n",
        "      if (countStr == ''):\n",
        "        countH = 1\n",
        "      else:\n",
        "        countH = int(countStr)\n",
        "      break\n",
        "  hydrogens.append(countH)\n",
        "\n",
        "smiles_df['hydrogens'] = hydrogens"
      ],
      "execution_count": 13,
      "outputs": []
    },
    {
      "cell_type": "code",
      "metadata": {
        "id": "AUgmai8xPAJi",
        "colab": {
          "base_uri": "https://localhost:8080/",
          "height": 424
        },
        "outputId": "6a9ec692-2021-4246-ec8c-2d18814a8a15"
      },
      "source": [
        "smiles_df"
      ],
      "execution_count": 14,
      "outputs": [
        {
          "output_type": "execute_result",
          "data": {
            "text/html": [
              "<div>\n",
              "<style scoped>\n",
              "    .dataframe tbody tr th:only-of-type {\n",
              "        vertical-align: middle;\n",
              "    }\n",
              "\n",
              "    .dataframe tbody tr th {\n",
              "        vertical-align: top;\n",
              "    }\n",
              "\n",
              "    .dataframe thead th {\n",
              "        text-align: right;\n",
              "    }\n",
              "</style>\n",
              "<table border=\"1\" class=\"dataframe\">\n",
              "  <thead>\n",
              "    <tr style=\"text-align: right;\">\n",
              "      <th></th>\n",
              "      <th>smiles</th>\n",
              "      <th>carbons</th>\n",
              "      <th>nitrogens</th>\n",
              "      <th>oxygens</th>\n",
              "      <th>fluorines</th>\n",
              "      <th>hydrogens</th>\n",
              "    </tr>\n",
              "  </thead>\n",
              "  <tbody>\n",
              "    <tr>\n",
              "      <th>0</th>\n",
              "      <td>C</td>\n",
              "      <td>1</td>\n",
              "      <td>0</td>\n",
              "      <td>0</td>\n",
              "      <td>0</td>\n",
              "      <td>4</td>\n",
              "    </tr>\n",
              "    <tr>\n",
              "      <th>1</th>\n",
              "      <td>N</td>\n",
              "      <td>0</td>\n",
              "      <td>1</td>\n",
              "      <td>0</td>\n",
              "      <td>0</td>\n",
              "      <td>3</td>\n",
              "    </tr>\n",
              "    <tr>\n",
              "      <th>2</th>\n",
              "      <td>O</td>\n",
              "      <td>0</td>\n",
              "      <td>0</td>\n",
              "      <td>1</td>\n",
              "      <td>0</td>\n",
              "      <td>2</td>\n",
              "    </tr>\n",
              "    <tr>\n",
              "      <th>3</th>\n",
              "      <td>C#C</td>\n",
              "      <td>2</td>\n",
              "      <td>0</td>\n",
              "      <td>0</td>\n",
              "      <td>0</td>\n",
              "      <td>2</td>\n",
              "    </tr>\n",
              "    <tr>\n",
              "      <th>4</th>\n",
              "      <td>C#N</td>\n",
              "      <td>1</td>\n",
              "      <td>1</td>\n",
              "      <td>0</td>\n",
              "      <td>0</td>\n",
              "      <td>1</td>\n",
              "    </tr>\n",
              "    <tr>\n",
              "      <th>...</th>\n",
              "      <td>...</td>\n",
              "      <td>...</td>\n",
              "      <td>...</td>\n",
              "      <td>...</td>\n",
              "      <td>...</td>\n",
              "      <td>...</td>\n",
              "    </tr>\n",
              "    <tr>\n",
              "      <th>132035</th>\n",
              "      <td>C1C2C3C4C5OC14C5N23</td>\n",
              "      <td>7</td>\n",
              "      <td>1</td>\n",
              "      <td>1</td>\n",
              "      <td>0</td>\n",
              "      <td>7</td>\n",
              "    </tr>\n",
              "    <tr>\n",
              "      <th>132036</th>\n",
              "      <td>C1N2C3C2C2C4OC12C34</td>\n",
              "      <td>7</td>\n",
              "      <td>1</td>\n",
              "      <td>1</td>\n",
              "      <td>0</td>\n",
              "      <td>7</td>\n",
              "    </tr>\n",
              "    <tr>\n",
              "      <th>132037</th>\n",
              "      <td>C1N2C3C4C5C2C13CN45</td>\n",
              "      <td>7</td>\n",
              "      <td>2</td>\n",
              "      <td>0</td>\n",
              "      <td>0</td>\n",
              "      <td>8</td>\n",
              "    </tr>\n",
              "    <tr>\n",
              "      <th>132038</th>\n",
              "      <td>C1N2C3C4C5CC13C2C45</td>\n",
              "      <td>8</td>\n",
              "      <td>1</td>\n",
              "      <td>0</td>\n",
              "      <td>0</td>\n",
              "      <td>9</td>\n",
              "    </tr>\n",
              "    <tr>\n",
              "      <th>132039</th>\n",
              "      <td>C1N2C3C4C5OC13C2C45</td>\n",
              "      <td>7</td>\n",
              "      <td>1</td>\n",
              "      <td>1</td>\n",
              "      <td>0</td>\n",
              "      <td>7</td>\n",
              "    </tr>\n",
              "  </tbody>\n",
              "</table>\n",
              "<p>132040 rows × 6 columns</p>\n",
              "</div>"
            ],
            "text/plain": [
              "                     smiles  carbons  nitrogens  oxygens  fluorines  hydrogens\n",
              "0                         C        1          0        0          0          4\n",
              "1                         N        0          1        0          0          3\n",
              "2                         O        0          0        1          0          2\n",
              "3                       C#C        2          0        0          0          2\n",
              "4                       C#N        1          1        0          0          1\n",
              "...                     ...      ...        ...      ...        ...        ...\n",
              "132035  C1C2C3C4C5OC14C5N23        7          1        1          0          7\n",
              "132036  C1N2C3C2C2C4OC12C34        7          1        1          0          7\n",
              "132037  C1N2C3C4C5C2C13CN45        7          2        0          0          8\n",
              "132038  C1N2C3C4C5CC13C2C45        8          1        0          0          9\n",
              "132039  C1N2C3C4C5OC13C2C45        7          1        1          0          7\n",
              "\n",
              "[132040 rows x 6 columns]"
            ]
          },
          "metadata": {},
          "execution_count": 14
        }
      ]
    },
    {
      "cell_type": "code",
      "metadata": {
        "id": "78wZkLQwxSRN"
      },
      "source": [
        "smiles_df = smiles_df.drop(smiles_df[smiles_df.fluorines > 0].index) # drop all data points with atleast one fluorine"
      ],
      "execution_count": 15,
      "outputs": []
    },
    {
      "cell_type": "code",
      "metadata": {
        "id": "RVcoatVqyBpr",
        "colab": {
          "base_uri": "https://localhost:8080/",
          "height": 424
        },
        "outputId": "27e87737-dd4a-4700-fda0-7f03d774b350"
      },
      "source": [
        "smiles_df"
      ],
      "execution_count": 16,
      "outputs": [
        {
          "output_type": "execute_result",
          "data": {
            "text/html": [
              "<div>\n",
              "<style scoped>\n",
              "    .dataframe tbody tr th:only-of-type {\n",
              "        vertical-align: middle;\n",
              "    }\n",
              "\n",
              "    .dataframe tbody tr th {\n",
              "        vertical-align: top;\n",
              "    }\n",
              "\n",
              "    .dataframe thead th {\n",
              "        text-align: right;\n",
              "    }\n",
              "</style>\n",
              "<table border=\"1\" class=\"dataframe\">\n",
              "  <thead>\n",
              "    <tr style=\"text-align: right;\">\n",
              "      <th></th>\n",
              "      <th>smiles</th>\n",
              "      <th>carbons</th>\n",
              "      <th>nitrogens</th>\n",
              "      <th>oxygens</th>\n",
              "      <th>fluorines</th>\n",
              "      <th>hydrogens</th>\n",
              "    </tr>\n",
              "  </thead>\n",
              "  <tbody>\n",
              "    <tr>\n",
              "      <th>0</th>\n",
              "      <td>C</td>\n",
              "      <td>1</td>\n",
              "      <td>0</td>\n",
              "      <td>0</td>\n",
              "      <td>0</td>\n",
              "      <td>4</td>\n",
              "    </tr>\n",
              "    <tr>\n",
              "      <th>1</th>\n",
              "      <td>N</td>\n",
              "      <td>0</td>\n",
              "      <td>1</td>\n",
              "      <td>0</td>\n",
              "      <td>0</td>\n",
              "      <td>3</td>\n",
              "    </tr>\n",
              "    <tr>\n",
              "      <th>2</th>\n",
              "      <td>O</td>\n",
              "      <td>0</td>\n",
              "      <td>0</td>\n",
              "      <td>1</td>\n",
              "      <td>0</td>\n",
              "      <td>2</td>\n",
              "    </tr>\n",
              "    <tr>\n",
              "      <th>3</th>\n",
              "      <td>C#C</td>\n",
              "      <td>2</td>\n",
              "      <td>0</td>\n",
              "      <td>0</td>\n",
              "      <td>0</td>\n",
              "      <td>2</td>\n",
              "    </tr>\n",
              "    <tr>\n",
              "      <th>4</th>\n",
              "      <td>C#N</td>\n",
              "      <td>1</td>\n",
              "      <td>1</td>\n",
              "      <td>0</td>\n",
              "      <td>0</td>\n",
              "      <td>1</td>\n",
              "    </tr>\n",
              "    <tr>\n",
              "      <th>...</th>\n",
              "      <td>...</td>\n",
              "      <td>...</td>\n",
              "      <td>...</td>\n",
              "      <td>...</td>\n",
              "      <td>...</td>\n",
              "      <td>...</td>\n",
              "    </tr>\n",
              "    <tr>\n",
              "      <th>132035</th>\n",
              "      <td>C1C2C3C4C5OC14C5N23</td>\n",
              "      <td>7</td>\n",
              "      <td>1</td>\n",
              "      <td>1</td>\n",
              "      <td>0</td>\n",
              "      <td>7</td>\n",
              "    </tr>\n",
              "    <tr>\n",
              "      <th>132036</th>\n",
              "      <td>C1N2C3C2C2C4OC12C34</td>\n",
              "      <td>7</td>\n",
              "      <td>1</td>\n",
              "      <td>1</td>\n",
              "      <td>0</td>\n",
              "      <td>7</td>\n",
              "    </tr>\n",
              "    <tr>\n",
              "      <th>132037</th>\n",
              "      <td>C1N2C3C4C5C2C13CN45</td>\n",
              "      <td>7</td>\n",
              "      <td>2</td>\n",
              "      <td>0</td>\n",
              "      <td>0</td>\n",
              "      <td>8</td>\n",
              "    </tr>\n",
              "    <tr>\n",
              "      <th>132038</th>\n",
              "      <td>C1N2C3C4C5CC13C2C45</td>\n",
              "      <td>8</td>\n",
              "      <td>1</td>\n",
              "      <td>0</td>\n",
              "      <td>0</td>\n",
              "      <td>9</td>\n",
              "    </tr>\n",
              "    <tr>\n",
              "      <th>132039</th>\n",
              "      <td>C1N2C3C4C5OC13C2C45</td>\n",
              "      <td>7</td>\n",
              "      <td>1</td>\n",
              "      <td>1</td>\n",
              "      <td>0</td>\n",
              "      <td>7</td>\n",
              "    </tr>\n",
              "  </tbody>\n",
              "</table>\n",
              "<p>129885 rows × 6 columns</p>\n",
              "</div>"
            ],
            "text/plain": [
              "                     smiles  carbons  nitrogens  oxygens  fluorines  hydrogens\n",
              "0                         C        1          0        0          0          4\n",
              "1                         N        0          1        0          0          3\n",
              "2                         O        0          0        1          0          2\n",
              "3                       C#C        2          0        0          0          2\n",
              "4                       C#N        1          1        0          0          1\n",
              "...                     ...      ...        ...      ...        ...        ...\n",
              "132035  C1C2C3C4C5OC14C5N23        7          1        1          0          7\n",
              "132036  C1N2C3C2C2C4OC12C34        7          1        1          0          7\n",
              "132037  C1N2C3C4C5C2C13CN45        7          2        0          0          8\n",
              "132038  C1N2C3C4C5CC13C2C45        8          1        0          0          9\n",
              "132039  C1N2C3C4C5OC13C2C45        7          1        1          0          7\n",
              "\n",
              "[129885 rows x 6 columns]"
            ]
          },
          "metadata": {},
          "execution_count": 16
        }
      ]
    },
    {
      "cell_type": "code",
      "metadata": {
        "id": "hzC4HJrxxutu"
      },
      "source": [
        "smiles_df = smiles_df.drop(columns='fluorines')"
      ],
      "execution_count": 17,
      "outputs": []
    },
    {
      "cell_type": "code",
      "metadata": {
        "id": "MFXd8gFd0Xlg"
      },
      "source": [
        "smiles_df = smiles_df.reset_index()"
      ],
      "execution_count": 18,
      "outputs": []
    },
    {
      "cell_type": "code",
      "metadata": {
        "id": "Eyq0StB90efO"
      },
      "source": [
        "smiles_df = smiles_df.drop('index', axis=1)"
      ],
      "execution_count": 19,
      "outputs": []
    },
    {
      "cell_type": "code",
      "metadata": {
        "id": "JdsPGtE9UZcH",
        "colab": {
          "base_uri": "https://localhost:8080/",
          "height": 424
        },
        "outputId": "2be071bb-1549-430d-f0ef-8395f86e61e2"
      },
      "source": [
        "smiles_df"
      ],
      "execution_count": 20,
      "outputs": [
        {
          "output_type": "execute_result",
          "data": {
            "text/html": [
              "<div>\n",
              "<style scoped>\n",
              "    .dataframe tbody tr th:only-of-type {\n",
              "        vertical-align: middle;\n",
              "    }\n",
              "\n",
              "    .dataframe tbody tr th {\n",
              "        vertical-align: top;\n",
              "    }\n",
              "\n",
              "    .dataframe thead th {\n",
              "        text-align: right;\n",
              "    }\n",
              "</style>\n",
              "<table border=\"1\" class=\"dataframe\">\n",
              "  <thead>\n",
              "    <tr style=\"text-align: right;\">\n",
              "      <th></th>\n",
              "      <th>smiles</th>\n",
              "      <th>carbons</th>\n",
              "      <th>nitrogens</th>\n",
              "      <th>oxygens</th>\n",
              "      <th>hydrogens</th>\n",
              "    </tr>\n",
              "  </thead>\n",
              "  <tbody>\n",
              "    <tr>\n",
              "      <th>0</th>\n",
              "      <td>C</td>\n",
              "      <td>1</td>\n",
              "      <td>0</td>\n",
              "      <td>0</td>\n",
              "      <td>4</td>\n",
              "    </tr>\n",
              "    <tr>\n",
              "      <th>1</th>\n",
              "      <td>N</td>\n",
              "      <td>0</td>\n",
              "      <td>1</td>\n",
              "      <td>0</td>\n",
              "      <td>3</td>\n",
              "    </tr>\n",
              "    <tr>\n",
              "      <th>2</th>\n",
              "      <td>O</td>\n",
              "      <td>0</td>\n",
              "      <td>0</td>\n",
              "      <td>1</td>\n",
              "      <td>2</td>\n",
              "    </tr>\n",
              "    <tr>\n",
              "      <th>3</th>\n",
              "      <td>C#C</td>\n",
              "      <td>2</td>\n",
              "      <td>0</td>\n",
              "      <td>0</td>\n",
              "      <td>2</td>\n",
              "    </tr>\n",
              "    <tr>\n",
              "      <th>4</th>\n",
              "      <td>C#N</td>\n",
              "      <td>1</td>\n",
              "      <td>1</td>\n",
              "      <td>0</td>\n",
              "      <td>1</td>\n",
              "    </tr>\n",
              "    <tr>\n",
              "      <th>...</th>\n",
              "      <td>...</td>\n",
              "      <td>...</td>\n",
              "      <td>...</td>\n",
              "      <td>...</td>\n",
              "      <td>...</td>\n",
              "    </tr>\n",
              "    <tr>\n",
              "      <th>129880</th>\n",
              "      <td>C1C2C3C4C5OC14C5N23</td>\n",
              "      <td>7</td>\n",
              "      <td>1</td>\n",
              "      <td>1</td>\n",
              "      <td>7</td>\n",
              "    </tr>\n",
              "    <tr>\n",
              "      <th>129881</th>\n",
              "      <td>C1N2C3C2C2C4OC12C34</td>\n",
              "      <td>7</td>\n",
              "      <td>1</td>\n",
              "      <td>1</td>\n",
              "      <td>7</td>\n",
              "    </tr>\n",
              "    <tr>\n",
              "      <th>129882</th>\n",
              "      <td>C1N2C3C4C5C2C13CN45</td>\n",
              "      <td>7</td>\n",
              "      <td>2</td>\n",
              "      <td>0</td>\n",
              "      <td>8</td>\n",
              "    </tr>\n",
              "    <tr>\n",
              "      <th>129883</th>\n",
              "      <td>C1N2C3C4C5CC13C2C45</td>\n",
              "      <td>8</td>\n",
              "      <td>1</td>\n",
              "      <td>0</td>\n",
              "      <td>9</td>\n",
              "    </tr>\n",
              "    <tr>\n",
              "      <th>129884</th>\n",
              "      <td>C1N2C3C4C5OC13C2C45</td>\n",
              "      <td>7</td>\n",
              "      <td>1</td>\n",
              "      <td>1</td>\n",
              "      <td>7</td>\n",
              "    </tr>\n",
              "  </tbody>\n",
              "</table>\n",
              "<p>129885 rows × 5 columns</p>\n",
              "</div>"
            ],
            "text/plain": [
              "                     smiles  carbons  nitrogens  oxygens  hydrogens\n",
              "0                         C        1          0        0          4\n",
              "1                         N        0          1        0          3\n",
              "2                         O        0          0        1          2\n",
              "3                       C#C        2          0        0          2\n",
              "4                       C#N        1          1        0          1\n",
              "...                     ...      ...        ...      ...        ...\n",
              "129880  C1C2C3C4C5OC14C5N23        7          1        1          7\n",
              "129881  C1N2C3C2C2C4OC12C34        7          1        1          7\n",
              "129882  C1N2C3C4C5C2C13CN45        7          2        0          8\n",
              "129883  C1N2C3C4C5CC13C2C45        8          1        0          9\n",
              "129884  C1N2C3C4C5OC13C2C45        7          1        1          7\n",
              "\n",
              "[129885 rows x 5 columns]"
            ]
          },
          "metadata": {},
          "execution_count": 20
        }
      ]
    },
    {
      "cell_type": "code",
      "metadata": {
        "id": "P_EslZqDPpw6"
      },
      "source": [
        "smiles_csv_data = smiles_df.to_csv('SMILES_QM9.csv', index = True) # save updated dataframe as a csv file"
      ],
      "execution_count": 21,
      "outputs": []
    },
    {
      "cell_type": "markdown",
      "metadata": {
        "id": "9vSF9GDSRlf9"
      },
      "source": [
        "### Finding Max of Each Element"
      ]
    },
    {
      "cell_type": "code",
      "metadata": {
        "id": "XebfcSZhRr3c",
        "colab": {
          "base_uri": "https://localhost:8080/"
        },
        "outputId": "26cf15d4-b569-4708-c22f-521a8abb0b45"
      },
      "source": [
        "carbon_max = smiles_df['carbons'].max()\n",
        "nitrogen_max = smiles_df['nitrogens'].max()\n",
        "oxygen_max = smiles_df['oxygens'].max()\n",
        "hydrogen_max = smiles_df['hydrogens'].max()\n",
        "\n",
        "print(f'Max Carbons: {carbon_max}')\n",
        "print(f'Max Nitrogens: {nitrogen_max}')\n",
        "print(f'Max Oxygens: {oxygen_max}')\n",
        "print(f'Max Hydrogens: {hydrogen_max}')"
      ],
      "execution_count": 22,
      "outputs": [
        {
          "output_type": "stream",
          "name": "stdout",
          "text": [
            "Max Carbons: 9\n",
            "Max Nitrogens: 7\n",
            "Max Oxygens: 5\n",
            "Max Hydrogens: 20\n"
          ]
        }
      ]
    },
    {
      "cell_type": "markdown",
      "metadata": {
        "id": "wqVfHTRSQbbC"
      },
      "source": [
        "## Coverting Smiles Dataset to Selfies Dataset"
      ]
    },
    {
      "cell_type": "code",
      "metadata": {
        "id": "_qdrZ4pJbNWV"
      },
      "source": [
        "smiles_dataset = smiles_df['smiles'].values.tolist()"
      ],
      "execution_count": 23,
      "outputs": []
    },
    {
      "cell_type": "code",
      "metadata": {
        "id": "klxehp9KZT8U"
      },
      "source": [
        "selfies_dataset = list(map(sf.encoder, smiles_dataset))"
      ],
      "execution_count": 24,
      "outputs": []
    },
    {
      "cell_type": "code",
      "metadata": {
        "id": "42LHmHjrc5Ud"
      },
      "source": [
        "selfies_df = pd.DataFrame(selfies_dataset, columns = ['selfies'])\n",
        "selfies_df['carbons'] = smiles_df['carbons'].values.tolist() # add count to dataframe\n",
        "selfies_df['nitrogens'] = smiles_df['nitrogens'].values.tolist()\n",
        "selfies_df['oxygens'] = smiles_df['oxygens'].values.tolist()\n",
        "selfies_df['hydrogens'] = smiles_df['hydrogens'].values.tolist()"
      ],
      "execution_count": 25,
      "outputs": []
    },
    {
      "cell_type": "code",
      "metadata": {
        "id": "t3Ehwx4Ddw20",
        "colab": {
          "base_uri": "https://localhost:8080/",
          "height": 424
        },
        "outputId": "1ae07d71-7555-4d8b-b210-58ef41fd932f"
      },
      "source": [
        "selfies_df"
      ],
      "execution_count": 26,
      "outputs": [
        {
          "output_type": "execute_result",
          "data": {
            "text/html": [
              "<div>\n",
              "<style scoped>\n",
              "    .dataframe tbody tr th:only-of-type {\n",
              "        vertical-align: middle;\n",
              "    }\n",
              "\n",
              "    .dataframe tbody tr th {\n",
              "        vertical-align: top;\n",
              "    }\n",
              "\n",
              "    .dataframe thead th {\n",
              "        text-align: right;\n",
              "    }\n",
              "</style>\n",
              "<table border=\"1\" class=\"dataframe\">\n",
              "  <thead>\n",
              "    <tr style=\"text-align: right;\">\n",
              "      <th></th>\n",
              "      <th>selfies</th>\n",
              "      <th>carbons</th>\n",
              "      <th>nitrogens</th>\n",
              "      <th>oxygens</th>\n",
              "      <th>hydrogens</th>\n",
              "    </tr>\n",
              "  </thead>\n",
              "  <tbody>\n",
              "    <tr>\n",
              "      <th>0</th>\n",
              "      <td>[C]</td>\n",
              "      <td>1</td>\n",
              "      <td>0</td>\n",
              "      <td>0</td>\n",
              "      <td>4</td>\n",
              "    </tr>\n",
              "    <tr>\n",
              "      <th>1</th>\n",
              "      <td>[N]</td>\n",
              "      <td>0</td>\n",
              "      <td>1</td>\n",
              "      <td>0</td>\n",
              "      <td>3</td>\n",
              "    </tr>\n",
              "    <tr>\n",
              "      <th>2</th>\n",
              "      <td>[O]</td>\n",
              "      <td>0</td>\n",
              "      <td>0</td>\n",
              "      <td>1</td>\n",
              "      <td>2</td>\n",
              "    </tr>\n",
              "    <tr>\n",
              "      <th>3</th>\n",
              "      <td>[C][#C]</td>\n",
              "      <td>2</td>\n",
              "      <td>0</td>\n",
              "      <td>0</td>\n",
              "      <td>2</td>\n",
              "    </tr>\n",
              "    <tr>\n",
              "      <th>4</th>\n",
              "      <td>[C][#N]</td>\n",
              "      <td>1</td>\n",
              "      <td>1</td>\n",
              "      <td>0</td>\n",
              "      <td>1</td>\n",
              "    </tr>\n",
              "    <tr>\n",
              "      <th>...</th>\n",
              "      <td>...</td>\n",
              "      <td>...</td>\n",
              "      <td>...</td>\n",
              "      <td>...</td>\n",
              "      <td>...</td>\n",
              "    </tr>\n",
              "    <tr>\n",
              "      <th>129880</th>\n",
              "      <td>[C][C][C][C][C][O][C][Ring1][#Branch1][Ring1][...</td>\n",
              "      <td>7</td>\n",
              "      <td>1</td>\n",
              "      <td>1</td>\n",
              "      <td>7</td>\n",
              "    </tr>\n",
              "    <tr>\n",
              "      <th>129881</th>\n",
              "      <td>[C][N][C][C][Ring1][Ring1][C][C][O][C][Ring1][...</td>\n",
              "      <td>7</td>\n",
              "      <td>1</td>\n",
              "      <td>1</td>\n",
              "      <td>7</td>\n",
              "    </tr>\n",
              "    <tr>\n",
              "      <th>129882</th>\n",
              "      <td>[C][N][C][C][C][C][Ring1][Branch1][C][Ring1][#...</td>\n",
              "      <td>7</td>\n",
              "      <td>2</td>\n",
              "      <td>0</td>\n",
              "      <td>8</td>\n",
              "    </tr>\n",
              "    <tr>\n",
              "      <th>129883</th>\n",
              "      <td>[C][N][C][C][C][C][C][Ring1][#Branch1][Ring1][...</td>\n",
              "      <td>8</td>\n",
              "      <td>1</td>\n",
              "      <td>0</td>\n",
              "      <td>9</td>\n",
              "    </tr>\n",
              "    <tr>\n",
              "      <th>129884</th>\n",
              "      <td>[C][N][C][C][C][O][C][Ring1][#Branch1][Ring1][...</td>\n",
              "      <td>7</td>\n",
              "      <td>1</td>\n",
              "      <td>1</td>\n",
              "      <td>7</td>\n",
              "    </tr>\n",
              "  </tbody>\n",
              "</table>\n",
              "<p>129885 rows × 5 columns</p>\n",
              "</div>"
            ],
            "text/plain": [
              "                                                  selfies  ...  hydrogens\n",
              "0                                                     [C]  ...          4\n",
              "1                                                     [N]  ...          3\n",
              "2                                                     [O]  ...          2\n",
              "3                                                 [C][#C]  ...          2\n",
              "4                                                 [C][#N]  ...          1\n",
              "...                                                   ...  ...        ...\n",
              "129880  [C][C][C][C][C][O][C][Ring1][#Branch1][Ring1][...  ...          7\n",
              "129881  [C][N][C][C][Ring1][Ring1][C][C][O][C][Ring1][...  ...          7\n",
              "129882  [C][N][C][C][C][C][Ring1][Branch1][C][Ring1][#...  ...          8\n",
              "129883  [C][N][C][C][C][C][C][Ring1][#Branch1][Ring1][...  ...          9\n",
              "129884  [C][N][C][C][C][O][C][Ring1][#Branch1][Ring1][...  ...          7\n",
              "\n",
              "[129885 rows x 5 columns]"
            ]
          },
          "metadata": {},
          "execution_count": 26
        }
      ]
    },
    {
      "cell_type": "code",
      "metadata": {
        "id": "M6dcgXr8d4L2"
      },
      "source": [
        "selfies_csv_data = selfies_df.to_csv('SELFIES_QM9.csv', index = True)"
      ],
      "execution_count": 27,
      "outputs": []
    }
  ]
}