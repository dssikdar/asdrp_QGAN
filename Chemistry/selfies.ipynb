{
  "nbformat": 4,
  "nbformat_minor": 0,
  "metadata": {
    "colab": {
      "name": "selfies.ipynb",
      "provenance": [],
      "collapsed_sections": []
    },
    "kernelspec": {
      "name": "python3",
      "display_name": "Python 3"
    },
    "language_info": {
      "name": "python"
    }
  },
  "cells": [
    {
      "cell_type": "markdown",
      "metadata": {
        "id": "sOzGqFVkZc2k"
      },
      "source": [
        "## Importing Libraries\n",
        "\n"
      ]
    },
    {
      "cell_type": "code",
      "metadata": {
        "colab": {
          "base_uri": "https://localhost:8080/"
        },
        "id": "Omk9jacUYZpc",
        "outputId": "7047c39d-e2fb-419c-ed82-b1dbffc6740c"
      },
      "source": [
        "!pip install selfies"
      ],
      "execution_count": 1,
      "outputs": [
        {
          "output_type": "stream",
          "name": "stdout",
          "text": [
            "Requirement already satisfied: selfies in /usr/local/lib/python3.7/dist-packages (2.0.0)\n"
          ]
        }
      ]
    },
    {
      "cell_type": "code",
      "metadata": {
        "id": "1NovE6_oYfcy"
      },
      "source": [
        "import selfies as sf\n",
        "import pandas as pd"
      ],
      "execution_count": 2,
      "outputs": []
    },
    {
      "cell_type": "markdown",
      "metadata": {
        "id": "OLnfvz-RZiFf"
      },
      "source": [
        "## Testing Encoding and Decoding on One Smiles Molecule"
      ]
    },
    {
      "cell_type": "code",
      "metadata": {
        "id": "cICrlUHLYkVY"
      },
      "source": [
        "original_smiles = \"CC(C)O\""
      ],
      "execution_count": 3,
      "outputs": []
    },
    {
      "cell_type": "code",
      "metadata": {
        "id": "L-SNcRLNY6CU"
      },
      "source": [
        "encoded_selfies = sf.encoder(original_smiles)\n",
        "decoded_smiles = sf.decoder(encoded_selfies)"
      ],
      "execution_count": 4,
      "outputs": []
    },
    {
      "cell_type": "code",
      "metadata": {
        "colab": {
          "base_uri": "https://localhost:8080/"
        },
        "id": "TzZOVb0aY7SH",
        "outputId": "0d23ac2d-911b-43bf-9ebd-eff4f344322d"
      },
      "source": [
        "print(encoded_selfies)\n",
        "print(decoded_smiles)"
      ],
      "execution_count": 5,
      "outputs": [
        {
          "output_type": "stream",
          "name": "stdout",
          "text": [
            "[C][C][Branch1][C][C][O]\n",
            "CC(C)O\n"
          ]
        }
      ]
    },
    {
      "cell_type": "markdown",
      "metadata": {
        "id": "0lIkH6giZsji"
      },
      "source": [
        "## Preprocessing QM9 Smiles Dataset"
      ]
    },
    {
      "cell_type": "code",
      "metadata": {
        "id": "xw3WhocTaYnx"
      },
      "source": [
        "smiles_df = pd.read_csv(\"OriginalSMILES_QM9.csv\")"
      ],
      "execution_count": 6,
      "outputs": []
    },
    {
      "cell_type": "code",
      "metadata": {
        "id": "BCmx4Eq5ag7w"
      },
      "source": [
        "smiles_df = smiles_df.drop('idx', axis=1)"
      ],
      "execution_count": 7,
      "outputs": []
    },
    {
      "cell_type": "markdown",
      "metadata": {
        "id": "iXc6El1wM4oi"
      },
      "source": [
        "### Finding the Count of Each Element in Each Compound"
      ]
    },
    {
      "cell_type": "code",
      "metadata": {
        "id": "oDfqcRRyLQLV"
      },
      "source": [
        "carbons = [] # lists to store number of each element in each compound\n",
        "nitrogens = []\n",
        "oxygens = []\n",
        "fluorines = []\n",
        "\n",
        "for i in range(len(smiles_df)): # goes through each molecule, converts to all lowercase, and appends count of each element\n",
        "  molecule = smiles_df['smiles'][i].lower()\n",
        "  carbons.append(molecule.count('c'))\n",
        "  nitrogens.append(molecule.count('n'))\n",
        "  oxygens.append(molecule.count('o'))\n",
        "  fluorines.append(molecule.count('f'))"
      ],
      "execution_count": 8,
      "outputs": []
    },
    {
      "cell_type": "code",
      "metadata": {
        "id": "_JKmAR73OtWy"
      },
      "source": [
        "smiles_df['carbons'] = carbons # add count to dataframe\n",
        "smiles_df['nitrogens'] = nitrogens\n",
        "smiles_df['oxygens'] = oxygens\n",
        "smiles_df['fluorines'] = fluorines"
      ],
      "execution_count": 9,
      "outputs": []
    },
    {
      "cell_type": "code",
      "metadata": {
        "colab": {
          "base_uri": "https://localhost:8080/",
          "height": 424
        },
        "id": "AUgmai8xPAJi",
        "outputId": "a3b3a5a6-fc36-444b-92f9-9ae10a00b504"
      },
      "source": [
        "smiles_df"
      ],
      "execution_count": 10,
      "outputs": [
        {
          "output_type": "execute_result",
          "data": {
            "text/html": [
              "<div>\n",
              "<style scoped>\n",
              "    .dataframe tbody tr th:only-of-type {\n",
              "        vertical-align: middle;\n",
              "    }\n",
              "\n",
              "    .dataframe tbody tr th {\n",
              "        vertical-align: top;\n",
              "    }\n",
              "\n",
              "    .dataframe thead th {\n",
              "        text-align: right;\n",
              "    }\n",
              "</style>\n",
              "<table border=\"1\" class=\"dataframe\">\n",
              "  <thead>\n",
              "    <tr style=\"text-align: right;\">\n",
              "      <th></th>\n",
              "      <th>smiles</th>\n",
              "      <th>carbons</th>\n",
              "      <th>nitrogens</th>\n",
              "      <th>oxygens</th>\n",
              "      <th>fluorines</th>\n",
              "    </tr>\n",
              "  </thead>\n",
              "  <tbody>\n",
              "    <tr>\n",
              "      <th>0</th>\n",
              "      <td>C</td>\n",
              "      <td>1</td>\n",
              "      <td>0</td>\n",
              "      <td>0</td>\n",
              "      <td>0</td>\n",
              "    </tr>\n",
              "    <tr>\n",
              "      <th>1</th>\n",
              "      <td>N</td>\n",
              "      <td>0</td>\n",
              "      <td>1</td>\n",
              "      <td>0</td>\n",
              "      <td>0</td>\n",
              "    </tr>\n",
              "    <tr>\n",
              "      <th>2</th>\n",
              "      <td>O</td>\n",
              "      <td>0</td>\n",
              "      <td>0</td>\n",
              "      <td>1</td>\n",
              "      <td>0</td>\n",
              "    </tr>\n",
              "    <tr>\n",
              "      <th>3</th>\n",
              "      <td>C#C</td>\n",
              "      <td>2</td>\n",
              "      <td>0</td>\n",
              "      <td>0</td>\n",
              "      <td>0</td>\n",
              "    </tr>\n",
              "    <tr>\n",
              "      <th>4</th>\n",
              "      <td>C#N</td>\n",
              "      <td>1</td>\n",
              "      <td>1</td>\n",
              "      <td>0</td>\n",
              "      <td>0</td>\n",
              "    </tr>\n",
              "    <tr>\n",
              "      <th>...</th>\n",
              "      <td>...</td>\n",
              "      <td>...</td>\n",
              "      <td>...</td>\n",
              "      <td>...</td>\n",
              "      <td>...</td>\n",
              "    </tr>\n",
              "    <tr>\n",
              "      <th>132035</th>\n",
              "      <td>C1C2C3C4C5OC14C5N23</td>\n",
              "      <td>7</td>\n",
              "      <td>1</td>\n",
              "      <td>1</td>\n",
              "      <td>0</td>\n",
              "    </tr>\n",
              "    <tr>\n",
              "      <th>132036</th>\n",
              "      <td>C1N2C3C2C2C4OC12C34</td>\n",
              "      <td>7</td>\n",
              "      <td>1</td>\n",
              "      <td>1</td>\n",
              "      <td>0</td>\n",
              "    </tr>\n",
              "    <tr>\n",
              "      <th>132037</th>\n",
              "      <td>C1N2C3C4C5C2C13CN45</td>\n",
              "      <td>7</td>\n",
              "      <td>2</td>\n",
              "      <td>0</td>\n",
              "      <td>0</td>\n",
              "    </tr>\n",
              "    <tr>\n",
              "      <th>132038</th>\n",
              "      <td>C1N2C3C4C5CC13C2C45</td>\n",
              "      <td>8</td>\n",
              "      <td>1</td>\n",
              "      <td>0</td>\n",
              "      <td>0</td>\n",
              "    </tr>\n",
              "    <tr>\n",
              "      <th>132039</th>\n",
              "      <td>C1N2C3C4C5OC13C2C45</td>\n",
              "      <td>7</td>\n",
              "      <td>1</td>\n",
              "      <td>1</td>\n",
              "      <td>0</td>\n",
              "    </tr>\n",
              "  </tbody>\n",
              "</table>\n",
              "<p>132040 rows × 5 columns</p>\n",
              "</div>"
            ],
            "text/plain": [
              "                     smiles  carbons  nitrogens  oxygens  fluorines\n",
              "0                         C        1          0        0          0\n",
              "1                         N        0          1        0          0\n",
              "2                         O        0          0        1          0\n",
              "3                       C#C        2          0        0          0\n",
              "4                       C#N        1          1        0          0\n",
              "...                     ...      ...        ...      ...        ...\n",
              "132035  C1C2C3C4C5OC14C5N23        7          1        1          0\n",
              "132036  C1N2C3C2C2C4OC12C34        7          1        1          0\n",
              "132037  C1N2C3C4C5C2C13CN45        7          2        0          0\n",
              "132038  C1N2C3C4C5CC13C2C45        8          1        0          0\n",
              "132039  C1N2C3C4C5OC13C2C45        7          1        1          0\n",
              "\n",
              "[132040 rows x 5 columns]"
            ]
          },
          "metadata": {},
          "execution_count": 10
        }
      ]
    },
    {
      "cell_type": "code",
      "metadata": {
        "id": "78wZkLQwxSRN"
      },
      "source": [
        "smiles_df = smiles_df.drop(smiles_df[smiles_df.fluorines > 0].index) # drop all data points with atleast one fluorine"
      ],
      "execution_count": 11,
      "outputs": []
    },
    {
      "cell_type": "code",
      "metadata": {
        "colab": {
          "base_uri": "https://localhost:8080/",
          "height": 424
        },
        "id": "RVcoatVqyBpr",
        "outputId": "64d13599-731d-4ad8-afaf-c35d2cc2b539"
      },
      "source": [
        "smiles_df"
      ],
      "execution_count": 12,
      "outputs": [
        {
          "output_type": "execute_result",
          "data": {
            "text/html": [
              "<div>\n",
              "<style scoped>\n",
              "    .dataframe tbody tr th:only-of-type {\n",
              "        vertical-align: middle;\n",
              "    }\n",
              "\n",
              "    .dataframe tbody tr th {\n",
              "        vertical-align: top;\n",
              "    }\n",
              "\n",
              "    .dataframe thead th {\n",
              "        text-align: right;\n",
              "    }\n",
              "</style>\n",
              "<table border=\"1\" class=\"dataframe\">\n",
              "  <thead>\n",
              "    <tr style=\"text-align: right;\">\n",
              "      <th></th>\n",
              "      <th>smiles</th>\n",
              "      <th>carbons</th>\n",
              "      <th>nitrogens</th>\n",
              "      <th>oxygens</th>\n",
              "      <th>fluorines</th>\n",
              "    </tr>\n",
              "  </thead>\n",
              "  <tbody>\n",
              "    <tr>\n",
              "      <th>0</th>\n",
              "      <td>C</td>\n",
              "      <td>1</td>\n",
              "      <td>0</td>\n",
              "      <td>0</td>\n",
              "      <td>0</td>\n",
              "    </tr>\n",
              "    <tr>\n",
              "      <th>1</th>\n",
              "      <td>N</td>\n",
              "      <td>0</td>\n",
              "      <td>1</td>\n",
              "      <td>0</td>\n",
              "      <td>0</td>\n",
              "    </tr>\n",
              "    <tr>\n",
              "      <th>2</th>\n",
              "      <td>O</td>\n",
              "      <td>0</td>\n",
              "      <td>0</td>\n",
              "      <td>1</td>\n",
              "      <td>0</td>\n",
              "    </tr>\n",
              "    <tr>\n",
              "      <th>3</th>\n",
              "      <td>C#C</td>\n",
              "      <td>2</td>\n",
              "      <td>0</td>\n",
              "      <td>0</td>\n",
              "      <td>0</td>\n",
              "    </tr>\n",
              "    <tr>\n",
              "      <th>4</th>\n",
              "      <td>C#N</td>\n",
              "      <td>1</td>\n",
              "      <td>1</td>\n",
              "      <td>0</td>\n",
              "      <td>0</td>\n",
              "    </tr>\n",
              "    <tr>\n",
              "      <th>...</th>\n",
              "      <td>...</td>\n",
              "      <td>...</td>\n",
              "      <td>...</td>\n",
              "      <td>...</td>\n",
              "      <td>...</td>\n",
              "    </tr>\n",
              "    <tr>\n",
              "      <th>132035</th>\n",
              "      <td>C1C2C3C4C5OC14C5N23</td>\n",
              "      <td>7</td>\n",
              "      <td>1</td>\n",
              "      <td>1</td>\n",
              "      <td>0</td>\n",
              "    </tr>\n",
              "    <tr>\n",
              "      <th>132036</th>\n",
              "      <td>C1N2C3C2C2C4OC12C34</td>\n",
              "      <td>7</td>\n",
              "      <td>1</td>\n",
              "      <td>1</td>\n",
              "      <td>0</td>\n",
              "    </tr>\n",
              "    <tr>\n",
              "      <th>132037</th>\n",
              "      <td>C1N2C3C4C5C2C13CN45</td>\n",
              "      <td>7</td>\n",
              "      <td>2</td>\n",
              "      <td>0</td>\n",
              "      <td>0</td>\n",
              "    </tr>\n",
              "    <tr>\n",
              "      <th>132038</th>\n",
              "      <td>C1N2C3C4C5CC13C2C45</td>\n",
              "      <td>8</td>\n",
              "      <td>1</td>\n",
              "      <td>0</td>\n",
              "      <td>0</td>\n",
              "    </tr>\n",
              "    <tr>\n",
              "      <th>132039</th>\n",
              "      <td>C1N2C3C4C5OC13C2C45</td>\n",
              "      <td>7</td>\n",
              "      <td>1</td>\n",
              "      <td>1</td>\n",
              "      <td>0</td>\n",
              "    </tr>\n",
              "  </tbody>\n",
              "</table>\n",
              "<p>129885 rows × 5 columns</p>\n",
              "</div>"
            ],
            "text/plain": [
              "                     smiles  carbons  nitrogens  oxygens  fluorines\n",
              "0                         C        1          0        0          0\n",
              "1                         N        0          1        0          0\n",
              "2                         O        0          0        1          0\n",
              "3                       C#C        2          0        0          0\n",
              "4                       C#N        1          1        0          0\n",
              "...                     ...      ...        ...      ...        ...\n",
              "132035  C1C2C3C4C5OC14C5N23        7          1        1          0\n",
              "132036  C1N2C3C2C2C4OC12C34        7          1        1          0\n",
              "132037  C1N2C3C4C5C2C13CN45        7          2        0          0\n",
              "132038  C1N2C3C4C5CC13C2C45        8          1        0          0\n",
              "132039  C1N2C3C4C5OC13C2C45        7          1        1          0\n",
              "\n",
              "[129885 rows x 5 columns]"
            ]
          },
          "metadata": {},
          "execution_count": 12
        }
      ]
    },
    {
      "cell_type": "code",
      "metadata": {
        "id": "hzC4HJrxxutu"
      },
      "source": [
        "smiles_df = smiles_df.drop(columns='fluorines')"
      ],
      "execution_count": 13,
      "outputs": []
    },
    {
      "cell_type": "code",
      "metadata": {
        "id": "MFXd8gFd0Xlg"
      },
      "source": [
        "smiles_df = smiles_df.reset_index()"
      ],
      "execution_count": 14,
      "outputs": []
    },
    {
      "cell_type": "code",
      "metadata": {
        "colab": {
          "base_uri": "https://localhost:8080/",
          "height": 424
        },
        "id": "Eyq0StB90efO",
        "outputId": "d88ce2fd-b824-4b9f-9d05-04076f6ff102"
      },
      "source": [
        "smiles_df"
      ],
      "execution_count": 15,
      "outputs": [
        {
          "output_type": "execute_result",
          "data": {
            "text/html": [
              "<div>\n",
              "<style scoped>\n",
              "    .dataframe tbody tr th:only-of-type {\n",
              "        vertical-align: middle;\n",
              "    }\n",
              "\n",
              "    .dataframe tbody tr th {\n",
              "        vertical-align: top;\n",
              "    }\n",
              "\n",
              "    .dataframe thead th {\n",
              "        text-align: right;\n",
              "    }\n",
              "</style>\n",
              "<table border=\"1\" class=\"dataframe\">\n",
              "  <thead>\n",
              "    <tr style=\"text-align: right;\">\n",
              "      <th></th>\n",
              "      <th>index</th>\n",
              "      <th>smiles</th>\n",
              "      <th>carbons</th>\n",
              "      <th>nitrogens</th>\n",
              "      <th>oxygens</th>\n",
              "    </tr>\n",
              "  </thead>\n",
              "  <tbody>\n",
              "    <tr>\n",
              "      <th>0</th>\n",
              "      <td>0</td>\n",
              "      <td>C</td>\n",
              "      <td>1</td>\n",
              "      <td>0</td>\n",
              "      <td>0</td>\n",
              "    </tr>\n",
              "    <tr>\n",
              "      <th>1</th>\n",
              "      <td>1</td>\n",
              "      <td>N</td>\n",
              "      <td>0</td>\n",
              "      <td>1</td>\n",
              "      <td>0</td>\n",
              "    </tr>\n",
              "    <tr>\n",
              "      <th>2</th>\n",
              "      <td>2</td>\n",
              "      <td>O</td>\n",
              "      <td>0</td>\n",
              "      <td>0</td>\n",
              "      <td>1</td>\n",
              "    </tr>\n",
              "    <tr>\n",
              "      <th>3</th>\n",
              "      <td>3</td>\n",
              "      <td>C#C</td>\n",
              "      <td>2</td>\n",
              "      <td>0</td>\n",
              "      <td>0</td>\n",
              "    </tr>\n",
              "    <tr>\n",
              "      <th>4</th>\n",
              "      <td>4</td>\n",
              "      <td>C#N</td>\n",
              "      <td>1</td>\n",
              "      <td>1</td>\n",
              "      <td>0</td>\n",
              "    </tr>\n",
              "    <tr>\n",
              "      <th>...</th>\n",
              "      <td>...</td>\n",
              "      <td>...</td>\n",
              "      <td>...</td>\n",
              "      <td>...</td>\n",
              "      <td>...</td>\n",
              "    </tr>\n",
              "    <tr>\n",
              "      <th>129880</th>\n",
              "      <td>132035</td>\n",
              "      <td>C1C2C3C4C5OC14C5N23</td>\n",
              "      <td>7</td>\n",
              "      <td>1</td>\n",
              "      <td>1</td>\n",
              "    </tr>\n",
              "    <tr>\n",
              "      <th>129881</th>\n",
              "      <td>132036</td>\n",
              "      <td>C1N2C3C2C2C4OC12C34</td>\n",
              "      <td>7</td>\n",
              "      <td>1</td>\n",
              "      <td>1</td>\n",
              "    </tr>\n",
              "    <tr>\n",
              "      <th>129882</th>\n",
              "      <td>132037</td>\n",
              "      <td>C1N2C3C4C5C2C13CN45</td>\n",
              "      <td>7</td>\n",
              "      <td>2</td>\n",
              "      <td>0</td>\n",
              "    </tr>\n",
              "    <tr>\n",
              "      <th>129883</th>\n",
              "      <td>132038</td>\n",
              "      <td>C1N2C3C4C5CC13C2C45</td>\n",
              "      <td>8</td>\n",
              "      <td>1</td>\n",
              "      <td>0</td>\n",
              "    </tr>\n",
              "    <tr>\n",
              "      <th>129884</th>\n",
              "      <td>132039</td>\n",
              "      <td>C1N2C3C4C5OC13C2C45</td>\n",
              "      <td>7</td>\n",
              "      <td>1</td>\n",
              "      <td>1</td>\n",
              "    </tr>\n",
              "  </tbody>\n",
              "</table>\n",
              "<p>129885 rows × 5 columns</p>\n",
              "</div>"
            ],
            "text/plain": [
              "         index               smiles  carbons  nitrogens  oxygens\n",
              "0            0                    C        1          0        0\n",
              "1            1                    N        0          1        0\n",
              "2            2                    O        0          0        1\n",
              "3            3                  C#C        2          0        0\n",
              "4            4                  C#N        1          1        0\n",
              "...        ...                  ...      ...        ...      ...\n",
              "129880  132035  C1C2C3C4C5OC14C5N23        7          1        1\n",
              "129881  132036  C1N2C3C2C2C4OC12C34        7          1        1\n",
              "129882  132037  C1N2C3C4C5C2C13CN45        7          2        0\n",
              "129883  132038  C1N2C3C4C5CC13C2C45        8          1        0\n",
              "129884  132039  C1N2C3C4C5OC13C2C45        7          1        1\n",
              "\n",
              "[129885 rows x 5 columns]"
            ]
          },
          "metadata": {},
          "execution_count": 15
        }
      ]
    },
    {
      "cell_type": "code",
      "metadata": {
        "id": "P_EslZqDPpw6"
      },
      "source": [
        "smiles_csv_data = smiles_df.to_csv('SMILES_QM9.csv', index = True) # save updated dataframe as a csv file"
      ],
      "execution_count": 16,
      "outputs": []
    },
    {
      "cell_type": "markdown",
      "metadata": {
        "id": "9vSF9GDSRlf9"
      },
      "source": [
        "### Finding Max of Each Element"
      ]
    },
    {
      "cell_type": "code",
      "metadata": {
        "colab": {
          "base_uri": "https://localhost:8080/"
        },
        "id": "XebfcSZhRr3c",
        "outputId": "c8fbaa93-0612-459d-eb28-af269b944a14"
      },
      "source": [
        "carbon_max = smiles_df['carbons'].max()\n",
        "nitrogen_max = smiles_df['nitrogens'].max()\n",
        "oxygen_max = smiles_df['oxygens'].max()\n",
        "\n",
        "print(f'Max Carbons: {carbon_max}')\n",
        "print(f'Max Nitrogens: {nitrogen_max}')\n",
        "print(f'Max Oxygens: {oxygen_max}')"
      ],
      "execution_count": 17,
      "outputs": [
        {
          "output_type": "stream",
          "name": "stdout",
          "text": [
            "Max Carbons: 9\n",
            "Max Nitrogens: 7\n",
            "Max Oxygens: 5\n"
          ]
        }
      ]
    },
    {
      "cell_type": "markdown",
      "metadata": {
        "id": "wqVfHTRSQbbC"
      },
      "source": [
        "## Coverting Smiles Dataset to Selfies Dataset"
      ]
    },
    {
      "cell_type": "code",
      "metadata": {
        "id": "_qdrZ4pJbNWV"
      },
      "source": [
        "smiles_dataset = smiles_df['smiles'].values.tolist()"
      ],
      "execution_count": 18,
      "outputs": []
    },
    {
      "cell_type": "code",
      "metadata": {
        "id": "klxehp9KZT8U"
      },
      "source": [
        "selfies_dataset = list(map(sf.encoder, smiles_dataset))"
      ],
      "execution_count": 19,
      "outputs": []
    },
    {
      "cell_type": "code",
      "metadata": {
        "id": "42LHmHjrc5Ud"
      },
      "source": [
        "selfies_df = pd.DataFrame(selfies_dataset, columns = ['selfies'])\n",
        "selfies_df['carbons'] = smiles_df['carbons'].values.tolist() # add count to dataframe\n",
        "selfies_df['nitrogens'] = smiles_df['nitrogens'].values.tolist()\n",
        "selfies_df['oxygens'] = smiles_df['oxygens'].values.tolist()"
      ],
      "execution_count": 20,
      "outputs": []
    },
    {
      "cell_type": "code",
      "metadata": {
        "colab": {
          "base_uri": "https://localhost:8080/",
          "height": 424
        },
        "id": "t3Ehwx4Ddw20",
        "outputId": "3bf5f3c3-1e38-489a-8668-61d1d128c21d"
      },
      "source": [
        "selfies_df"
      ],
      "execution_count": 21,
      "outputs": [
        {
          "output_type": "execute_result",
          "data": {
            "text/html": [
              "<div>\n",
              "<style scoped>\n",
              "    .dataframe tbody tr th:only-of-type {\n",
              "        vertical-align: middle;\n",
              "    }\n",
              "\n",
              "    .dataframe tbody tr th {\n",
              "        vertical-align: top;\n",
              "    }\n",
              "\n",
              "    .dataframe thead th {\n",
              "        text-align: right;\n",
              "    }\n",
              "</style>\n",
              "<table border=\"1\" class=\"dataframe\">\n",
              "  <thead>\n",
              "    <tr style=\"text-align: right;\">\n",
              "      <th></th>\n",
              "      <th>selfies</th>\n",
              "      <th>carbons</th>\n",
              "      <th>nitrogens</th>\n",
              "      <th>oxygens</th>\n",
              "    </tr>\n",
              "  </thead>\n",
              "  <tbody>\n",
              "    <tr>\n",
              "      <th>0</th>\n",
              "      <td>[C]</td>\n",
              "      <td>1</td>\n",
              "      <td>0</td>\n",
              "      <td>0</td>\n",
              "    </tr>\n",
              "    <tr>\n",
              "      <th>1</th>\n",
              "      <td>[N]</td>\n",
              "      <td>0</td>\n",
              "      <td>1</td>\n",
              "      <td>0</td>\n",
              "    </tr>\n",
              "    <tr>\n",
              "      <th>2</th>\n",
              "      <td>[O]</td>\n",
              "      <td>0</td>\n",
              "      <td>0</td>\n",
              "      <td>1</td>\n",
              "    </tr>\n",
              "    <tr>\n",
              "      <th>3</th>\n",
              "      <td>[C][#C]</td>\n",
              "      <td>2</td>\n",
              "      <td>0</td>\n",
              "      <td>0</td>\n",
              "    </tr>\n",
              "    <tr>\n",
              "      <th>4</th>\n",
              "      <td>[C][#N]</td>\n",
              "      <td>1</td>\n",
              "      <td>1</td>\n",
              "      <td>0</td>\n",
              "    </tr>\n",
              "    <tr>\n",
              "      <th>...</th>\n",
              "      <td>...</td>\n",
              "      <td>...</td>\n",
              "      <td>...</td>\n",
              "      <td>...</td>\n",
              "    </tr>\n",
              "    <tr>\n",
              "      <th>129880</th>\n",
              "      <td>[C][C][C][C][C][O][C][Ring1][#Branch1][Ring1][...</td>\n",
              "      <td>7</td>\n",
              "      <td>1</td>\n",
              "      <td>1</td>\n",
              "    </tr>\n",
              "    <tr>\n",
              "      <th>129881</th>\n",
              "      <td>[C][N][C][C][Ring1][Ring1][C][C][O][C][Ring1][...</td>\n",
              "      <td>7</td>\n",
              "      <td>1</td>\n",
              "      <td>1</td>\n",
              "    </tr>\n",
              "    <tr>\n",
              "      <th>129882</th>\n",
              "      <td>[C][N][C][C][C][C][Ring1][Branch1][C][Ring1][#...</td>\n",
              "      <td>7</td>\n",
              "      <td>2</td>\n",
              "      <td>0</td>\n",
              "    </tr>\n",
              "    <tr>\n",
              "      <th>129883</th>\n",
              "      <td>[C][N][C][C][C][C][C][Ring1][#Branch1][Ring1][...</td>\n",
              "      <td>8</td>\n",
              "      <td>1</td>\n",
              "      <td>0</td>\n",
              "    </tr>\n",
              "    <tr>\n",
              "      <th>129884</th>\n",
              "      <td>[C][N][C][C][C][O][C][Ring1][#Branch1][Ring1][...</td>\n",
              "      <td>7</td>\n",
              "      <td>1</td>\n",
              "      <td>1</td>\n",
              "    </tr>\n",
              "  </tbody>\n",
              "</table>\n",
              "<p>129885 rows × 4 columns</p>\n",
              "</div>"
            ],
            "text/plain": [
              "                                                  selfies  ...  oxygens\n",
              "0                                                     [C]  ...        0\n",
              "1                                                     [N]  ...        0\n",
              "2                                                     [O]  ...        1\n",
              "3                                                 [C][#C]  ...        0\n",
              "4                                                 [C][#N]  ...        0\n",
              "...                                                   ...  ...      ...\n",
              "129880  [C][C][C][C][C][O][C][Ring1][#Branch1][Ring1][...  ...        1\n",
              "129881  [C][N][C][C][Ring1][Ring1][C][C][O][C][Ring1][...  ...        1\n",
              "129882  [C][N][C][C][C][C][Ring1][Branch1][C][Ring1][#...  ...        0\n",
              "129883  [C][N][C][C][C][C][C][Ring1][#Branch1][Ring1][...  ...        0\n",
              "129884  [C][N][C][C][C][O][C][Ring1][#Branch1][Ring1][...  ...        1\n",
              "\n",
              "[129885 rows x 4 columns]"
            ]
          },
          "metadata": {},
          "execution_count": 21
        }
      ]
    },
    {
      "cell_type": "code",
      "metadata": {
        "id": "M6dcgXr8d4L2"
      },
      "source": [
        "selfies_csv_data = selfies_df.to_csv('SELFIES_QM9.csv', index = True)"
      ],
      "execution_count": 22,
      "outputs": []
    }
  ]
}