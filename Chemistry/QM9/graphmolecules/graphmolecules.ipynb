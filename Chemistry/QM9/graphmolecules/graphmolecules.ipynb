{
  "nbformat": 4,
  "nbformat_minor": 0,
  "metadata": {
    "colab": {
      "name": "graphmolecules",
      "provenance": []
    },
    "kernelspec": {
      "name": "python3",
      "display_name": "Python 3"
    },
    "language_info": {
      "name": "python"
    }
  },
  "cells": [
    {
      "cell_type": "markdown",
      "source": [
        "## Installing Libraries"
      ],
      "metadata": {
        "id": "kThgn9KUbxS2"
      }
    },
    {
      "cell_type": "code",
      "source": [
        "!pip install pysmiles"
      ],
      "metadata": {
        "colab": {
          "base_uri": "https://localhost:8080/"
        },
        "id": "7GTLGn9rx67E",
        "outputId": "32f31f68-fea2-4d78-ddac-754bc999645d"
      },
      "execution_count": 1,
      "outputs": [
        {
          "output_type": "stream",
          "name": "stdout",
          "text": [
            "Requirement already satisfied: pysmiles in /usr/local/lib/python3.7/dist-packages (1.0.1)\n",
            "Requirement already satisfied: networkx~=2.0 in /usr/local/lib/python3.7/dist-packages (from pysmiles) (2.6.3)\n",
            "Requirement already satisfied: pbr in /usr/local/lib/python3.7/dist-packages (from pysmiles) (5.8.0)\n"
          ]
        }
      ]
    },
    {
      "cell_type": "markdown",
      "source": [
        "## Importing libraries"
      ],
      "metadata": {
        "id": "AFnYSbAEb1Uq"
      }
    },
    {
      "cell_type": "code",
      "source": [
        "import pandas as pd\n",
        "from pysmiles import read_smiles\n",
        "import networkx as nx\n",
        "import matplotlib.pyplot as plt"
      ],
      "metadata": {
        "id": "aV1TQp0kxreb"
      },
      "execution_count": 2,
      "outputs": []
    },
    {
      "cell_type": "markdown",
      "source": [
        "## Preprocessing QM9 Smiles Dataset"
      ],
      "metadata": {
        "id": "GuwlVFOqb44u"
      }
    },
    {
      "cell_type": "code",
      "source": [
        "smiles_df = pd.read_csv(\"OriginalSMILES_QM9.csv\")\n",
        "smiles_df = smiles_df.drop('idx', axis=1)\n",
        "smiles_df"
      ],
      "metadata": {
        "colab": {
          "base_uri": "https://localhost:8080/",
          "height": 424
        },
        "id": "kLl3ra3PXGAR",
        "outputId": "4b824522-1485-4289-b5df-a2b3021c2898"
      },
      "execution_count": 3,
      "outputs": [
        {
          "output_type": "execute_result",
          "data": {
            "text/html": [
              "\n",
              "  <div id=\"df-c1534fab-f6a0-4260-99dc-3f7ed17d3e94\">\n",
              "    <div class=\"colab-df-container\">\n",
              "      <div>\n",
              "<style scoped>\n",
              "    .dataframe tbody tr th:only-of-type {\n",
              "        vertical-align: middle;\n",
              "    }\n",
              "\n",
              "    .dataframe tbody tr th {\n",
              "        vertical-align: top;\n",
              "    }\n",
              "\n",
              "    .dataframe thead th {\n",
              "        text-align: right;\n",
              "    }\n",
              "</style>\n",
              "<table border=\"1\" class=\"dataframe\">\n",
              "  <thead>\n",
              "    <tr style=\"text-align: right;\">\n",
              "      <th></th>\n",
              "      <th>smiles</th>\n",
              "    </tr>\n",
              "  </thead>\n",
              "  <tbody>\n",
              "    <tr>\n",
              "      <th>0</th>\n",
              "      <td>C</td>\n",
              "    </tr>\n",
              "    <tr>\n",
              "      <th>1</th>\n",
              "      <td>N</td>\n",
              "    </tr>\n",
              "    <tr>\n",
              "      <th>2</th>\n",
              "      <td>O</td>\n",
              "    </tr>\n",
              "    <tr>\n",
              "      <th>3</th>\n",
              "      <td>C#C</td>\n",
              "    </tr>\n",
              "    <tr>\n",
              "      <th>4</th>\n",
              "      <td>C#N</td>\n",
              "    </tr>\n",
              "    <tr>\n",
              "      <th>...</th>\n",
              "      <td>...</td>\n",
              "    </tr>\n",
              "    <tr>\n",
              "      <th>132035</th>\n",
              "      <td>C1C2C3C4C5OC14C5N23</td>\n",
              "    </tr>\n",
              "    <tr>\n",
              "      <th>132036</th>\n",
              "      <td>C1N2C3C2C2C4OC12C34</td>\n",
              "    </tr>\n",
              "    <tr>\n",
              "      <th>132037</th>\n",
              "      <td>C1N2C3C4C5C2C13CN45</td>\n",
              "    </tr>\n",
              "    <tr>\n",
              "      <th>132038</th>\n",
              "      <td>C1N2C3C4C5CC13C2C45</td>\n",
              "    </tr>\n",
              "    <tr>\n",
              "      <th>132039</th>\n",
              "      <td>C1N2C3C4C5OC13C2C45</td>\n",
              "    </tr>\n",
              "  </tbody>\n",
              "</table>\n",
              "<p>132040 rows × 1 columns</p>\n",
              "</div>\n",
              "      <button class=\"colab-df-convert\" onclick=\"convertToInteractive('df-c1534fab-f6a0-4260-99dc-3f7ed17d3e94')\"\n",
              "              title=\"Convert this dataframe to an interactive table.\"\n",
              "              style=\"display:none;\">\n",
              "        \n",
              "  <svg xmlns=\"http://www.w3.org/2000/svg\" height=\"24px\"viewBox=\"0 0 24 24\"\n",
              "       width=\"24px\">\n",
              "    <path d=\"M0 0h24v24H0V0z\" fill=\"none\"/>\n",
              "    <path d=\"M18.56 5.44l.94 2.06.94-2.06 2.06-.94-2.06-.94-.94-2.06-.94 2.06-2.06.94zm-11 1L8.5 8.5l.94-2.06 2.06-.94-2.06-.94L8.5 2.5l-.94 2.06-2.06.94zm10 10l.94 2.06.94-2.06 2.06-.94-2.06-.94-.94-2.06-.94 2.06-2.06.94z\"/><path d=\"M17.41 7.96l-1.37-1.37c-.4-.4-.92-.59-1.43-.59-.52 0-1.04.2-1.43.59L10.3 9.45l-7.72 7.72c-.78.78-.78 2.05 0 2.83L4 21.41c.39.39.9.59 1.41.59.51 0 1.02-.2 1.41-.59l7.78-7.78 2.81-2.81c.8-.78.8-2.07 0-2.86zM5.41 20L4 18.59l7.72-7.72 1.47 1.35L5.41 20z\"/>\n",
              "  </svg>\n",
              "      </button>\n",
              "      \n",
              "  <style>\n",
              "    .colab-df-container {\n",
              "      display:flex;\n",
              "      flex-wrap:wrap;\n",
              "      gap: 12px;\n",
              "    }\n",
              "\n",
              "    .colab-df-convert {\n",
              "      background-color: #E8F0FE;\n",
              "      border: none;\n",
              "      border-radius: 50%;\n",
              "      cursor: pointer;\n",
              "      display: none;\n",
              "      fill: #1967D2;\n",
              "      height: 32px;\n",
              "      padding: 0 0 0 0;\n",
              "      width: 32px;\n",
              "    }\n",
              "\n",
              "    .colab-df-convert:hover {\n",
              "      background-color: #E2EBFA;\n",
              "      box-shadow: 0px 1px 2px rgba(60, 64, 67, 0.3), 0px 1px 3px 1px rgba(60, 64, 67, 0.15);\n",
              "      fill: #174EA6;\n",
              "    }\n",
              "\n",
              "    [theme=dark] .colab-df-convert {\n",
              "      background-color: #3B4455;\n",
              "      fill: #D2E3FC;\n",
              "    }\n",
              "\n",
              "    [theme=dark] .colab-df-convert:hover {\n",
              "      background-color: #434B5C;\n",
              "      box-shadow: 0px 1px 3px 1px rgba(0, 0, 0, 0.15);\n",
              "      filter: drop-shadow(0px 1px 2px rgba(0, 0, 0, 0.3));\n",
              "      fill: #FFFFFF;\n",
              "    }\n",
              "  </style>\n",
              "\n",
              "      <script>\n",
              "        const buttonEl =\n",
              "          document.querySelector('#df-c1534fab-f6a0-4260-99dc-3f7ed17d3e94 button.colab-df-convert');\n",
              "        buttonEl.style.display =\n",
              "          google.colab.kernel.accessAllowed ? 'block' : 'none';\n",
              "\n",
              "        async function convertToInteractive(key) {\n",
              "          const element = document.querySelector('#df-c1534fab-f6a0-4260-99dc-3f7ed17d3e94');\n",
              "          const dataTable =\n",
              "            await google.colab.kernel.invokeFunction('convertToInteractive',\n",
              "                                                     [key], {});\n",
              "          if (!dataTable) return;\n",
              "\n",
              "          const docLinkHtml = 'Like what you see? Visit the ' +\n",
              "            '<a target=\"_blank\" href=https://colab.research.google.com/notebooks/data_table.ipynb>data table notebook</a>'\n",
              "            + ' to learn more about interactive tables.';\n",
              "          element.innerHTML = '';\n",
              "          dataTable['output_type'] = 'display_data';\n",
              "          await google.colab.output.renderOutput(dataTable, element);\n",
              "          const docLink = document.createElement('div');\n",
              "          docLink.innerHTML = docLinkHtml;\n",
              "          element.appendChild(docLink);\n",
              "        }\n",
              "      </script>\n",
              "    </div>\n",
              "  </div>\n",
              "  "
            ],
            "text/plain": [
              "                     smiles\n",
              "0                         C\n",
              "1                         N\n",
              "2                         O\n",
              "3                       C#C\n",
              "4                       C#N\n",
              "...                     ...\n",
              "132035  C1C2C3C4C5OC14C5N23\n",
              "132036  C1N2C3C2C2C4OC12C34\n",
              "132037  C1N2C3C4C5C2C13CN45\n",
              "132038  C1N2C3C4C5CC13C2C45\n",
              "132039  C1N2C3C4C5OC13C2C45\n",
              "\n",
              "[132040 rows x 1 columns]"
            ]
          },
          "metadata": {},
          "execution_count": 3
        }
      ]
    },
    {
      "cell_type": "markdown",
      "source": [
        "## Converting SMILES to Graph Representation"
      ],
      "metadata": {
        "id": "YE7y7-3CcASd"
      }
    },
    {
      "cell_type": "code",
      "execution_count": 4,
      "metadata": {
        "id": "sq5RkXk-xeiY"
      },
      "outputs": [],
      "source": [
        "molmatrix = []\n",
        "\n",
        "for i in range(len(smiles_df)):\n",
        "  mol = read_smiles(smiles_df['smiles'][i], explicit_hydrogen=True)\n",
        "  molmatrix.append(nx.to_numpy_matrix(mol))"
      ]
    },
    {
      "cell_type": "code",
      "source": [
        "smiles_df['matrix'] = molmatrix"
      ],
      "metadata": {
        "id": "7YA2XyqeyIyG"
      },
      "execution_count": 5,
      "outputs": []
    },
    {
      "cell_type": "code",
      "source": [
        "smiles_df"
      ],
      "metadata": {
        "colab": {
          "base_uri": "https://localhost:8080/",
          "height": 424
        },
        "id": "XxUArGiwYXQf",
        "outputId": "5d8b7043-e6e5-4b20-bd93-3bd707b0d0bd"
      },
      "execution_count": 6,
      "outputs": [
        {
          "output_type": "execute_result",
          "data": {
            "text/html": [
              "\n",
              "  <div id=\"df-0ce74087-a7fd-49d3-b895-bd93769d6a6a\">\n",
              "    <div class=\"colab-df-container\">\n",
              "      <div>\n",
              "<style scoped>\n",
              "    .dataframe tbody tr th:only-of-type {\n",
              "        vertical-align: middle;\n",
              "    }\n",
              "\n",
              "    .dataframe tbody tr th {\n",
              "        vertical-align: top;\n",
              "    }\n",
              "\n",
              "    .dataframe thead th {\n",
              "        text-align: right;\n",
              "    }\n",
              "</style>\n",
              "<table border=\"1\" class=\"dataframe\">\n",
              "  <thead>\n",
              "    <tr style=\"text-align: right;\">\n",
              "      <th></th>\n",
              "      <th>smiles</th>\n",
              "      <th>matrix</th>\n",
              "    </tr>\n",
              "  </thead>\n",
              "  <tbody>\n",
              "    <tr>\n",
              "      <th>0</th>\n",
              "      <td>C</td>\n",
              "      <td>[[[[[0. 1. 1. 1. 1.]]]], [[[[1. 0. 0. 0. 0.]]]...</td>\n",
              "    </tr>\n",
              "    <tr>\n",
              "      <th>1</th>\n",
              "      <td>N</td>\n",
              "      <td>[[[[[0. 1. 1. 1.]]]], [[[[1. 0. 0. 0.]]]], [[[...</td>\n",
              "    </tr>\n",
              "    <tr>\n",
              "      <th>2</th>\n",
              "      <td>O</td>\n",
              "      <td>[[[[[0. 1. 1.]]]], [[[[1. 0. 0.]]]], [[[[1. 0....</td>\n",
              "    </tr>\n",
              "    <tr>\n",
              "      <th>3</th>\n",
              "      <td>C#C</td>\n",
              "      <td>[[[[[0. 1. 1. 0.]]]], [[[[1. 0. 0. 1.]]]], [[[...</td>\n",
              "    </tr>\n",
              "    <tr>\n",
              "      <th>4</th>\n",
              "      <td>C#N</td>\n",
              "      <td>[[[[[0. 1. 1.]]]], [[[[1. 0. 0.]]]], [[[[1. 0....</td>\n",
              "    </tr>\n",
              "    <tr>\n",
              "      <th>...</th>\n",
              "      <td>...</td>\n",
              "      <td>...</td>\n",
              "    </tr>\n",
              "    <tr>\n",
              "      <th>132035</th>\n",
              "      <td>C1C2C3C4C5OC14C5N23</td>\n",
              "      <td>[[[[[0. 1. 0. 0. 0. 0. 1. 0. 0. 1. 1. 0. 0. 0....</td>\n",
              "    </tr>\n",
              "    <tr>\n",
              "      <th>132036</th>\n",
              "      <td>C1N2C3C2C2C4OC12C34</td>\n",
              "      <td>[[[[[0. 1. 0. 0. 0. 0. 0. 1. 0. 1. 1. 0. 0. 0....</td>\n",
              "    </tr>\n",
              "    <tr>\n",
              "      <th>132037</th>\n",
              "      <td>C1N2C3C4C5C2C13CN45</td>\n",
              "      <td>[[[[[0. 1. 0. 0. 0. 0. 1. 0. 0. 1. 1. 0. 0. 0....</td>\n",
              "    </tr>\n",
              "    <tr>\n",
              "      <th>132038</th>\n",
              "      <td>C1N2C3C4C5CC13C2C45</td>\n",
              "      <td>[[[[[0. 1. 0. 0. 0. 0. 1. 0. 0. 1. 1. 0. 0. 0....</td>\n",
              "    </tr>\n",
              "    <tr>\n",
              "      <th>132039</th>\n",
              "      <td>C1N2C3C4C5OC13C2C45</td>\n",
              "      <td>[[[[[0. 1. 0. 0. 0. 0. 1. 0. 0. 1. 1. 0. 0. 0....</td>\n",
              "    </tr>\n",
              "  </tbody>\n",
              "</table>\n",
              "<p>132040 rows × 2 columns</p>\n",
              "</div>\n",
              "      <button class=\"colab-df-convert\" onclick=\"convertToInteractive('df-0ce74087-a7fd-49d3-b895-bd93769d6a6a')\"\n",
              "              title=\"Convert this dataframe to an interactive table.\"\n",
              "              style=\"display:none;\">\n",
              "        \n",
              "  <svg xmlns=\"http://www.w3.org/2000/svg\" height=\"24px\"viewBox=\"0 0 24 24\"\n",
              "       width=\"24px\">\n",
              "    <path d=\"M0 0h24v24H0V0z\" fill=\"none\"/>\n",
              "    <path d=\"M18.56 5.44l.94 2.06.94-2.06 2.06-.94-2.06-.94-.94-2.06-.94 2.06-2.06.94zm-11 1L8.5 8.5l.94-2.06 2.06-.94-2.06-.94L8.5 2.5l-.94 2.06-2.06.94zm10 10l.94 2.06.94-2.06 2.06-.94-2.06-.94-.94-2.06-.94 2.06-2.06.94z\"/><path d=\"M17.41 7.96l-1.37-1.37c-.4-.4-.92-.59-1.43-.59-.52 0-1.04.2-1.43.59L10.3 9.45l-7.72 7.72c-.78.78-.78 2.05 0 2.83L4 21.41c.39.39.9.59 1.41.59.51 0 1.02-.2 1.41-.59l7.78-7.78 2.81-2.81c.8-.78.8-2.07 0-2.86zM5.41 20L4 18.59l7.72-7.72 1.47 1.35L5.41 20z\"/>\n",
              "  </svg>\n",
              "      </button>\n",
              "      \n",
              "  <style>\n",
              "    .colab-df-container {\n",
              "      display:flex;\n",
              "      flex-wrap:wrap;\n",
              "      gap: 12px;\n",
              "    }\n",
              "\n",
              "    .colab-df-convert {\n",
              "      background-color: #E8F0FE;\n",
              "      border: none;\n",
              "      border-radius: 50%;\n",
              "      cursor: pointer;\n",
              "      display: none;\n",
              "      fill: #1967D2;\n",
              "      height: 32px;\n",
              "      padding: 0 0 0 0;\n",
              "      width: 32px;\n",
              "    }\n",
              "\n",
              "    .colab-df-convert:hover {\n",
              "      background-color: #E2EBFA;\n",
              "      box-shadow: 0px 1px 2px rgba(60, 64, 67, 0.3), 0px 1px 3px 1px rgba(60, 64, 67, 0.15);\n",
              "      fill: #174EA6;\n",
              "    }\n",
              "\n",
              "    [theme=dark] .colab-df-convert {\n",
              "      background-color: #3B4455;\n",
              "      fill: #D2E3FC;\n",
              "    }\n",
              "\n",
              "    [theme=dark] .colab-df-convert:hover {\n",
              "      background-color: #434B5C;\n",
              "      box-shadow: 0px 1px 3px 1px rgba(0, 0, 0, 0.15);\n",
              "      filter: drop-shadow(0px 1px 2px rgba(0, 0, 0, 0.3));\n",
              "      fill: #FFFFFF;\n",
              "    }\n",
              "  </style>\n",
              "\n",
              "      <script>\n",
              "        const buttonEl =\n",
              "          document.querySelector('#df-0ce74087-a7fd-49d3-b895-bd93769d6a6a button.colab-df-convert');\n",
              "        buttonEl.style.display =\n",
              "          google.colab.kernel.accessAllowed ? 'block' : 'none';\n",
              "\n",
              "        async function convertToInteractive(key) {\n",
              "          const element = document.querySelector('#df-0ce74087-a7fd-49d3-b895-bd93769d6a6a');\n",
              "          const dataTable =\n",
              "            await google.colab.kernel.invokeFunction('convertToInteractive',\n",
              "                                                     [key], {});\n",
              "          if (!dataTable) return;\n",
              "\n",
              "          const docLinkHtml = 'Like what you see? Visit the ' +\n",
              "            '<a target=\"_blank\" href=https://colab.research.google.com/notebooks/data_table.ipynb>data table notebook</a>'\n",
              "            + ' to learn more about interactive tables.';\n",
              "          element.innerHTML = '';\n",
              "          dataTable['output_type'] = 'display_data';\n",
              "          await google.colab.output.renderOutput(dataTable, element);\n",
              "          const docLink = document.createElement('div');\n",
              "          docLink.innerHTML = docLinkHtml;\n",
              "          element.appendChild(docLink);\n",
              "        }\n",
              "      </script>\n",
              "    </div>\n",
              "  </div>\n",
              "  "
            ],
            "text/plain": [
              "                     smiles                                             matrix\n",
              "0                         C  [[[[[0. 1. 1. 1. 1.]]]], [[[[1. 0. 0. 0. 0.]]]...\n",
              "1                         N  [[[[[0. 1. 1. 1.]]]], [[[[1. 0. 0. 0.]]]], [[[...\n",
              "2                         O  [[[[[0. 1. 1.]]]], [[[[1. 0. 0.]]]], [[[[1. 0....\n",
              "3                       C#C  [[[[[0. 1. 1. 0.]]]], [[[[1. 0. 0. 1.]]]], [[[...\n",
              "4                       C#N  [[[[[0. 1. 1.]]]], [[[[1. 0. 0.]]]], [[[[1. 0....\n",
              "...                     ...                                                ...\n",
              "132035  C1C2C3C4C5OC14C5N23  [[[[[0. 1. 0. 0. 0. 0. 1. 0. 0. 1. 1. 0. 0. 0....\n",
              "132036  C1N2C3C2C2C4OC12C34  [[[[[0. 1. 0. 0. 0. 0. 0. 1. 0. 1. 1. 0. 0. 0....\n",
              "132037  C1N2C3C4C5C2C13CN45  [[[[[0. 1. 0. 0. 0. 0. 1. 0. 0. 1. 1. 0. 0. 0....\n",
              "132038  C1N2C3C4C5CC13C2C45  [[[[[0. 1. 0. 0. 0. 0. 1. 0. 0. 1. 1. 0. 0. 0....\n",
              "132039  C1N2C3C4C5OC13C2C45  [[[[[0. 1. 0. 0. 0. 0. 1. 0. 0. 1. 1. 0. 0. 0....\n",
              "\n",
              "[132040 rows x 2 columns]"
            ]
          },
          "metadata": {},
          "execution_count": 6
        }
      ]
    },
    {
      "cell_type": "code",
      "source": [
        "smiles_csv_data = smiles_df.to_csv('Graph_QM9.csv', index = True)"
      ],
      "metadata": {
        "id": "FzKbutv2cbIx"
      },
      "execution_count": 7,
      "outputs": []
    },
    {
      "cell_type": "code",
      "source": [
        "# Draws the graph of a particular molecule\n",
        "\n",
        "# elements = nx.get_node_attributes(mol, name = \"element\")\n",
        "# nx.draw(mol, with_labels=True, labels = elements, pos=nx.spring_layout(mol))\n",
        "# plt.gca().set_aspect('equal')"
      ],
      "metadata": {
        "id": "iXemfUIOyNvq"
      },
      "execution_count": 8,
      "outputs": []
    }
  ]
}