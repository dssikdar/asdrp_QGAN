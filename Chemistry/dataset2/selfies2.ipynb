{
  "nbformat": 4,
  "nbformat_minor": 0,
  "metadata": {
    "colab": {
      "name": "selfies2.ipynb",
      "provenance": [],
      "collapsed_sections": []
    },
    "kernelspec": {
      "name": "python3",
      "display_name": "Python 3"
    },
    "language_info": {
      "name": "python"
    }
  },
  "cells": [
    {
      "cell_type": "markdown",
      "metadata": {
        "id": "sOzGqFVkZc2k"
      },
      "source": [
        "## Importing Libraries\n",
        "\n"
      ]
    },
    {
      "cell_type": "code",
      "metadata": {
        "colab": {
          "base_uri": "https://localhost:8080/"
        },
        "id": "Omk9jacUYZpc",
        "outputId": "34f6da47-f984-4051-db3d-816372f10e98"
      },
      "source": [
        "!pip install -q condacolab\n",
        "import condacolab\n",
        "condacolab.install()"
      ],
      "execution_count": 1,
      "outputs": [
        {
          "output_type": "stream",
          "name": "stdout",
          "text": [
            "✨🍰✨ Everything looks OK!\n"
          ]
        }
      ]
    },
    {
      "cell_type": "code",
      "metadata": {
        "id": "r6H0WtdZ5uC5",
        "colab": {
          "base_uri": "https://localhost:8080/"
        },
        "outputId": "a3eae21c-be96-476f-8cc7-7a52b9f3b50b"
      },
      "source": [
        "!mamba install -c conda-forge rdkit"
      ],
      "execution_count": 2,
      "outputs": [
        {
          "output_type": "stream",
          "name": "stdout",
          "text": [
            "\n",
            "                  __    __    __    __\n",
            "                 /  \\  /  \\  /  \\  /  \\\n",
            "                /    \\/    \\/    \\/    \\\n",
            "███████████████/  /██/  /██/  /██/  /████████████████████████\n",
            "              /  / \\   / \\   / \\   / \\  \\____\n",
            "             /  /   \\_/   \\_/   \\_/   \\    o \\__,\n",
            "            / _/                       \\_____/  `\n",
            "            |/\n",
            "        ███╗   ███╗ █████╗ ███╗   ███╗██████╗  █████╗\n",
            "        ████╗ ████║██╔══██╗████╗ ████║██╔══██╗██╔══██╗\n",
            "        ██╔████╔██║███████║██╔████╔██║██████╔╝███████║\n",
            "        ██║╚██╔╝██║██╔══██║██║╚██╔╝██║██╔══██╗██╔══██║\n",
            "        ██║ ╚═╝ ██║██║  ██║██║ ╚═╝ ██║██████╔╝██║  ██║\n",
            "        ╚═╝     ╚═╝╚═╝  ╚═╝╚═╝     ╚═╝╚═════╝ ╚═╝  ╚═╝\n",
            "\n",
            "        mamba (0.8.0) supported by @QuantStack\n",
            "\n",
            "        GitHub:  https://github.com/mamba-org/mamba\n",
            "        Twitter: https://twitter.com/QuantStack\n",
            "\n",
            "█████████████████████████████████████████████████████████████\n",
            "\n",
            "\n",
            "Looking for: ['rdkit']\n",
            "\n",
            "conda-forge/linux-64     Using cache\n",
            "conda-forge/noarch       Using cache\n",
            "pkgs/main/linux-64       [] (--:--) No change\n",
            "pkgs/main/linux-64       [] (00m:00s) No change\n",
            "pkgs/main/linux-64       [] (00m:00s) No change\n",
            "pkgs/main/noarch         [] (--:--) No change\n",
            "pkgs/main/noarch         [] (00m:00s) No change\n",
            "pkgs/main/noarch         [] (00m:00s) No change\n",
            "pkgs/r/linux-64          [] (--:--) No change\n",
            "pkgs/r/linux-64          [] (00m:00s) No change\n",
            "pkgs/r/linux-64          [] (00m:00s) No change\n",
            "pkgs/r/noarch            [] (--:--) No change\n",
            "pkgs/r/noarch            [] (00m:00s) No change\n",
            "pkgs/r/noarch            [] (00m:00s) No change\n",
            "Transaction\n",
            "\n",
            "  Prefix: /usr/local\n",
            "\n",
            "  All requested packages already installed\n",
            "\n"
          ]
        }
      ]
    },
    {
      "cell_type": "code",
      "metadata": {
        "id": "YJWfOJVgocgn",
        "colab": {
          "base_uri": "https://localhost:8080/"
        },
        "outputId": "45ed330f-94ea-442f-9bda-298afa4881aa"
      },
      "source": [
        "!pip install selfies\n",
        "!pip install pubchempy"
      ],
      "execution_count": 3,
      "outputs": [
        {
          "output_type": "stream",
          "name": "stdout",
          "text": [
            "Requirement already satisfied: selfies in /usr/local/lib/python3.7/site-packages (2.0.0)\n",
            "Requirement already satisfied: pubchempy in /usr/local/lib/python3.7/site-packages (1.0.4)\n"
          ]
        }
      ]
    },
    {
      "cell_type": "code",
      "metadata": {
        "id": "1NovE6_oYfcy"
      },
      "source": [
        "import selfies as sf\n",
        "import pandas as pd\n",
        "import pubchempy as pcp\n",
        "from rdkit import Chem\n",
        "from rdkit.Chem import rdMolDescriptors as rmd"
      ],
      "execution_count": 4,
      "outputs": []
    },
    {
      "cell_type": "markdown",
      "metadata": {
        "id": "OLnfvz-RZiFf"
      },
      "source": [
        "## Testing Encoding and Decoding on One Smiles Molecule"
      ]
    },
    {
      "cell_type": "code",
      "metadata": {
        "id": "cICrlUHLYkVY"
      },
      "source": [
        "original_smiles = \"Clc1c(Cl)c(Cl)c(c(Cl)c1Cl)c2c(Cl)c(Cl)c(Cl)c(Cl)c2Cl\""
      ],
      "execution_count": 5,
      "outputs": []
    },
    {
      "cell_type": "code",
      "metadata": {
        "id": "L-SNcRLNY6CU"
      },
      "source": [
        "encoded_selfies = sf.encoder(original_smiles)\n",
        "decoded_smiles = sf.decoder(encoded_selfies)"
      ],
      "execution_count": 6,
      "outputs": []
    },
    {
      "cell_type": "code",
      "metadata": {
        "id": "TzZOVb0aY7SH",
        "colab": {
          "base_uri": "https://localhost:8080/"
        },
        "outputId": "1c2e22dd-662b-4145-c1b8-a1c4315c32dd"
      },
      "source": [
        "print(encoded_selfies)\n",
        "print(decoded_smiles)"
      ],
      "execution_count": 7,
      "outputs": [
        {
          "output_type": "stream",
          "name": "stdout",
          "text": [
            "[Cl][C][=C][Branch1][C][Cl][C][Branch1][C][Cl][=C][Branch1][=Branch2][C][Branch1][C][Cl][=C][Ring1][=Branch2][Cl][C][=C][Branch1][C][Cl][C][Branch1][C][Cl][=C][Branch1][C][Cl][C][Branch1][C][Cl][=C][Ring1][#Branch2][Cl]\n",
            "ClC1=C(Cl)C(Cl)=C(C(Cl)=C1Cl)C2=C(Cl)C(Cl)=C(Cl)C(Cl)=C2Cl\n"
          ]
        }
      ]
    },
    {
      "cell_type": "markdown",
      "metadata": {
        "id": "0lIkH6giZsji"
      },
      "source": [
        "## Preprocessing QM9 Smiles Dataset"
      ]
    },
    {
      "cell_type": "code",
      "metadata": {
        "id": "xw3WhocTaYnx"
      },
      "source": [
        "#smiles_df = pd.read_csv(\"OriginalSMILES_QM9.csv\")\n",
        "smiles_df = pd.read_csv(\"smiles_data.csv\")"
      ],
      "execution_count": 8,
      "outputs": []
    },
    {
      "cell_type": "code",
      "metadata": {
        "id": "BCmx4Eq5ag7w"
      },
      "source": [
        "smiles_df = smiles_df.drop('Unnamed: 0', axis=1)"
      ],
      "execution_count": 9,
      "outputs": []
    },
    {
      "cell_type": "code",
      "metadata": {
        "id": "EtXB5Ny6LJos",
        "colab": {
          "base_uri": "https://localhost:8080/",
          "height": 424
        },
        "outputId": "ccd109f7-7756-4719-a11f-78d41846bc08"
      },
      "source": [
        "smiles_df"
      ],
      "execution_count": 10,
      "outputs": [
        {
          "output_type": "execute_result",
          "data": {
            "text/html": [
              "<div>\n",
              "<style scoped>\n",
              "    .dataframe tbody tr th:only-of-type {\n",
              "        vertical-align: middle;\n",
              "    }\n",
              "\n",
              "    .dataframe tbody tr th {\n",
              "        vertical-align: top;\n",
              "    }\n",
              "\n",
              "    .dataframe thead th {\n",
              "        text-align: right;\n",
              "    }\n",
              "</style>\n",
              "<table border=\"1\" class=\"dataframe\">\n",
              "  <thead>\n",
              "    <tr style=\"text-align: right;\">\n",
              "      <th></th>\n",
              "      <th>SMILES</th>\n",
              "    </tr>\n",
              "  </thead>\n",
              "  <tbody>\n",
              "    <tr>\n",
              "      <th>0</th>\n",
              "      <td>[Br-].CCCCCCCCCCCCCCCCCC[N+](C)(C)C</td>\n",
              "    </tr>\n",
              "    <tr>\n",
              "      <th>1</th>\n",
              "      <td>O=C1Nc2cccc3cccc1c23</td>\n",
              "    </tr>\n",
              "    <tr>\n",
              "      <th>2</th>\n",
              "      <td>Clc1ccc(C=O)cc1</td>\n",
              "    </tr>\n",
              "    <tr>\n",
              "      <th>3</th>\n",
              "      <td>[Zn++].CC(c1ccccc1)c2cc(C(C)c3ccccc3)c(O)c(c2)...</td>\n",
              "    </tr>\n",
              "    <tr>\n",
              "      <th>4</th>\n",
              "      <td>C1OC1CN(CC2CO2)c3ccc(Cc4ccc(cc4)N(CC5CO5)CC6CO...</td>\n",
              "    </tr>\n",
              "    <tr>\n",
              "      <th>...</th>\n",
              "      <td>...</td>\n",
              "    </tr>\n",
              "    <tr>\n",
              "      <th>9977</th>\n",
              "      <td>C(c1ccc(cc1)NCCCC)(=O)OCCN(C)C</td>\n",
              "    </tr>\n",
              "    <tr>\n",
              "      <th>9978</th>\n",
              "      <td>OC1=C(C(C2=C(O)[C@@](C(C(C(N)=O)=C(O)[C@H]3N(C...</td>\n",
              "    </tr>\n",
              "    <tr>\n",
              "      <th>9979</th>\n",
              "      <td>c1(cc(ccc1C(C)C)C)O</td>\n",
              "    </tr>\n",
              "    <tr>\n",
              "      <th>9980</th>\n",
              "      <td>COc1ccc(CCN(C)CCCC(C#N)(C(C)C)c2ccc(OC)c(OC)c2...</td>\n",
              "    </tr>\n",
              "    <tr>\n",
              "      <th>9981</th>\n",
              "      <td>CC(=O)CC(c1ccccc1)c1c(O)c2ccccc2oc1=O</td>\n",
              "    </tr>\n",
              "  </tbody>\n",
              "</table>\n",
              "<p>9982 rows × 1 columns</p>\n",
              "</div>"
            ],
            "text/plain": [
              "                                                 SMILES\n",
              "0                   [Br-].CCCCCCCCCCCCCCCCCC[N+](C)(C)C\n",
              "1                                  O=C1Nc2cccc3cccc1c23\n",
              "2                                       Clc1ccc(C=O)cc1\n",
              "3     [Zn++].CC(c1ccccc1)c2cc(C(C)c3ccccc3)c(O)c(c2)...\n",
              "4     C1OC1CN(CC2CO2)c3ccc(Cc4ccc(cc4)N(CC5CO5)CC6CO...\n",
              "...                                                 ...\n",
              "9977                     C(c1ccc(cc1)NCCCC)(=O)OCCN(C)C\n",
              "9978  OC1=C(C(C2=C(O)[C@@](C(C(C(N)=O)=C(O)[C@H]3N(C...\n",
              "9979                                c1(cc(ccc1C(C)C)C)O\n",
              "9980  COc1ccc(CCN(C)CCCC(C#N)(C(C)C)c2ccc(OC)c(OC)c2...\n",
              "9981              CC(=O)CC(c1ccccc1)c1c(O)c2ccccc2oc1=O\n",
              "\n",
              "[9982 rows x 1 columns]"
            ]
          },
          "metadata": {},
          "execution_count": 10
        }
      ]
    },
    {
      "cell_type": "markdown",
      "metadata": {
        "id": "iXc6El1wM4oi"
      },
      "source": [
        "### Finding the Count of C, N, O, F in Each Compound"
      ]
    },
    {
      "cell_type": "code",
      "metadata": {
        "id": "oDfqcRRyLQLV"
      },
      "source": [
        "carbons = [] # lists to store number of each element in each compound\n",
        "nitrogens = []\n",
        "oxygens = []\n",
        "fluorines = []\n",
        "\n",
        "for i in range(len(smiles_df)): # goes through each molecule, converts to all lowercase, and appends count of each element\n",
        "  smiles_df['SMILES'][i] = smiles_df['SMILES'][i].strip()\n",
        "  molecule = smiles_df['SMILES'][i].lower()\n",
        "  carbons.append(molecule.count('c'))\n",
        "  nitrogens.append(molecule.count('n'))\n",
        "  oxygens.append(molecule.count('o'))\n",
        "  fluorines.append(molecule.count('f'))"
      ],
      "execution_count": 11,
      "outputs": []
    },
    {
      "cell_type": "code",
      "metadata": {
        "id": "_JKmAR73OtWy"
      },
      "source": [
        "smiles_df['carbons'] = carbons # add count to dataframe\n",
        "smiles_df['nitrogens'] = nitrogens\n",
        "smiles_df['oxygens'] = oxygens\n",
        "smiles_df['fluorines'] = fluorines"
      ],
      "execution_count": 12,
      "outputs": []
    },
    {
      "cell_type": "markdown",
      "metadata": {
        "id": "Q6vutMuWKMEX"
      },
      "source": [
        "### Finding Count of H in Each Compound"
      ]
    },
    {
      "cell_type": "markdown",
      "metadata": {
        "id": "lfHue0OnK9G8"
      },
      "source": [
        "#### Get Molecular Formula of SMILES Molecule"
      ]
    },
    {
      "cell_type": "code",
      "metadata": {
        "id": "2UTVBrkaKTNV"
      },
      "source": [
        "hydrogens = [] # list to store number of hydrogrens in each compound\n",
        "\n",
        "for i in range(len(smiles_df)): # goes through each molecule and gets molecular formula\n",
        "  smiles = smiles_df['SMILES'][i]\n",
        "  compound = Chem.MolFromSmiles(smiles) # finds the molecular formula of the smiles\n",
        "  compound = rmd.CalcMolFormula(compound)\n",
        "  \n",
        "  countH = 0\n",
        "  for i in range(len(compound)):\n",
        "    if compound[i] == 'H':\n",
        "      idx = 1\n",
        "      countStr = ''\n",
        "      while (ord(compound[i + idx]) >= 48 and ord(compound[i + idx]) <= 57):\n",
        "        countStr += compound[i + idx]\n",
        "        if ((i + idx + 1) == len(compound)):\n",
        "          break\n",
        "        idx += 1\n",
        "      if (countStr == ''):\n",
        "        countH = 1\n",
        "      else:\n",
        "        countH = int(countStr)\n",
        "      break\n",
        "  hydrogens.append(countH)\n",
        "\n",
        "smiles_df['hydrogens'] = hydrogens"
      ],
      "execution_count": 13,
      "outputs": []
    },
    {
      "cell_type": "code",
      "metadata": {
        "id": "AUgmai8xPAJi",
        "colab": {
          "base_uri": "https://localhost:8080/",
          "height": 424
        },
        "outputId": "b54b8459-9014-45d9-ee6f-c6d08d20505b"
      },
      "source": [
        "smiles_df"
      ],
      "execution_count": 14,
      "outputs": [
        {
          "output_type": "execute_result",
          "data": {
            "text/html": [
              "<div>\n",
              "<style scoped>\n",
              "    .dataframe tbody tr th:only-of-type {\n",
              "        vertical-align: middle;\n",
              "    }\n",
              "\n",
              "    .dataframe tbody tr th {\n",
              "        vertical-align: top;\n",
              "    }\n",
              "\n",
              "    .dataframe thead th {\n",
              "        text-align: right;\n",
              "    }\n",
              "</style>\n",
              "<table border=\"1\" class=\"dataframe\">\n",
              "  <thead>\n",
              "    <tr style=\"text-align: right;\">\n",
              "      <th></th>\n",
              "      <th>SMILES</th>\n",
              "      <th>carbons</th>\n",
              "      <th>nitrogens</th>\n",
              "      <th>oxygens</th>\n",
              "      <th>fluorines</th>\n",
              "      <th>hydrogens</th>\n",
              "    </tr>\n",
              "  </thead>\n",
              "  <tbody>\n",
              "    <tr>\n",
              "      <th>0</th>\n",
              "      <td>[Br-].CCCCCCCCCCCCCCCCCC[N+](C)(C)C</td>\n",
              "      <td>21</td>\n",
              "      <td>1</td>\n",
              "      <td>0</td>\n",
              "      <td>0</td>\n",
              "      <td>46</td>\n",
              "    </tr>\n",
              "    <tr>\n",
              "      <th>1</th>\n",
              "      <td>O=C1Nc2cccc3cccc1c23</td>\n",
              "      <td>11</td>\n",
              "      <td>1</td>\n",
              "      <td>1</td>\n",
              "      <td>0</td>\n",
              "      <td>7</td>\n",
              "    </tr>\n",
              "    <tr>\n",
              "      <th>2</th>\n",
              "      <td>Clc1ccc(C=O)cc1</td>\n",
              "      <td>8</td>\n",
              "      <td>0</td>\n",
              "      <td>1</td>\n",
              "      <td>0</td>\n",
              "      <td>5</td>\n",
              "    </tr>\n",
              "    <tr>\n",
              "      <th>3</th>\n",
              "      <td>[Zn++].CC(c1ccccc1)c2cc(C(C)c3ccccc3)c(O)c(c2)...</td>\n",
              "      <td>46</td>\n",
              "      <td>1</td>\n",
              "      <td>6</td>\n",
              "      <td>0</td>\n",
              "      <td>42</td>\n",
              "    </tr>\n",
              "    <tr>\n",
              "      <th>4</th>\n",
              "      <td>C1OC1CN(CC2CO2)c3ccc(Cc4ccc(cc4)N(CC5CO5)CC6CO...</td>\n",
              "      <td>25</td>\n",
              "      <td>2</td>\n",
              "      <td>4</td>\n",
              "      <td>0</td>\n",
              "      <td>30</td>\n",
              "    </tr>\n",
              "    <tr>\n",
              "      <th>...</th>\n",
              "      <td>...</td>\n",
              "      <td>...</td>\n",
              "      <td>...</td>\n",
              "      <td>...</td>\n",
              "      <td>...</td>\n",
              "      <td>...</td>\n",
              "    </tr>\n",
              "    <tr>\n",
              "      <th>9977</th>\n",
              "      <td>C(c1ccc(cc1)NCCCC)(=O)OCCN(C)C</td>\n",
              "      <td>15</td>\n",
              "      <td>2</td>\n",
              "      <td>2</td>\n",
              "      <td>0</td>\n",
              "      <td>24</td>\n",
              "    </tr>\n",
              "    <tr>\n",
              "      <th>9978</th>\n",
              "      <td>OC1=C(C(C2=C(O)[C@@](C(C(C(N)=O)=C(O)[C@H]3N(C...</td>\n",
              "      <td>22</td>\n",
              "      <td>2</td>\n",
              "      <td>8</td>\n",
              "      <td>0</td>\n",
              "      <td>24</td>\n",
              "    </tr>\n",
              "    <tr>\n",
              "      <th>9979</th>\n",
              "      <td>c1(cc(ccc1C(C)C)C)O</td>\n",
              "      <td>10</td>\n",
              "      <td>0</td>\n",
              "      <td>1</td>\n",
              "      <td>0</td>\n",
              "      <td>14</td>\n",
              "    </tr>\n",
              "    <tr>\n",
              "      <th>9980</th>\n",
              "      <td>COc1ccc(CCN(C)CCCC(C#N)(C(C)C)c2ccc(OC)c(OC)c2...</td>\n",
              "      <td>27</td>\n",
              "      <td>2</td>\n",
              "      <td>4</td>\n",
              "      <td>0</td>\n",
              "      <td>38</td>\n",
              "    </tr>\n",
              "    <tr>\n",
              "      <th>9981</th>\n",
              "      <td>CC(=O)CC(c1ccccc1)c1c(O)c2ccccc2oc1=O</td>\n",
              "      <td>19</td>\n",
              "      <td>0</td>\n",
              "      <td>4</td>\n",
              "      <td>0</td>\n",
              "      <td>16</td>\n",
              "    </tr>\n",
              "  </tbody>\n",
              "</table>\n",
              "<p>9982 rows × 6 columns</p>\n",
              "</div>"
            ],
            "text/plain": [
              "                                                 SMILES  ...  hydrogens\n",
              "0                   [Br-].CCCCCCCCCCCCCCCCCC[N+](C)(C)C  ...         46\n",
              "1                                  O=C1Nc2cccc3cccc1c23  ...          7\n",
              "2                                       Clc1ccc(C=O)cc1  ...          5\n",
              "3     [Zn++].CC(c1ccccc1)c2cc(C(C)c3ccccc3)c(O)c(c2)...  ...         42\n",
              "4     C1OC1CN(CC2CO2)c3ccc(Cc4ccc(cc4)N(CC5CO5)CC6CO...  ...         30\n",
              "...                                                 ...  ...        ...\n",
              "9977                     C(c1ccc(cc1)NCCCC)(=O)OCCN(C)C  ...         24\n",
              "9978  OC1=C(C(C2=C(O)[C@@](C(C(C(N)=O)=C(O)[C@H]3N(C...  ...         24\n",
              "9979                                c1(cc(ccc1C(C)C)C)O  ...         14\n",
              "9980  COc1ccc(CCN(C)CCCC(C#N)(C(C)C)c2ccc(OC)c(OC)c2...  ...         38\n",
              "9981              CC(=O)CC(c1ccccc1)c1c(O)c2ccccc2oc1=O  ...         16\n",
              "\n",
              "[9982 rows x 6 columns]"
            ]
          },
          "metadata": {},
          "execution_count": 14
        }
      ]
    },
    {
      "cell_type": "code",
      "metadata": {
        "id": "78wZkLQwxSRN"
      },
      "source": [
        "smiles_df = smiles_df.drop(smiles_df[smiles_df.fluorines > 0].index) # drop all data points with atleast one fluorine"
      ],
      "execution_count": 15,
      "outputs": []
    },
    {
      "cell_type": "code",
      "metadata": {
        "id": "RVcoatVqyBpr",
        "colab": {
          "base_uri": "https://localhost:8080/",
          "height": 424
        },
        "outputId": "8c98def2-0f71-4896-bd04-560d3b5bdd4b"
      },
      "source": [
        "smiles_df"
      ],
      "execution_count": 16,
      "outputs": [
        {
          "output_type": "execute_result",
          "data": {
            "text/html": [
              "<div>\n",
              "<style scoped>\n",
              "    .dataframe tbody tr th:only-of-type {\n",
              "        vertical-align: middle;\n",
              "    }\n",
              "\n",
              "    .dataframe tbody tr th {\n",
              "        vertical-align: top;\n",
              "    }\n",
              "\n",
              "    .dataframe thead th {\n",
              "        text-align: right;\n",
              "    }\n",
              "</style>\n",
              "<table border=\"1\" class=\"dataframe\">\n",
              "  <thead>\n",
              "    <tr style=\"text-align: right;\">\n",
              "      <th></th>\n",
              "      <th>SMILES</th>\n",
              "      <th>carbons</th>\n",
              "      <th>nitrogens</th>\n",
              "      <th>oxygens</th>\n",
              "      <th>fluorines</th>\n",
              "      <th>hydrogens</th>\n",
              "    </tr>\n",
              "  </thead>\n",
              "  <tbody>\n",
              "    <tr>\n",
              "      <th>0</th>\n",
              "      <td>[Br-].CCCCCCCCCCCCCCCCCC[N+](C)(C)C</td>\n",
              "      <td>21</td>\n",
              "      <td>1</td>\n",
              "      <td>0</td>\n",
              "      <td>0</td>\n",
              "      <td>46</td>\n",
              "    </tr>\n",
              "    <tr>\n",
              "      <th>1</th>\n",
              "      <td>O=C1Nc2cccc3cccc1c23</td>\n",
              "      <td>11</td>\n",
              "      <td>1</td>\n",
              "      <td>1</td>\n",
              "      <td>0</td>\n",
              "      <td>7</td>\n",
              "    </tr>\n",
              "    <tr>\n",
              "      <th>2</th>\n",
              "      <td>Clc1ccc(C=O)cc1</td>\n",
              "      <td>8</td>\n",
              "      <td>0</td>\n",
              "      <td>1</td>\n",
              "      <td>0</td>\n",
              "      <td>5</td>\n",
              "    </tr>\n",
              "    <tr>\n",
              "      <th>3</th>\n",
              "      <td>[Zn++].CC(c1ccccc1)c2cc(C(C)c3ccccc3)c(O)c(c2)...</td>\n",
              "      <td>46</td>\n",
              "      <td>1</td>\n",
              "      <td>6</td>\n",
              "      <td>0</td>\n",
              "      <td>42</td>\n",
              "    </tr>\n",
              "    <tr>\n",
              "      <th>4</th>\n",
              "      <td>C1OC1CN(CC2CO2)c3ccc(Cc4ccc(cc4)N(CC5CO5)CC6CO...</td>\n",
              "      <td>25</td>\n",
              "      <td>2</td>\n",
              "      <td>4</td>\n",
              "      <td>0</td>\n",
              "      <td>30</td>\n",
              "    </tr>\n",
              "    <tr>\n",
              "      <th>...</th>\n",
              "      <td>...</td>\n",
              "      <td>...</td>\n",
              "      <td>...</td>\n",
              "      <td>...</td>\n",
              "      <td>...</td>\n",
              "      <td>...</td>\n",
              "    </tr>\n",
              "    <tr>\n",
              "      <th>9977</th>\n",
              "      <td>C(c1ccc(cc1)NCCCC)(=O)OCCN(C)C</td>\n",
              "      <td>15</td>\n",
              "      <td>2</td>\n",
              "      <td>2</td>\n",
              "      <td>0</td>\n",
              "      <td>24</td>\n",
              "    </tr>\n",
              "    <tr>\n",
              "      <th>9978</th>\n",
              "      <td>OC1=C(C(C2=C(O)[C@@](C(C(C(N)=O)=C(O)[C@H]3N(C...</td>\n",
              "      <td>22</td>\n",
              "      <td>2</td>\n",
              "      <td>8</td>\n",
              "      <td>0</td>\n",
              "      <td>24</td>\n",
              "    </tr>\n",
              "    <tr>\n",
              "      <th>9979</th>\n",
              "      <td>c1(cc(ccc1C(C)C)C)O</td>\n",
              "      <td>10</td>\n",
              "      <td>0</td>\n",
              "      <td>1</td>\n",
              "      <td>0</td>\n",
              "      <td>14</td>\n",
              "    </tr>\n",
              "    <tr>\n",
              "      <th>9980</th>\n",
              "      <td>COc1ccc(CCN(C)CCCC(C#N)(C(C)C)c2ccc(OC)c(OC)c2...</td>\n",
              "      <td>27</td>\n",
              "      <td>2</td>\n",
              "      <td>4</td>\n",
              "      <td>0</td>\n",
              "      <td>38</td>\n",
              "    </tr>\n",
              "    <tr>\n",
              "      <th>9981</th>\n",
              "      <td>CC(=O)CC(c1ccccc1)c1c(O)c2ccccc2oc1=O</td>\n",
              "      <td>19</td>\n",
              "      <td>0</td>\n",
              "      <td>4</td>\n",
              "      <td>0</td>\n",
              "      <td>16</td>\n",
              "    </tr>\n",
              "  </tbody>\n",
              "</table>\n",
              "<p>9472 rows × 6 columns</p>\n",
              "</div>"
            ],
            "text/plain": [
              "                                                 SMILES  ...  hydrogens\n",
              "0                   [Br-].CCCCCCCCCCCCCCCCCC[N+](C)(C)C  ...         46\n",
              "1                                  O=C1Nc2cccc3cccc1c23  ...          7\n",
              "2                                       Clc1ccc(C=O)cc1  ...          5\n",
              "3     [Zn++].CC(c1ccccc1)c2cc(C(C)c3ccccc3)c(O)c(c2)...  ...         42\n",
              "4     C1OC1CN(CC2CO2)c3ccc(Cc4ccc(cc4)N(CC5CO5)CC6CO...  ...         30\n",
              "...                                                 ...  ...        ...\n",
              "9977                     C(c1ccc(cc1)NCCCC)(=O)OCCN(C)C  ...         24\n",
              "9978  OC1=C(C(C2=C(O)[C@@](C(C(C(N)=O)=C(O)[C@H]3N(C...  ...         24\n",
              "9979                                c1(cc(ccc1C(C)C)C)O  ...         14\n",
              "9980  COc1ccc(CCN(C)CCCC(C#N)(C(C)C)c2ccc(OC)c(OC)c2...  ...         38\n",
              "9981              CC(=O)CC(c1ccccc1)c1c(O)c2ccccc2oc1=O  ...         16\n",
              "\n",
              "[9472 rows x 6 columns]"
            ]
          },
          "metadata": {},
          "execution_count": 16
        }
      ]
    },
    {
      "cell_type": "code",
      "metadata": {
        "id": "hzC4HJrxxutu"
      },
      "source": [
        "smiles_df = smiles_df.drop(columns='fluorines')"
      ],
      "execution_count": 17,
      "outputs": []
    },
    {
      "cell_type": "code",
      "metadata": {
        "id": "MFXd8gFd0Xlg"
      },
      "source": [
        "smiles_df = smiles_df.reset_index()"
      ],
      "execution_count": 18,
      "outputs": []
    },
    {
      "cell_type": "code",
      "metadata": {
        "id": "Eyq0StB90efO"
      },
      "source": [
        "smiles_df = smiles_df.drop('index', axis=1)"
      ],
      "execution_count": 19,
      "outputs": []
    },
    {
      "cell_type": "code",
      "metadata": {
        "id": "JdsPGtE9UZcH",
        "colab": {
          "base_uri": "https://localhost:8080/",
          "height": 424
        },
        "outputId": "d2f9db63-30a4-4509-893e-0ba991b4a3fc"
      },
      "source": [
        "smiles_df"
      ],
      "execution_count": 20,
      "outputs": [
        {
          "output_type": "execute_result",
          "data": {
            "text/html": [
              "<div>\n",
              "<style scoped>\n",
              "    .dataframe tbody tr th:only-of-type {\n",
              "        vertical-align: middle;\n",
              "    }\n",
              "\n",
              "    .dataframe tbody tr th {\n",
              "        vertical-align: top;\n",
              "    }\n",
              "\n",
              "    .dataframe thead th {\n",
              "        text-align: right;\n",
              "    }\n",
              "</style>\n",
              "<table border=\"1\" class=\"dataframe\">\n",
              "  <thead>\n",
              "    <tr style=\"text-align: right;\">\n",
              "      <th></th>\n",
              "      <th>SMILES</th>\n",
              "      <th>carbons</th>\n",
              "      <th>nitrogens</th>\n",
              "      <th>oxygens</th>\n",
              "      <th>hydrogens</th>\n",
              "    </tr>\n",
              "  </thead>\n",
              "  <tbody>\n",
              "    <tr>\n",
              "      <th>0</th>\n",
              "      <td>[Br-].CCCCCCCCCCCCCCCCCC[N+](C)(C)C</td>\n",
              "      <td>21</td>\n",
              "      <td>1</td>\n",
              "      <td>0</td>\n",
              "      <td>46</td>\n",
              "    </tr>\n",
              "    <tr>\n",
              "      <th>1</th>\n",
              "      <td>O=C1Nc2cccc3cccc1c23</td>\n",
              "      <td>11</td>\n",
              "      <td>1</td>\n",
              "      <td>1</td>\n",
              "      <td>7</td>\n",
              "    </tr>\n",
              "    <tr>\n",
              "      <th>2</th>\n",
              "      <td>Clc1ccc(C=O)cc1</td>\n",
              "      <td>8</td>\n",
              "      <td>0</td>\n",
              "      <td>1</td>\n",
              "      <td>5</td>\n",
              "    </tr>\n",
              "    <tr>\n",
              "      <th>3</th>\n",
              "      <td>[Zn++].CC(c1ccccc1)c2cc(C(C)c3ccccc3)c(O)c(c2)...</td>\n",
              "      <td>46</td>\n",
              "      <td>1</td>\n",
              "      <td>6</td>\n",
              "      <td>42</td>\n",
              "    </tr>\n",
              "    <tr>\n",
              "      <th>4</th>\n",
              "      <td>C1OC1CN(CC2CO2)c3ccc(Cc4ccc(cc4)N(CC5CO5)CC6CO...</td>\n",
              "      <td>25</td>\n",
              "      <td>2</td>\n",
              "      <td>4</td>\n",
              "      <td>30</td>\n",
              "    </tr>\n",
              "    <tr>\n",
              "      <th>...</th>\n",
              "      <td>...</td>\n",
              "      <td>...</td>\n",
              "      <td>...</td>\n",
              "      <td>...</td>\n",
              "      <td>...</td>\n",
              "    </tr>\n",
              "    <tr>\n",
              "      <th>9467</th>\n",
              "      <td>C(c1ccc(cc1)NCCCC)(=O)OCCN(C)C</td>\n",
              "      <td>15</td>\n",
              "      <td>2</td>\n",
              "      <td>2</td>\n",
              "      <td>24</td>\n",
              "    </tr>\n",
              "    <tr>\n",
              "      <th>9468</th>\n",
              "      <td>OC1=C(C(C2=C(O)[C@@](C(C(C(N)=O)=C(O)[C@H]3N(C...</td>\n",
              "      <td>22</td>\n",
              "      <td>2</td>\n",
              "      <td>8</td>\n",
              "      <td>24</td>\n",
              "    </tr>\n",
              "    <tr>\n",
              "      <th>9469</th>\n",
              "      <td>c1(cc(ccc1C(C)C)C)O</td>\n",
              "      <td>10</td>\n",
              "      <td>0</td>\n",
              "      <td>1</td>\n",
              "      <td>14</td>\n",
              "    </tr>\n",
              "    <tr>\n",
              "      <th>9470</th>\n",
              "      <td>COc1ccc(CCN(C)CCCC(C#N)(C(C)C)c2ccc(OC)c(OC)c2...</td>\n",
              "      <td>27</td>\n",
              "      <td>2</td>\n",
              "      <td>4</td>\n",
              "      <td>38</td>\n",
              "    </tr>\n",
              "    <tr>\n",
              "      <th>9471</th>\n",
              "      <td>CC(=O)CC(c1ccccc1)c1c(O)c2ccccc2oc1=O</td>\n",
              "      <td>19</td>\n",
              "      <td>0</td>\n",
              "      <td>4</td>\n",
              "      <td>16</td>\n",
              "    </tr>\n",
              "  </tbody>\n",
              "</table>\n",
              "<p>9472 rows × 5 columns</p>\n",
              "</div>"
            ],
            "text/plain": [
              "                                                 SMILES  ...  hydrogens\n",
              "0                   [Br-].CCCCCCCCCCCCCCCCCC[N+](C)(C)C  ...         46\n",
              "1                                  O=C1Nc2cccc3cccc1c23  ...          7\n",
              "2                                       Clc1ccc(C=O)cc1  ...          5\n",
              "3     [Zn++].CC(c1ccccc1)c2cc(C(C)c3ccccc3)c(O)c(c2)...  ...         42\n",
              "4     C1OC1CN(CC2CO2)c3ccc(Cc4ccc(cc4)N(CC5CO5)CC6CO...  ...         30\n",
              "...                                                 ...  ...        ...\n",
              "9467                     C(c1ccc(cc1)NCCCC)(=O)OCCN(C)C  ...         24\n",
              "9468  OC1=C(C(C2=C(O)[C@@](C(C(C(N)=O)=C(O)[C@H]3N(C...  ...         24\n",
              "9469                                c1(cc(ccc1C(C)C)C)O  ...         14\n",
              "9470  COc1ccc(CCN(C)CCCC(C#N)(C(C)C)c2ccc(OC)c(OC)c2...  ...         38\n",
              "9471              CC(=O)CC(c1ccccc1)c1c(O)c2ccccc2oc1=O  ...         16\n",
              "\n",
              "[9472 rows x 5 columns]"
            ]
          },
          "metadata": {},
          "execution_count": 20
        }
      ]
    },
    {
      "cell_type": "code",
      "metadata": {
        "id": "P_EslZqDPpw6"
      },
      "source": [
        "smiles_csv_data = smiles_df.to_csv('SMILES_data.csv', index = True) # save updated dataframe as a csv file"
      ],
      "execution_count": 21,
      "outputs": []
    },
    {
      "cell_type": "markdown",
      "metadata": {
        "id": "9vSF9GDSRlf9"
      },
      "source": [
        "### Finding Max of Each Element"
      ]
    },
    {
      "cell_type": "code",
      "metadata": {
        "id": "XebfcSZhRr3c",
        "colab": {
          "base_uri": "https://localhost:8080/"
        },
        "outputId": "7a1f4140-9524-4bbe-e841-2b715c735f28"
      },
      "source": [
        "carbon_max = smiles_df['carbons'].max()\n",
        "nitrogen_max = smiles_df['nitrogens'].max()\n",
        "oxygen_max = smiles_df['oxygens'].max()\n",
        "hydrogen_max = smiles_df['hydrogens'].max()\n",
        "\n",
        "print(f'Max Carbons: {carbon_max}')\n",
        "print(f'Max Nitrogens: {nitrogen_max}')\n",
        "print(f'Max Oxygens: {oxygen_max}')\n",
        "print(f'Max Hydrogens: {hydrogen_max}')"
      ],
      "execution_count": 22,
      "outputs": [
        {
          "output_type": "stream",
          "name": "stdout",
          "text": [
            "Max Carbons: 299\n",
            "Max Nitrogens: 32\n",
            "Max Oxygens: 89\n",
            "Max Hydrogens: 336\n"
          ]
        }
      ]
    },
    {
      "cell_type": "markdown",
      "metadata": {
        "id": "wqVfHTRSQbbC"
      },
      "source": [
        "## Coverting Smiles Dataset to Selfies Dataset"
      ]
    },
    {
      "cell_type": "code",
      "metadata": {
        "id": "_qdrZ4pJbNWV"
      },
      "source": [
        "smiles_dataset = smiles_df['SMILES'].values.tolist()"
      ],
      "execution_count": 23,
      "outputs": []
    },
    {
      "cell_type": "code",
      "source": [
        "smiles_dataset[0:10]"
      ],
      "metadata": {
        "colab": {
          "base_uri": "https://localhost:8080/"
        },
        "id": "EXT8qrWzv0K6",
        "outputId": "ca0eb562-bceb-45db-b36f-2e48e1038f9d"
      },
      "execution_count": 24,
      "outputs": [
        {
          "output_type": "execute_result",
          "data": {
            "text/plain": [
              "['[Br-].CCCCCCCCCCCCCCCCCC[N+](C)(C)C',\n",
              " 'O=C1Nc2cccc3cccc1c23',\n",
              " 'Clc1ccc(C=O)cc1',\n",
              " '[Zn++].CC(c1ccccc1)c2cc(C(C)c3ccccc3)c(O)c(c2)C([O-])=O.CC(c4ccccc4)c5cc(C(C)c6ccccc6)c(O)c(c5)C([O-])=O',\n",
              " 'C1OC1CN(CC2CO2)c3ccc(Cc4ccc(cc4)N(CC5CO5)CC6CO6)cc3',\n",
              " 'Cc1cccc(C=C)c1',\n",
              " 'CCC1CCC(CCC(O)=O)C1',\n",
              " 'CC12CC(O)C3C(CCC4=CC(=O)C=CC34C)C1CC(O)C2(O)C(=O)CO',\n",
              " 'O=C(OCCCOCCCOC(=O)c1ccccc1)c2ccccc2',\n",
              " 'CN(C)c1ccc(C=O)cc1']"
            ]
          },
          "metadata": {},
          "execution_count": 24
        }
      ]
    },
    {
      "cell_type": "code",
      "source": [
        "sf.set_semantic_constraints(bond_constraints='hypervalent')"
      ],
      "metadata": {
        "id": "o9GS8u0M1uYP"
      },
      "execution_count": 25,
      "outputs": []
    },
    {
      "cell_type": "code",
      "metadata": {
        "id": "klxehp9KZT8U"
      },
      "source": [
        "selfies_dataset = list(map(sf.encoder, smiles_dataset))"
      ],
      "execution_count": 26,
      "outputs": []
    },
    {
      "cell_type": "code",
      "metadata": {
        "id": "42LHmHjrc5Ud"
      },
      "source": [
        "selfies_df = pd.DataFrame(selfies_dataset, columns = ['selfies'])\n",
        "selfies_df['carbons'] = smiles_df['carbons'].values.tolist() # add count to dataframe\n",
        "selfies_df['nitrogens'] = smiles_df['nitrogens'].values.tolist()\n",
        "selfies_df['oxygens'] = smiles_df['oxygens'].values.tolist()\n",
        "selfies_df['hydrogens'] = smiles_df['hydrogens'].values.tolist()"
      ],
      "execution_count": 27,
      "outputs": []
    },
    {
      "cell_type": "code",
      "metadata": {
        "id": "t3Ehwx4Ddw20",
        "colab": {
          "base_uri": "https://localhost:8080/",
          "height": 424
        },
        "outputId": "949ae393-08a2-4654-cc32-161dff9050d9"
      },
      "source": [
        "selfies_df"
      ],
      "execution_count": 28,
      "outputs": [
        {
          "output_type": "execute_result",
          "data": {
            "text/html": [
              "<div>\n",
              "<style scoped>\n",
              "    .dataframe tbody tr th:only-of-type {\n",
              "        vertical-align: middle;\n",
              "    }\n",
              "\n",
              "    .dataframe tbody tr th {\n",
              "        vertical-align: top;\n",
              "    }\n",
              "\n",
              "    .dataframe thead th {\n",
              "        text-align: right;\n",
              "    }\n",
              "</style>\n",
              "<table border=\"1\" class=\"dataframe\">\n",
              "  <thead>\n",
              "    <tr style=\"text-align: right;\">\n",
              "      <th></th>\n",
              "      <th>selfies</th>\n",
              "      <th>carbons</th>\n",
              "      <th>nitrogens</th>\n",
              "      <th>oxygens</th>\n",
              "      <th>hydrogens</th>\n",
              "    </tr>\n",
              "  </thead>\n",
              "  <tbody>\n",
              "    <tr>\n",
              "      <th>0</th>\n",
              "      <td>[Br-1].[C][C][C][C][C][C][C][C][C][C][C][C][C]...</td>\n",
              "      <td>21</td>\n",
              "      <td>1</td>\n",
              "      <td>0</td>\n",
              "      <td>46</td>\n",
              "    </tr>\n",
              "    <tr>\n",
              "      <th>1</th>\n",
              "      <td>[O][=C][N][C][=C][C][=C][C][=C][C][=C][C][Ring...</td>\n",
              "      <td>11</td>\n",
              "      <td>1</td>\n",
              "      <td>1</td>\n",
              "      <td>7</td>\n",
              "    </tr>\n",
              "    <tr>\n",
              "      <th>2</th>\n",
              "      <td>[Cl][C][=C][C][=C][Branch1][Ring1][C][=O][C][=...</td>\n",
              "      <td>8</td>\n",
              "      <td>0</td>\n",
              "      <td>1</td>\n",
              "      <td>5</td>\n",
              "    </tr>\n",
              "    <tr>\n",
              "      <th>3</th>\n",
              "      <td>[Zn+2].[C][C][Branch1][=Branch2][C][=C][C][=C]...</td>\n",
              "      <td>46</td>\n",
              "      <td>1</td>\n",
              "      <td>6</td>\n",
              "      <td>42</td>\n",
              "    </tr>\n",
              "    <tr>\n",
              "      <th>4</th>\n",
              "      <td>[C][O][C][Ring1][Ring1][C][N][Branch1][#Branch...</td>\n",
              "      <td>25</td>\n",
              "      <td>2</td>\n",
              "      <td>4</td>\n",
              "      <td>30</td>\n",
              "    </tr>\n",
              "    <tr>\n",
              "      <th>...</th>\n",
              "      <td>...</td>\n",
              "      <td>...</td>\n",
              "      <td>...</td>\n",
              "      <td>...</td>\n",
              "      <td>...</td>\n",
              "    </tr>\n",
              "    <tr>\n",
              "      <th>9467</th>\n",
              "      <td>[C][Branch1][S][C][=C][C][=C][Branch1][Branch1...</td>\n",
              "      <td>15</td>\n",
              "      <td>2</td>\n",
              "      <td>2</td>\n",
              "      <td>24</td>\n",
              "    </tr>\n",
              "    <tr>\n",
              "      <th>9468</th>\n",
              "      <td>[O][C][=C][Branch2][Branch1][N][C][Branch2][Br...</td>\n",
              "      <td>22</td>\n",
              "      <td>2</td>\n",
              "      <td>8</td>\n",
              "      <td>24</td>\n",
              "    </tr>\n",
              "    <tr>\n",
              "      <th>9469</th>\n",
              "      <td>[C][=Branch1][S][=C][C][=Branch1][O][=C][C][=C...</td>\n",
              "      <td>10</td>\n",
              "      <td>0</td>\n",
              "      <td>1</td>\n",
              "      <td>14</td>\n",
              "    </tr>\n",
              "    <tr>\n",
              "      <th>9470</th>\n",
              "      <td>[C][O][C][=C][C][=C][Branch2][Ring2][=Branch1]...</td>\n",
              "      <td>27</td>\n",
              "      <td>2</td>\n",
              "      <td>4</td>\n",
              "      <td>38</td>\n",
              "    </tr>\n",
              "    <tr>\n",
              "      <th>9471</th>\n",
              "      <td>[C][C][=Branch1][C][=O][C][C][Branch1][=Branch...</td>\n",
              "      <td>19</td>\n",
              "      <td>0</td>\n",
              "      <td>4</td>\n",
              "      <td>16</td>\n",
              "    </tr>\n",
              "  </tbody>\n",
              "</table>\n",
              "<p>9472 rows × 5 columns</p>\n",
              "</div>"
            ],
            "text/plain": [
              "                                                selfies  ...  hydrogens\n",
              "0     [Br-1].[C][C][C][C][C][C][C][C][C][C][C][C][C]...  ...         46\n",
              "1     [O][=C][N][C][=C][C][=C][C][=C][C][=C][C][Ring...  ...          7\n",
              "2     [Cl][C][=C][C][=C][Branch1][Ring1][C][=O][C][=...  ...          5\n",
              "3     [Zn+2].[C][C][Branch1][=Branch2][C][=C][C][=C]...  ...         42\n",
              "4     [C][O][C][Ring1][Ring1][C][N][Branch1][#Branch...  ...         30\n",
              "...                                                 ...  ...        ...\n",
              "9467  [C][Branch1][S][C][=C][C][=C][Branch1][Branch1...  ...         24\n",
              "9468  [O][C][=C][Branch2][Branch1][N][C][Branch2][Br...  ...         24\n",
              "9469  [C][=Branch1][S][=C][C][=Branch1][O][=C][C][=C...  ...         14\n",
              "9470  [C][O][C][=C][C][=C][Branch2][Ring2][=Branch1]...  ...         38\n",
              "9471  [C][C][=Branch1][C][=O][C][C][Branch1][=Branch...  ...         16\n",
              "\n",
              "[9472 rows x 5 columns]"
            ]
          },
          "metadata": {},
          "execution_count": 28
        }
      ]
    },
    {
      "cell_type": "code",
      "metadata": {
        "id": "M6dcgXr8d4L2"
      },
      "source": [
        "selfies_csv_data = selfies_df.to_csv('SELFIES_data.csv', index = True)"
      ],
      "execution_count": 29,
      "outputs": []
    }
  ]
}