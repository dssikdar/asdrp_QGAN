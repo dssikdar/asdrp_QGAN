{
 "cells": [
  {
   "cell_type": "code",
   "execution_count": 1,
   "id": "d11751ac-f7c8-4e84-a555-5f5f18338c83",
   "metadata": {},
   "outputs": [],
   "source": [
    "import numpy as np\n",
    "\n",
    "# Importing standard Qiskit libraries\n",
    "from qiskit import QuantumCircuit, transpile, Aer, IBMQ\n",
    "from qiskit.tools.jupyter import *\n",
    "from qiskit.visualization import *\n",
    "from ibm_quantum_widgets import *\n",
    "from qiskit.providers.aer import QasmSimulator\n",
    "\n",
    "# Loading your IBM Quantum account(s)\n",
    "provider = IBMQ.load_account()"
   ]
  },
  {
   "cell_type": "code",
   "execution_count": 8,
   "id": "9b6caff6-da2b-41fd-b18e-1eb441eae5a7",
   "metadata": {},
   "outputs": [],
   "source": [
    "def print_adj_list(adj):\n",
    "    for i in range(len(adj)):\n",
    "        print(str(i) + \" -> \", end='')\n",
    "        for x in range(len(adj[i])-1):\n",
    "            print(adj[i][x], end=', ')\n",
    "        print(adj[i][-1])"
   ]
  },
  {
   "cell_type": "code",
   "execution_count": 9,
   "id": "ab9db614-210a-4c25-8bbd-573d4b258f18",
   "metadata": {},
   "outputs": [],
   "source": [
    "def print_adj_matrix(matrix):\n",
    "    for i in range(len(matrix)):\n",
    "        for j in range(len(matrix[i])-1):\n",
    "            print(matrix[i][j], end=' ')\n",
    "        print(matrix[i][-1])"
   ]
  },
  {
   "cell_type": "code",
   "execution_count": 13,
   "id": "fac0e61b-d145-4dc7-8b4a-3a97d7e1ff27",
   "metadata": {},
   "outputs": [],
   "source": [
    "from collections import defaultdict\n",
    "\n",
    "def adj_matrix_to_list(matrix, do_numpy=False):\n",
    "    adj = defaultdict(list)\n",
    "    for i in range(len(matrix)):\n",
    "        for j in range(len(matrix[i])):\n",
    "            if matrix[i][j] == 1:\n",
    "                adj[i].append(j)\n",
    "    return adj"
   ]
  },
  {
   "cell_type": "code",
   "execution_count": null,
   "id": "fbe83456-10d9-43ed-8e08-79892b66b236",
   "metadata": {},
   "outputs": [],
   "source": []
  }
 ],
 "metadata": {
  "kernelspec": {
   "display_name": "Qiskit v0.34.1 (ipykernel)",
   "language": "python",
   "name": "python3"
  },
  "language_info": {
   "codemirror_mode": {
    "name": "ipython",
    "version": 3
   },
   "file_extension": ".py",
   "mimetype": "text/x-python",
   "name": "python",
   "nbconvert_exporter": "python",
   "pygments_lexer": "ipython3",
   "version": "3.8.10"
  },
  "widgets": {
   "application/vnd.jupyter.widget-state+json": {
    "state": {
     "00245b08e04a4385951915d553a9510c": {
      "model_module": "@jupyter-widgets/base",
      "model_module_version": "1.2.0",
      "model_name": "LayoutModel",
      "state": {
       "width": "190px"
      }
     },
     "0780a778583647868f8c7946b113657c": {
      "model_module": "@jupyter-widgets/base",
      "model_module_version": "1.2.0",
      "model_name": "LayoutModel",
      "state": {
       "margin": "0px 0px 0px 37px",
       "width": "600px"
      }
     },
     "091c75ff3ff44b6cbb76b7164bfa7a5d": {
      "model_module": "@jupyter-widgets/base",
      "model_module_version": "1.2.0",
      "model_name": "LayoutModel",
      "state": {}
     },
     "093f14e2d0eb4561a3e27ab0c31f0c7f": {
      "model_module": "@jupyter-widgets/base",
      "model_module_version": "1.2.0",
      "model_name": "LayoutModel",
      "state": {
       "margin": "0px 0px 10px 0px"
      }
     },
     "13dfbe9a6f3b44d4bdce3ec0b672934e": {
      "model_module": "@jupyter-widgets/controls",
      "model_module_version": "1.5.0",
      "model_name": "HTMLModel",
      "state": {
       "layout": "IPY_MODEL_093f14e2d0eb4561a3e27ab0c31f0c7f",
       "style": "IPY_MODEL_17266bacf07b4969b31919e8bb3d47a8",
       "value": "<p style='font-family: IBM Plex Sans, Arial, Helvetica, sans-serif; font-size: 20px; font-weight: medium;'>Circuit Properties</p>"
      }
     },
     "17266bacf07b4969b31919e8bb3d47a8": {
      "model_module": "@jupyter-widgets/controls",
      "model_module_version": "1.5.0",
      "model_name": "DescriptionStyleModel",
      "state": {
       "description_width": ""
      }
     },
     "1e58127503d04f3fa1c5dfda7ab254e4": {
      "model_module": "@jupyter-widgets/controls",
      "model_module_version": "1.5.0",
      "model_name": "HTMLModel",
      "state": {
       "layout": "IPY_MODEL_bf1ab548d83d499cbcd7bec23c3320cb",
       "style": "IPY_MODEL_ece4be3b3dab475194b907b0e6ee44d3",
       "value": "<h5>Status</h5>"
      }
     },
     "1f88e18d226b468caedd8e46155099cf": {
      "model_module": "@jupyter-widgets/controls",
      "model_module_version": "1.5.0",
      "model_name": "HTMLModel",
      "state": {
       "layout": "IPY_MODEL_091c75ff3ff44b6cbb76b7164bfa7a5d",
       "style": "IPY_MODEL_a39df82e24fd417985b7624169b4407e",
       "value": "<h5>Message</h5>"
      }
     },
     "36513e409332430fb985aeccc7dbe6c6": {
      "model_module": "@jupyter-widgets/base",
      "model_module_version": "1.2.0",
      "model_name": "LayoutModel",
      "state": {
       "grid_area": "right",
       "padding": "0px 0px 0px 0px",
       "width": "70px"
      }
     },
     "3ae124d02d4a4603b2fe1eb27af476ad": {
      "model_module": "@jupyter-widgets/controls",
      "model_module_version": "1.5.0",
      "model_name": "ButtonModel",
      "state": {
       "button_style": "primary",
       "description": "Clear",
       "layout": "IPY_MODEL_36513e409332430fb985aeccc7dbe6c6",
       "style": "IPY_MODEL_eebdba55dd8c4110855083f2ee59193f"
      }
     },
     "4489b74493554391a61290277305087f": {
      "model_module": "@jupyter-widgets/base",
      "model_module_version": "1.2.0",
      "model_name": "LayoutModel",
      "state": {
       "width": "145px"
      }
     },
     "5f8c58c918804c42b9fb194a0d13164c": {
      "model_module": "@jupyter-widgets/controls",
      "model_module_version": "1.5.0",
      "model_name": "GridBoxModel",
      "state": {
       "children": [
        "IPY_MODEL_3ae124d02d4a4603b2fe1eb27af476ad"
       ],
       "layout": "IPY_MODEL_77ddeb897ea4497ea849b116d83eb6b6"
      }
     },
     "77ddeb897ea4497ea849b116d83eb6b6": {
      "model_module": "@jupyter-widgets/base",
      "model_module_version": "1.2.0",
      "model_name": "LayoutModel",
      "state": {
       "grid_template_areas": "\n                                       \". . . . right \"\n                                        ",
       "grid_template_columns": "20% 20% 20% 20% 20%",
       "width": "100%"
      }
     },
     "87f4fa115bdf4e80b60d6263c7e69d5e": {
      "model_module": "@jupyter-widgets/controls",
      "model_module_version": "1.5.0",
      "model_name": "HTMLModel",
      "state": {
       "layout": "IPY_MODEL_bf653fded9244110b8913b8de595f967",
       "style": "IPY_MODEL_dcc6908b1c824580bf1b6440488d1f02",
       "value": "<h5>Queue</h5>"
      }
     },
     "88d4fbae3a094ad4b136846f39fc3670": {
      "model_module": "@jupyter-widgets/controls",
      "model_module_version": "1.5.0",
      "model_name": "HTMLModel",
      "state": {
       "layout": "IPY_MODEL_00245b08e04a4385951915d553a9510c",
       "style": "IPY_MODEL_fb459fc129c9431fa3afaa6c5d693e1f",
       "value": "<h5>Job ID</h5>"
      }
     },
     "a39df82e24fd417985b7624169b4407e": {
      "model_module": "@jupyter-widgets/controls",
      "model_module_version": "1.5.0",
      "model_name": "DescriptionStyleModel",
      "state": {
       "description_width": ""
      }
     },
     "bf1ab548d83d499cbcd7bec23c3320cb": {
      "model_module": "@jupyter-widgets/base",
      "model_module_version": "1.2.0",
      "model_name": "LayoutModel",
      "state": {
       "width": "95px"
      }
     },
     "bf653fded9244110b8913b8de595f967": {
      "model_module": "@jupyter-widgets/base",
      "model_module_version": "1.2.0",
      "model_name": "LayoutModel",
      "state": {
       "width": "70px"
      }
     },
     "dcc6908b1c824580bf1b6440488d1f02": {
      "model_module": "@jupyter-widgets/controls",
      "model_module_version": "1.5.0",
      "model_name": "DescriptionStyleModel",
      "state": {
       "description_width": ""
      }
     },
     "ddf4ab11a0e14c66a82d7a0249cf3dc6": {
      "model_module": "@jupyter-widgets/controls",
      "model_module_version": "1.5.0",
      "model_name": "DescriptionStyleModel",
      "state": {
       "description_width": ""
      }
     },
     "e18fcc37db004faa8bdf855c7e083e99": {
      "model_module": "@jupyter-widgets/controls",
      "model_module_version": "1.5.0",
      "model_name": "HTMLModel",
      "state": {
       "layout": "IPY_MODEL_4489b74493554391a61290277305087f",
       "style": "IPY_MODEL_ddf4ab11a0e14c66a82d7a0249cf3dc6",
       "value": "<h5>Backend</h5>"
      }
     },
     "e19d71448180423c9818d6a22c4af4d4": {
      "model_module": "@jupyter-widgets/controls",
      "model_module_version": "1.5.0",
      "model_name": "HBoxModel",
      "state": {
       "children": [
        "IPY_MODEL_88d4fbae3a094ad4b136846f39fc3670",
        "IPY_MODEL_e18fcc37db004faa8bdf855c7e083e99",
        "IPY_MODEL_1e58127503d04f3fa1c5dfda7ab254e4",
        "IPY_MODEL_87f4fa115bdf4e80b60d6263c7e69d5e",
        "IPY_MODEL_1f88e18d226b468caedd8e46155099cf"
       ],
       "layout": "IPY_MODEL_0780a778583647868f8c7946b113657c"
      }
     },
     "ece4be3b3dab475194b907b0e6ee44d3": {
      "model_module": "@jupyter-widgets/controls",
      "model_module_version": "1.5.0",
      "model_name": "DescriptionStyleModel",
      "state": {
       "description_width": ""
      }
     },
     "eebdba55dd8c4110855083f2ee59193f": {
      "model_module": "@jupyter-widgets/controls",
      "model_module_version": "1.5.0",
      "model_name": "ButtonStyleModel",
      "state": {}
     },
     "fb459fc129c9431fa3afaa6c5d693e1f": {
      "model_module": "@jupyter-widgets/controls",
      "model_module_version": "1.5.0",
      "model_name": "DescriptionStyleModel",
      "state": {
       "description_width": ""
      }
     }
    },
    "version_major": 2,
    "version_minor": 0
   }
  }
 },
 "nbformat": 4,
 "nbformat_minor": 5
}
