{
 "cells": [
  {
   "cell_type": "code",
   "execution_count": 26,
   "id": "d11751ac-f7c8-4e84-a555-5f5f18338c83",
   "metadata": {},
   "outputs": [],
   "source": [
    "import numpy as np\n",
    "\n",
    "# Importing standard Qiskit libraries\n",
    "from qiskit import QuantumCircuit, transpile, Aer, IBMQ\n",
    "from qiskit.tools.jupyter import *\n",
    "from qiskit.visualization import *\n",
    "from ibm_quantum_widgets import *\n",
    "from qiskit.providers.aer import QasmSimulator\n",
    "\n",
    "# Loading your IBM Quantum account(s)\n",
    "provider = IBMQ.load_account()"
   ]
  },
  {
   "cell_type": "code",
   "execution_count": 27,
   "id": "9b6caff6-da2b-41fd-b18e-1eb441eae5a7",
   "metadata": {},
   "outputs": [],
   "source": [
    "def print_adj_list(adj):\n",
    "    for i in range(len(adj)):\n",
    "        print(str(i) + \" -> \", end='')\n",
    "        for x in range(len(adj[i])-1):\n",
    "            print(adj[i][x], end=', ')\n",
    "        print(adj[i][-1])"
   ]
  },
  {
   "cell_type": "code",
   "execution_count": 28,
   "id": "ab9db614-210a-4c25-8bbd-573d4b258f18",
   "metadata": {},
   "outputs": [],
   "source": [
    "def print_adj_matrix(matrix):\n",
    "    for i in range(len(matrix)):\n",
    "        for j in range(len(matrix[i])-1):\n",
    "            print(matrix[i][j], end=' ')\n",
    "        print(matrix[i][-1])"
   ]
  },
  {
   "cell_type": "code",
   "execution_count": 29,
   "id": "ea590637-a019-4472-80cb-354d5a70707a",
   "metadata": {},
   "outputs": [],
   "source": [
    "def pad_matrix(matrix):\n",
    "    for i in range(len(matrix)):\n",
    "        for j in range(8 - len(matrix[i])):\n",
    "            matrix[i].append(-1)\n",
    "    for i in range(8-len(matrix)):\n",
    "        matrix.append([-1] * 8)\n",
    "    return matrix"
   ]
  },
  {
   "cell_type": "code",
   "execution_count": 32,
   "id": "fac0e61b-d145-4dc7-8b4a-3a97d7e1ff27",
   "metadata": {},
   "outputs": [],
   "source": [
    "def adj_matrix_to_list(matrix):\n",
    "    assert(len(matrix) <= 8 and len(matrix[0]) <= 8)\n",
    "    matrix = pad_matrix(matrix)\n",
    "    adj = np.reshape(matrix, (64,1))\n",
    "    return adj\n",
    "    "
   ]
  },
  {
   "cell_type": "code",
   "execution_count": 33,
   "id": "fbe83456-10d9-43ed-8e08-79892b66b236",
   "metadata": {},
   "outputs": [
    {
     "name": "stdout",
     "output_type": "stream",
     "text": [
      "[[ 1]\n",
      " [ 0]\n",
      " [ 0]\n",
      " [-1]\n",
      " [-1]\n",
      " [-1]\n",
      " [-1]\n",
      " [-1]\n",
      " [ 0]\n",
      " [ 1]\n",
      " [ 1]\n",
      " [-1]\n",
      " [-1]\n",
      " [-1]\n",
      " [-1]\n",
      " [-1]\n",
      " [ 1]\n",
      " [ 1]\n",
      " [ 0]\n",
      " [-1]\n",
      " [-1]\n",
      " [-1]\n",
      " [-1]\n",
      " [-1]\n",
      " [-1]\n",
      " [-1]\n",
      " [-1]\n",
      " [-1]\n",
      " [-1]\n",
      " [-1]\n",
      " [-1]\n",
      " [-1]\n",
      " [-1]\n",
      " [-1]\n",
      " [-1]\n",
      " [-1]\n",
      " [-1]\n",
      " [-1]\n",
      " [-1]\n",
      " [-1]\n",
      " [-1]\n",
      " [-1]\n",
      " [-1]\n",
      " [-1]\n",
      " [-1]\n",
      " [-1]\n",
      " [-1]\n",
      " [-1]\n",
      " [-1]\n",
      " [-1]\n",
      " [-1]\n",
      " [-1]\n",
      " [-1]\n",
      " [-1]\n",
      " [-1]\n",
      " [-1]\n",
      " [-1]\n",
      " [-1]\n",
      " [-1]\n",
      " [-1]\n",
      " [-1]\n",
      " [-1]\n",
      " [-1]\n",
      " [-1]]\n"
     ]
    }
   ],
   "source": [
    "M = [[1,0,0],[0,1,1],[1,1,0]]\n",
    "M = pad_matrix(M)\n",
    "print(adj_matrix_to_list(M))"
   ]
  }
 ],
 "metadata": {
  "kernelspec": {
   "display_name": "Qiskit v0.34.1 (ipykernel)",
   "language": "python",
   "name": "python3"
  },
  "language_info": {
   "codemirror_mode": {
    "name": "ipython",
    "version": 3
   },
   "file_extension": ".py",
   "mimetype": "text/x-python",
   "name": "python",
   "nbconvert_exporter": "python",
   "pygments_lexer": "ipython3",
   "version": "3.8.10"
  },
  "widgets": {
   "application/vnd.jupyter.widget-state+json": {
    "state": {
     "16172d5b8be5410795f87397c6f64b43": {
      "model_module": "@jupyter-widgets/base",
      "model_module_version": "1.2.0",
      "model_name": "LayoutModel",
      "state": {
       "grid_template_areas": "\n                                       \". . . . right \"\n                                        ",
       "grid_template_columns": "20% 20% 20% 20% 20%",
       "width": "100%"
      }
     },
     "1ba6b20000964b4a90fc20dc8e9f88e0": {
      "model_module": "@jupyter-widgets/base",
      "model_module_version": "1.2.0",
      "model_name": "LayoutModel",
      "state": {
       "width": "145px"
      }
     },
     "1bbd664a4e0444ac9465dda32ca5985a": {
      "model_module": "@jupyter-widgets/base",
      "model_module_version": "1.2.0",
      "model_name": "LayoutModel",
      "state": {}
     },
     "24086fe56939426e9ee25a612f4f5764": {
      "model_module": "@jupyter-widgets/controls",
      "model_module_version": "1.5.0",
      "model_name": "DescriptionStyleModel",
      "state": {
       "description_width": ""
      }
     },
     "3701111331fd40a59e6dd51571c0821d": {
      "model_module": "@jupyter-widgets/controls",
      "model_module_version": "1.5.0",
      "model_name": "ButtonModel",
      "state": {
       "button_style": "primary",
       "description": "Clear",
       "layout": "IPY_MODEL_6511284fc64d46d6972f0bad0cad8b5a",
       "style": "IPY_MODEL_b4a00780f2df4389b0d9d7c6d225877c"
      }
     },
     "432530315652406f9b4909497bafbe15": {
      "model_module": "@jupyter-widgets/controls",
      "model_module_version": "1.5.0",
      "model_name": "GridBoxModel",
      "state": {
       "children": [
        "IPY_MODEL_3701111331fd40a59e6dd51571c0821d"
       ],
       "layout": "IPY_MODEL_16172d5b8be5410795f87397c6f64b43"
      }
     },
     "4c8a96a2fae34fba852ed2f2750cf6f7": {
      "model_module": "@jupyter-widgets/base",
      "model_module_version": "1.2.0",
      "model_name": "LayoutModel",
      "state": {
       "margin": "0px 0px 0px 37px",
       "width": "600px"
      }
     },
     "5fbc8fcd6709455482c9ffd876fe9b78": {
      "model_module": "@jupyter-widgets/controls",
      "model_module_version": "1.5.0",
      "model_name": "DescriptionStyleModel",
      "state": {
       "description_width": ""
      }
     },
     "6511284fc64d46d6972f0bad0cad8b5a": {
      "model_module": "@jupyter-widgets/base",
      "model_module_version": "1.2.0",
      "model_name": "LayoutModel",
      "state": {
       "grid_area": "right",
       "padding": "0px 0px 0px 0px",
       "width": "70px"
      }
     },
     "66ec007f5d4a42be9354224bdb7047b2": {
      "model_module": "@jupyter-widgets/controls",
      "model_module_version": "1.5.0",
      "model_name": "HTMLModel",
      "state": {
       "layout": "IPY_MODEL_1bbd664a4e0444ac9465dda32ca5985a",
       "style": "IPY_MODEL_fcf33d6a9feb4ca0a5e469a3cfecf394",
       "value": "<h5>Message</h5>"
      }
     },
     "721b5d4af0744b40baf6c7fccf2b05f9": {
      "model_module": "@jupyter-widgets/controls",
      "model_module_version": "1.5.0",
      "model_name": "HTMLModel",
      "state": {
       "layout": "IPY_MODEL_fa08f99781724374a8cd9466a7c6933e",
       "style": "IPY_MODEL_c026159a78b142a99a0063cb05d017a7",
       "value": "<h5>Status</h5>"
      }
     },
     "7964160eb306489da23427e27511d52b": {
      "model_module": "@jupyter-widgets/controls",
      "model_module_version": "1.5.0",
      "model_name": "DescriptionStyleModel",
      "state": {
       "description_width": ""
      }
     },
     "7e7ee60dd7564107bfc0875c74e87ada": {
      "model_module": "@jupyter-widgets/controls",
      "model_module_version": "1.5.0",
      "model_name": "DescriptionStyleModel",
      "state": {
       "description_width": ""
      }
     },
     "a21cdae545204ec2983b9d9e4480069a": {
      "model_module": "@jupyter-widgets/controls",
      "model_module_version": "1.5.0",
      "model_name": "HTMLModel",
      "state": {
       "layout": "IPY_MODEL_1ba6b20000964b4a90fc20dc8e9f88e0",
       "style": "IPY_MODEL_7964160eb306489da23427e27511d52b",
       "value": "<h5>Backend</h5>"
      }
     },
     "aaa9b6464ec34741b35ee0f628a527d5": {
      "model_module": "@jupyter-widgets/controls",
      "model_module_version": "1.5.0",
      "model_name": "HTMLModel",
      "state": {
       "layout": "IPY_MODEL_fde560da258140808147dd82954d8e17",
       "style": "IPY_MODEL_24086fe56939426e9ee25a612f4f5764",
       "value": "<h5>Queue</h5>"
      }
     },
     "b4a00780f2df4389b0d9d7c6d225877c": {
      "model_module": "@jupyter-widgets/controls",
      "model_module_version": "1.5.0",
      "model_name": "ButtonStyleModel",
      "state": {}
     },
     "bb0af1bd1069415299c506af03853cd5": {
      "model_module": "@jupyter-widgets/controls",
      "model_module_version": "1.5.0",
      "model_name": "HTMLModel",
      "state": {
       "layout": "IPY_MODEL_d7e6c69362854796aedbcb331ccaca19",
       "style": "IPY_MODEL_7e7ee60dd7564107bfc0875c74e87ada",
       "value": "<h5>Job ID</h5>"
      }
     },
     "c026159a78b142a99a0063cb05d017a7": {
      "model_module": "@jupyter-widgets/controls",
      "model_module_version": "1.5.0",
      "model_name": "DescriptionStyleModel",
      "state": {
       "description_width": ""
      }
     },
     "d301e47b9acb4840a11fe717884545af": {
      "model_module": "@jupyter-widgets/controls",
      "model_module_version": "1.5.0",
      "model_name": "HTMLModel",
      "state": {
       "layout": "IPY_MODEL_d346599f68d541db92367f6db93622a8",
       "style": "IPY_MODEL_5fbc8fcd6709455482c9ffd876fe9b78",
       "value": "<p style='font-family: IBM Plex Sans, Arial, Helvetica, sans-serif; font-size: 20px; font-weight: medium;'>Circuit Properties</p>"
      }
     },
     "d346599f68d541db92367f6db93622a8": {
      "model_module": "@jupyter-widgets/base",
      "model_module_version": "1.2.0",
      "model_name": "LayoutModel",
      "state": {
       "margin": "0px 0px 10px 0px"
      }
     },
     "d7e6c69362854796aedbcb331ccaca19": {
      "model_module": "@jupyter-widgets/base",
      "model_module_version": "1.2.0",
      "model_name": "LayoutModel",
      "state": {
       "width": "190px"
      }
     },
     "d8ab3c9811194a5a9c111ba4b849796d": {
      "model_module": "@jupyter-widgets/controls",
      "model_module_version": "1.5.0",
      "model_name": "HBoxModel",
      "state": {
       "children": [
        "IPY_MODEL_bb0af1bd1069415299c506af03853cd5",
        "IPY_MODEL_a21cdae545204ec2983b9d9e4480069a",
        "IPY_MODEL_721b5d4af0744b40baf6c7fccf2b05f9",
        "IPY_MODEL_aaa9b6464ec34741b35ee0f628a527d5",
        "IPY_MODEL_66ec007f5d4a42be9354224bdb7047b2"
       ],
       "layout": "IPY_MODEL_4c8a96a2fae34fba852ed2f2750cf6f7"
      }
     },
     "fa08f99781724374a8cd9466a7c6933e": {
      "model_module": "@jupyter-widgets/base",
      "model_module_version": "1.2.0",
      "model_name": "LayoutModel",
      "state": {
       "width": "95px"
      }
     },
     "fcf33d6a9feb4ca0a5e469a3cfecf394": {
      "model_module": "@jupyter-widgets/controls",
      "model_module_version": "1.5.0",
      "model_name": "DescriptionStyleModel",
      "state": {
       "description_width": ""
      }
     },
     "fde560da258140808147dd82954d8e17": {
      "model_module": "@jupyter-widgets/base",
      "model_module_version": "1.2.0",
      "model_name": "LayoutModel",
      "state": {
       "width": "70px"
      }
     }
    },
    "version_major": 2,
    "version_minor": 0
   }
  }
 },
 "nbformat": 4,
 "nbformat_minor": 5
}
