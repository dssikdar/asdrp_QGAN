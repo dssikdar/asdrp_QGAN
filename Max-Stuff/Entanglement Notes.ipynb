{
 "cells": [
  {
   "cell_type": "markdown",
   "id": "924089f2-753c-4d14-869e-124c0d01cd59",
   "metadata": {},
   "source": [
    "# Efficient Entanglement Notes\n",
    "## Different ways to create robust and efficient entanglement for different numbers of qubits\n",
    "\n",
    "1. The 4 **BELL STATES** for 2 qubits\n",
    "2. The **GHZ STATE** for three qubits\n",
    "3. The **W STATE** for three qubits\n",
    "4. Other states for 4+ qubits"
   ]
  },
  {
   "cell_type": "code",
   "execution_count": 6,
   "id": "52179127-77eb-47e9-9a3a-fe7caaac7629",
   "metadata": {},
   "outputs": [
    {
     "name": "stderr",
     "output_type": "stream",
     "text": [
      "ibmqfactory.load_account:WARNING:2021-11-14 04:49:34,588: Credentials are already in use. The existing account in the session will be replaced.\n"
     ]
    }
   ],
   "source": [
    "import numpy as np\n",
    "\n",
    "# Importing standard Qiskit libraries\n",
    "from qiskit import QuantumCircuit, transpile, Aer, IBMQ\n",
    "from qiskit.tools.jupyter import *\n",
    "from qiskit.visualization import *\n",
    "from ibm_quantum_widgets import *\n",
    "from qiskit.providers.aer import QasmSimulator\n",
    "\n",
    "# Loading your IBM Quantum account(s)\n",
    "provider = IBMQ.load_account()"
   ]
  },
  {
   "cell_type": "markdown",
   "id": "43affd77-59bc-44c4-8cc6-de874c4db1a8",
   "metadata": {},
   "source": [
    "## BELL STATES"
   ]
  },
  {
   "cell_type": "markdown",
   "id": "4250d2a4-33f2-4fee-bd25-e934f012412b",
   "metadata": {},
   "source": [
    "### 1.1: ɸ+ State\n",
    "Creates an equal superposition of $\\frac{1}{\\sqrt{2}}(|00\\rangle+|11\\rangle)$"
   ]
  },
  {
   "cell_type": "code",
   "execution_count": 7,
   "id": "b32dfc2d-4516-4f86-aee9-49f917b2d24f",
   "metadata": {},
   "outputs": [
    {
     "data": {
      "image/png": "[encoded data removed]",
      "text/plain": [
       "<Figure size 206.852x144.48 with 1 Axes>"
      ]
     },
     "execution_count": 7,
     "metadata": {},
     "output_type": "execute_result"
    }
   ],
   "source": [
    "phi_plus = QuantumCircuit(2)\n",
    "phi_plus.h(0)\n",
    "phi_plus.cx(0, 1)\n",
    "phi_plus.draw('mpl')"
   ]
  },
  {
   "cell_type": "markdown",
   "id": "cad23c68-b802-4f9d-8d66-5953753d803f",
   "metadata": {},
   "source": [
    "### 1.2 ɸ- State\n",
    "Creates an equal superposition of $\\frac{1}{\\sqrt{2}}(|01\\rangle+|10\\rangle)$"
   ]
  },
  {
   "cell_type": "code",
   "execution_count": 8,
   "id": "c2cff52b-c152-476d-86c6-4928590b0d61",
   "metadata": {},
   "outputs": [
    {
     "data": {
      "image/png": "[encoded data removed]",
      "text/plain": [
       "<Figure size 267.052x144.48 with 1 Axes>"
      ]
     },
     "execution_count": 8,
     "metadata": {},
     "output_type": "execute_result"
    }
   ],
   "source": [
    "phi_minus = QuantumCircuit(2)\n",
    "phi_minus.h(0)\n",
    "phi_minus.cx(0, 1)\n",
    "phi_minus.z(0)\n",
    "phi_minus.draw('mpl')"
   ]
  },
  {
   "cell_type": "markdown",
   "id": "ee57378e-9331-497c-a45a-d83202bc2537",
   "metadata": {},
   "source": [
    "### 1.3 ᴪ+ State\n",
    "Creates an equal superposition of $\\frac{1}{\\sqrt{2}}(|00\\rangle-|11\\rangle)$"
   ]
  },
  {
   "cell_type": "code",
   "execution_count": 9,
   "id": "8254aeb3-7eca-440a-ab4d-061d2411738f",
   "metadata": {},
   "outputs": [
    {
     "data": {
      "image/png": "[encoded data removed]",
      "text/plain": [
       "<Figure size 267.052x144.48 with 1 Axes>"
      ]
     },
     "execution_count": 9,
     "metadata": {},
     "output_type": "execute_result"
    }
   ],
   "source": [
    "psi_plus = QuantumCircuit(2)\n",
    "psi_plus.h(0)\n",
    "psi_plus.cx(0, 1)\n",
    "psi_plus.x(1)\n",
    "psi_plus.draw('mpl')"
   ]
  },
  {
   "cell_type": "markdown",
   "id": "d8a5ef75-590d-4c2f-b4ef-bb01b1362bc7",
   "metadata": {},
   "source": [
    "### 1.4 ᴪ- State\n",
    "Creates and equal superposition of $\\frac{1}{\\sqrt{2}}(|01\\rangle-|10\\rangle)$"
   ]
  },
  {
   "cell_type": "code",
   "execution_count": 10,
   "id": "0a41dadd-8450-4a99-b2d4-64e3693434ed",
   "metadata": {},
   "outputs": [
    {
     "data": {
      "image/png": "[encoded data removed]",
      "text/plain": [
       "<Figure size 267.052x144.48 with 1 Axes>"
      ]
     },
     "execution_count": 10,
     "metadata": {},
     "output_type": "execute_result"
    }
   ],
   "source": [
    "psi_minus = QuantumCircuit(2)\n",
    "psi_minus.h(0)\n",
    "psi_minus.cx(0, 1)\n",
    "psi_minus.z(0)\n",
    "psi_minus.x(1)\n",
    "psi_minus.draw('mpl')"
   ]
  },
  {
   "cell_type": "markdown",
   "id": "19acd012-9f0d-4458-93b0-e6abb692dae9",
   "metadata": {},
   "source": [
    "## The GHZ State\n",
    "Creates an equal superposition of $\\frac{1}{\\sqrt{2}}(|000\\rangle+|111\\rangle)$"
   ]
  },
  {
   "cell_type": "code",
   "execution_count": 11,
   "id": "e0ea677b-5b61-4fa9-81ef-3dd88cdf48ad",
   "metadata": {},
   "outputs": [
    {
     "data": {
      "image/png": "[encoded data removed]",
      "text/plain": [
       "<Figure size 267.197x204.68 with 1 Axes>"
      ]
     },
     "execution_count": 11,
     "metadata": {},
     "output_type": "execute_result"
    }
   ],
   "source": [
    "ghz_state = QuantumCircuit(3)\n",
    "ghz_state.h(0)\n",
    "ghz_state.cx(0,1)\n",
    "ghz_state.cx(0,2)\n",
    "ghz_state.draw('mpl')"
   ]
  },
  {
   "cell_type": "markdown",
   "id": "77ee13a7-d147-4ae8-8983-48d139238113",
   "metadata": {},
   "source": [
    "## The W State\n",
    "Creates an equal superposition of $\\frac{1}{\\sqrt{2}}(|000\\rangle+|111\\rangle)$ which is more robust than the GHZ state, since it retains the entanglement even if a qubit is *lost* (i.e measured)"
   ]
  },
  {
   "cell_type": "code",
   "execution_count": 12,
   "id": "455863cb-1392-4370-8d62-99ca5083aa26",
   "metadata": {},
   "outputs": [
    {
     "data": {
      "image/png": "[encoded data removed]",
      "text/plain": [
       "<Figure size 447.797x204.68 with 1 Axes>"
      ]
     },
     "execution_count": 12,
     "metadata": {},
     "output_type": "execute_result"
    }
   ],
   "source": [
    "w_state = QuantumCircuit(3)\n",
    "w_state.ry(1.9106332362490184, 0)\n",
    "w_state.cu(np.pi/2, np.pi/2, np.pi/2, np.pi/2, 0, 1)\n",
    "w_state.cx(1,2)\n",
    "w_state.cx(0,1)\n",
    "w_state.x(0)\n",
    "w_state.draw('mpl')"
   ]
  },
  {
   "cell_type": "markdown",
   "id": "7a7dadee-2051-42a3-8e93-212f477fbb12",
   "metadata": {},
   "source": [
    "## AME States\n",
    "#### Maximally Entangled States\n",
    "`AME(N, d)`  \n",
    "`N` represents the number of qudits (qudits = quantum data)  \n",
    "`d` represents the type of qudit  \n",
    "> `d=2` is a qubit  \n",
    "> `d=3` is a qutrit (0, 1, or 2)  \n",
    "> `d=4` is a ququart (0, 1, 2, or 3)  \n",
    "> and so on  "
   ]
  },
  {
   "cell_type": "markdown",
   "id": "02123a71-dc8c-4a37-989a-be1b6fadc045",
   "metadata": {},
   "source": [
    "### 4.1 5-qubit GHZ State"
   ]
  },
  {
   "cell_type": "code",
   "execution_count": 13,
   "id": "023bdbed-9435-4137-8f41-6bf3b8fb55cf",
   "metadata": {},
   "outputs": [
    {
     "data": {
      "image/png": "[encoded data removed]",
      "text/plain": [
       "<Figure size 267.197x325.08 with 1 Axes>"
      ]
     },
     "execution_count": 13,
     "metadata": {},
     "output_type": "execute_result"
    }
   ],
   "source": [
    "ghz_state5 = QuantumCircuit(5)\n",
    "ghz_state5.h(3)\n",
    "ghz_state5.z(4)\n",
    "ghz_state5.cx(2, 0)\n",
    "ghz_state5.cx(2, 1)\n",
    "ghz_state5.cx(3, 4)\n",
    "ghz_state5.cx(3, 2)\n",
    "ghz_state5.draw('mpl')"
   ]
  },
  {
   "cell_type": "markdown",
   "id": "fc900b82-b583-4301-bc5b-0572880f9e67",
   "metadata": {},
   "source": [
    "### 4.2 AME(5,2)"
   ]
  },
  {
   "cell_type": "code",
   "execution_count": 14,
   "id": "2daece31-ac81-4b07-ad53-87b6de5bd07e",
   "metadata": {},
   "outputs": [
    {
     "data": {
      "image/png": "[encoded data removed]",
      "text/plain": [
       "<Figure size 447.797x325.08 with 1 Axes>"
      ]
     },
     "execution_count": 14,
     "metadata": {},
     "output_type": "execute_result"
    }
   ],
   "source": [
    "ame_52 = QuantumCircuit(5)\n",
    "ame_52.h(2)\n",
    "ame_52.h(3)\n",
    "ame_52.cx(2, 1)\n",
    "ame_52.h(2)\n",
    "ame_52.cx(1, 0)\n",
    "ame_52.cx(2, 4)\n",
    "ame_52.cx(3, 2)\n",
    "ame_52.cx(2, 0)\n",
    "ame_52.draw('mpl')"
   ]
  },
  {
   "cell_type": "code",
   "execution_count": null,
   "id": "eaed673c-a1ca-400e-9359-b1762a437e18",
   "metadata": {},
   "outputs": [],
   "source": []
  }
 ],
 "metadata": {
  "kernelspec": {
   "display_name": "Qiskit v0.32.0 (ipykernel)",
   "language": "python",
   "name": "python3"
  },
  "language_info": {
   "codemirror_mode": {
    "name": "ipython",
    "version": 3
   },
   "file_extension": ".py",
   "mimetype": "text/x-python",
   "name": "python",
   "nbconvert_exporter": "python",
   "pygments_lexer": "ipython3",
   "version": "3.8.10"
  },
  "widgets": {
   "application/vnd.jupyter.widget-state+json": {
    "state": {
     "0dbc60f0612b4901b6e4e9f5b7b7f91f": {
      "model_module": "@jupyter-widgets/controls",
      "model_module_version": "1.5.0",
      "model_name": "DescriptionStyleModel",
      "state": {
       "description_width": ""
      }
     },
     "0f701dfb7c2349dd8a837980947a2c63": {
      "model_module": "@jupyter-widgets/controls",
      "model_module_version": "1.5.0",
      "model_name": "GridBoxModel",
      "state": {
       "children": [
        "IPY_MODEL_4ab68208a7ce4df4933f8d48ceadebd1"
       ],
       "layout": "IPY_MODEL_2f985124ac8b47a0acbd11e8098c17ba"
      }
     },
     "17fb5336b187426fbe09a6b30ec9daa4": {
      "model_module": "@jupyter-widgets/controls",
      "model_module_version": "1.5.0",
      "model_name": "HTMLModel",
      "state": {
       "layout": "IPY_MODEL_ba5d9ca439724f5ba515cee987281a70",
       "style": "IPY_MODEL_0dbc60f0612b4901b6e4e9f5b7b7f91f",
       "value": "<h5>Message</h5>"
      }
     },
     "2dd1a5170f1142ba946dac38db65408c": {
      "model_module": "@jupyter-widgets/controls",
      "model_module_version": "1.5.0",
      "model_name": "HBoxModel",
      "state": {
       "children": [
        "IPY_MODEL_7fe8e009d8b148cb98d91b7d27aaa158",
        "IPY_MODEL_71a4a57457794a94a0162e47e3db70da",
        "IPY_MODEL_b4fec75215934ba78cdc6640662df148",
        "IPY_MODEL_f91591646e244d3c939896c90765e887",
        "IPY_MODEL_17fb5336b187426fbe09a6b30ec9daa4"
       ],
       "layout": "IPY_MODEL_88ce7faab00b4bf899703ffe35a95d73"
      }
     },
     "2f985124ac8b47a0acbd11e8098c17ba": {
      "model_module": "@jupyter-widgets/base",
      "model_module_version": "1.2.0",
      "model_name": "LayoutModel",
      "state": {
       "grid_template_areas": "\n                                       \". . . . right \"\n                                        ",
       "grid_template_columns": "20% 20% 20% 20% 20%",
       "width": "100%"
      }
     },
     "48a15a9451fc41ae9777859a4a2d0996": {
      "model_module": "@jupyter-widgets/base",
      "model_module_version": "1.2.0",
      "model_name": "LayoutModel",
      "state": {
       "width": "145px"
      }
     },
     "4ab68208a7ce4df4933f8d48ceadebd1": {
      "model_module": "@jupyter-widgets/controls",
      "model_module_version": "1.5.0",
      "model_name": "ButtonModel",
      "state": {
       "button_style": "primary",
       "description": "Clear",
       "layout": "IPY_MODEL_990d9d1d61a44424b2752e7370e13ead",
       "style": "IPY_MODEL_4f86cf7cebf546ae9f1173e7eaea180f"
      }
     },
     "4f86cf7cebf546ae9f1173e7eaea180f": {
      "model_module": "@jupyter-widgets/controls",
      "model_module_version": "1.5.0",
      "model_name": "ButtonStyleModel",
      "state": {}
     },
     "564252ed7a1848829879e4923536754b": {
      "model_module": "@jupyter-widgets/controls",
      "model_module_version": "1.5.0",
      "model_name": "DescriptionStyleModel",
      "state": {
       "description_width": ""
      }
     },
     "71a4a57457794a94a0162e47e3db70da": {
      "model_module": "@jupyter-widgets/controls",
      "model_module_version": "1.5.0",
      "model_name": "HTMLModel",
      "state": {
       "layout": "IPY_MODEL_48a15a9451fc41ae9777859a4a2d0996",
       "style": "IPY_MODEL_b58685a24e1049d284bd2eb1152859b3",
       "value": "<h5>Backend</h5>"
      }
     },
     "71aa1d84a15f42639cfbb473ece807a5": {
      "model_module": "@jupyter-widgets/controls",
      "model_module_version": "1.5.0",
      "model_name": "DescriptionStyleModel",
      "state": {
       "description_width": ""
      }
     },
     "7fe8e009d8b148cb98d91b7d27aaa158": {
      "model_module": "@jupyter-widgets/controls",
      "model_module_version": "1.5.0",
      "model_name": "HTMLModel",
      "state": {
       "layout": "IPY_MODEL_e2dd4e671f3e4ffe8d5ead9d74ce4347",
       "style": "IPY_MODEL_564252ed7a1848829879e4923536754b",
       "value": "<h5>Job ID</h5>"
      }
     },
     "88ce7faab00b4bf899703ffe35a95d73": {
      "model_module": "@jupyter-widgets/base",
      "model_module_version": "1.2.0",
      "model_name": "LayoutModel",
      "state": {
       "margin": "0px 0px 0px 37px",
       "width": "600px"
      }
     },
     "96d884772327480c889c1fcc56e1c5d0": {
      "model_module": "@jupyter-widgets/controls",
      "model_module_version": "1.5.0",
      "model_name": "HTMLModel",
      "state": {
       "layout": "IPY_MODEL_f82e37916526492a8cb6000c70f40061",
       "style": "IPY_MODEL_bd2089a1d3324ee5948bd2433af4769d",
       "value": "<p style='font-family: IBM Plex Sans, Arial, Helvetica, sans-serif; font-size: 20px; font-weight: medium;'>Circuit Properties</p>"
      }
     },
     "990d9d1d61a44424b2752e7370e13ead": {
      "model_module": "@jupyter-widgets/base",
      "model_module_version": "1.2.0",
      "model_name": "LayoutModel",
      "state": {
       "grid_area": "right",
       "padding": "0px 0px 0px 0px",
       "width": "70px"
      }
     },
     "9bf9c678ce17453f82bd0c73f20e0126": {
      "model_module": "@jupyter-widgets/base",
      "model_module_version": "1.2.0",
      "model_name": "LayoutModel",
      "state": {
       "width": "95px"
      }
     },
     "b4fec75215934ba78cdc6640662df148": {
      "model_module": "@jupyter-widgets/controls",
      "model_module_version": "1.5.0",
      "model_name": "HTMLModel",
      "state": {
       "layout": "IPY_MODEL_9bf9c678ce17453f82bd0c73f20e0126",
       "style": "IPY_MODEL_71aa1d84a15f42639cfbb473ece807a5",
       "value": "<h5>Status</h5>"
      }
     },
     "b58685a24e1049d284bd2eb1152859b3": {
      "model_module": "@jupyter-widgets/controls",
      "model_module_version": "1.5.0",
      "model_name": "DescriptionStyleModel",
      "state": {
       "description_width": ""
      }
     },
     "ba5d9ca439724f5ba515cee987281a70": {
      "model_module": "@jupyter-widgets/base",
      "model_module_version": "1.2.0",
      "model_name": "LayoutModel",
      "state": {}
     },
     "bd2089a1d3324ee5948bd2433af4769d": {
      "model_module": "@jupyter-widgets/controls",
      "model_module_version": "1.5.0",
      "model_name": "DescriptionStyleModel",
      "state": {
       "description_width": ""
      }
     },
     "d41f8c402dd34a18b4c9615b4a2aeef8": {
      "model_module": "@jupyter-widgets/controls",
      "model_module_version": "1.5.0",
      "model_name": "DescriptionStyleModel",
      "state": {
       "description_width": ""
      }
     },
     "e2dd4e671f3e4ffe8d5ead9d74ce4347": {
      "model_module": "@jupyter-widgets/base",
      "model_module_version": "1.2.0",
      "model_name": "LayoutModel",
      "state": {
       "width": "190px"
      }
     },
     "eee5657c4b3b4878870f797946162ba6": {
      "model_module": "@jupyter-widgets/base",
      "model_module_version": "1.2.0",
      "model_name": "LayoutModel",
      "state": {
       "width": "70px"
      }
     },
     "f82e37916526492a8cb6000c70f40061": {
      "model_module": "@jupyter-widgets/base",
      "model_module_version": "1.2.0",
      "model_name": "LayoutModel",
      "state": {
       "margin": "0px 0px 10px 0px"
      }
     },
     "f91591646e244d3c939896c90765e887": {
      "model_module": "@jupyter-widgets/controls",
      "model_module_version": "1.5.0",
      "model_name": "HTMLModel",
      "state": {
       "layout": "IPY_MODEL_eee5657c4b3b4878870f797946162ba6",
       "style": "IPY_MODEL_d41f8c402dd34a18b4c9615b4a2aeef8",
       "value": "<h5>Queue</h5>"
      }
     }
    },
    "version_major": 2,
    "version_minor": 0
   }
  }
 },
 "nbformat": 4,
 "nbformat_minor": 5
}
