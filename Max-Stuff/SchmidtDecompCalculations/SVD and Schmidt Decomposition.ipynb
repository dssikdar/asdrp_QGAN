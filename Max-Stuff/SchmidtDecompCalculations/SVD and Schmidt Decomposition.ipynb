{
 "cells": [
  {
   "cell_type": "code",
   "execution_count": 2,
   "id": "6efee294-ac48-4239-986c-f0eb35c86fe4",
   "metadata": {},
   "outputs": [
    {
     "name": "stderr",
     "output_type": "stream",
     "text": [
      "ibmqfactory.load_account:WARNING:2021-11-10 05:15:09,503: Credentials are already in use. The existing account in the session will be replaced.\n"
     ]
    }
   ],
   "source": [
    "\n",
    "# Importing standard Qiskit libraries\n",
    "from qiskit import QuantumCircuit, transpile, Aer, IBMQ\n",
    "from qiskit.tools.jupyter import *\n",
    "from qiskit.visualization import *\n",
    "from ibm_quantum_widgets import *\n",
    "from qiskit.providers.aer import QasmSimulator\n",
    "\n",
    "# Loading your IBM Quantum account(s)\n",
    "provider = IBMQ.load_account()"
   ]
  },
  {
   "cell_type": "code",
   "execution_count": 3,
   "id": "c3ca5c2a-80e9-47bc-8149-01dd0d5b06fc",
   "metadata": {},
   "outputs": [],
   "source": [
    "import numpy as np\n",
    "from scipy.linalg import *"
   ]
  },
  {
   "cell_type": "code",
   "execution_count": 6,
   "id": "e5ae78c6-4c8a-4a49-a77d-8f5ea4dd4210",
   "metadata": {},
   "outputs": [
    {
     "data": {
      "text/plain": [
       "array([[ 9, 14],\n",
       "       [10, 27],\n",
       "       [11, 18]])"
      ]
     },
     "execution_count": 6,
     "metadata": {},
     "output_type": "execute_result"
    }
   ],
   "source": [
    "A = np.array([[9, 14], [10, 27], [11, 18]])\n",
    "A"
   ]
  },
  {
   "cell_type": "code",
   "execution_count": 7,
   "id": "393c00c8-a79d-4123-9a43-94e624796d74",
   "metadata": {},
   "outputs": [],
   "source": [
    "U, sigma, VT = svd(A)"
   ]
  },
  {
   "cell_type": "code",
   "execution_count": 8,
   "id": "a9fdfac8-2655-47ef-bf4c-999232116b9c",
   "metadata": {},
   "outputs": [
    {
     "data": {
      "text/plain": [
       "array([[-0.42160323,  0.51024606, -0.74959968],\n",
       "       [-0.73160231, -0.67980219, -0.05125468],\n",
       "       [-0.535732  ,  0.52679972,  0.65990399]])"
      ]
     },
     "execution_count": 8,
     "metadata": {},
     "output_type": "execute_result"
    }
   ],
   "source": [
    "U"
   ]
  },
  {
   "cell_type": "code",
   "execution_count": 9,
   "id": "238f4021-6aac-40dc-a83f-55ff76e30892",
   "metadata": {},
   "outputs": [
    {
     "data": {
      "text/plain": [
       "array([39.18073937,  3.98367447])"
      ]
     },
     "execution_count": 9,
     "metadata": {},
     "output_type": "execute_result"
    }
   ],
   "source": [
    "sigma"
   ]
  },
  {
   "cell_type": "code",
   "execution_count": 10,
   "id": "0917d60d-5b86-4851-9a19-ac17fb0d9ec4",
   "metadata": {},
   "outputs": [
    {
     "data": {
      "text/plain": [
       "array([[-0.43397609, -0.90092439],\n",
       "       [ 0.90092439, -0.43397609]])"
      ]
     },
     "execution_count": 10,
     "metadata": {},
     "output_type": "execute_result"
    }
   ],
   "source": [
    "VT"
   ]
  },
  {
   "cell_type": "code",
   "execution_count": 15,
   "id": "b91336ee-f1cf-4f76-856f-167054e65073",
   "metadata": {},
   "outputs": [
    {
     "data": {
      "text/plain": [
       "array([[ 9., 14.],\n",
       "       [10., 27.],\n",
       "       [11., 18.]])"
      ]
     },
     "execution_count": 15,
     "metadata": {},
     "output_type": "execute_result"
    }
   ],
   "source": [
    "#reconstruct A from SVD\n",
    "Ligma = np.zeros((A.shape[0], A.shape[1]))\n",
    "Ligma[:A.shape[1], :A.shape[1]] = np.diag(sigma)\n",
    "A_recon = U.dot(Ligma.dot(VT))\n",
    "A_recon"
   ]
  },
  {
   "cell_type": "code",
   "execution_count": 16,
   "id": "f01de508-a58b-43d9-bb91-305dbb1cefe2",
   "metadata": {},
   "outputs": [
    {
     "name": "stdout",
     "output_type": "stream",
     "text": [
      "Collecting pyqentangle\n",
      "  Downloading pyqentangle-3.1.10.tar.gz (46 kB)\n",
      "\u001b[K     |████████████████████████████████| 46 kB 36 kB/s s eta 0:00:01\n",
      "\u001b[?25hRequirement already satisfied: Cython>=0.29.0 in /opt/conda/lib/python3.8/site-packages (from pyqentangle) (0.29.24)\n",
      "Requirement already satisfied: numpy>=1.18.0 in /opt/conda/lib/python3.8/site-packages (from pyqentangle) (1.21.3)\n",
      "Requirement already satisfied: scipy>=1.4.0 in /opt/conda/lib/python3.8/site-packages (from pyqentangle) (1.7.1)\n",
      "Collecting tensornetwork>=0.4.0\n",
      "  Downloading tensornetwork-0.4.6-py3-none-any.whl (364 kB)\n",
      "\u001b[K     |████████████████████████████████| 364 kB 28.3 MB/s eta 0:00:01\n",
      "\u001b[?25hRequirement already satisfied: graphviz>=0.11.1 in /opt/conda/lib/python3.8/site-packages (from tensornetwork>=0.4.0->pyqentangle) (0.16)\n",
      "Requirement already satisfied: h5py>=2.9.0 in /opt/conda/lib/python3.8/site-packages (from tensornetwork>=0.4.0->pyqentangle) (3.2.1)\n",
      "Collecting opt-einsum>=2.3.0\n",
      "  Using cached opt_einsum-3.3.0-py3-none-any.whl (65 kB)\n",
      "Building wheels for collected packages: pyqentangle\n",
      "  Building wheel for pyqentangle (setup.py) ... \u001b[?25ldone\n",
      "\u001b[?25h  Created wheel for pyqentangle: filename=pyqentangle-3.1.10-cp38-cp38-linux_x86_64.whl size=109809 sha256=e7cd45b2feffc927606f114bdc0b18d6723b7b41bb16b8c2bdd3cf0d9df39dae\n",
      "  Stored in directory: /home/jovyan/.cache/pip/wheels/29/ba/bc/ef02ac32f4e3f3aa35559c7b570c8b5a830710e378af1bbc77\n",
      "Successfully built pyqentangle\n",
      "Installing collected packages: opt-einsum, tensornetwork, pyqentangle\n",
      "Successfully installed opt-einsum-3.3.0 pyqentangle-3.1.10 tensornetwork-0.4.6\n"
     ]
    }
   ],
   "source": [
    "!pip install pyqentangle"
   ]
  },
  {
   "cell_type": "code",
   "execution_count": 17,
   "id": "070dd9c1-92bb-473a-8bdb-a526ef418af3",
   "metadata": {},
   "outputs": [],
   "source": [
    "from pyqentangle import *"
   ]
  },
  {
   "cell_type": "code",
   "execution_count": 19,
   "id": "4060c854-8ccb-443d-a830-19690b4fdd73",
   "metadata": {},
   "outputs": [
    {
     "data": {
      "text/plain": [
       "array([[ 0.        , 39.18073937],\n",
       "       [ 3.98367447,  0.        ]])"
      ]
     },
     "execution_count": 19,
     "metadata": {},
     "output_type": "execute_result"
    }
   ],
   "source": [
    "tensor = np.array([[0., sigma[0]], [sigma[1], 0.]])\n",
    "tensor"
   ]
  },
  {
   "cell_type": "code",
   "execution_count": 20,
   "id": "12bf8581-3d06-4f18-95a3-27337b73c9d2",
   "metadata": {},
   "outputs": [
    {
     "data": {
      "text/plain": [
       "[(39.180739371917625,\n",
       "  array([-1.00000000e+00,  2.22044605e-16]),\n",
       "  array([-0., -1.])),\n",
       " (3.9836744683601215, array([ 0., -1.]), array([-1., -0.]))]"
      ]
     },
     "execution_count": 20,
     "metadata": {},
     "output_type": "execute_result"
    }
   ],
   "source": [
    "schmidt_decomposition(tensor)"
   ]
  },
  {
   "cell_type": "markdown",
   "id": "345f41e0-9981-4751-bef6-b6b305dedf3c",
   "metadata": {},
   "source": [
    "### The only question is how to SVD and Schmidt Decomposition fit together?\n",
    "> check notes in Project Notebook"
   ]
  },
  {
   "cell_type": "code",
   "execution_count": 22,
   "id": "43d3e509-d785-43d0-b19f-232201161c8e",
   "metadata": {},
   "outputs": [
    {
     "name": "stdout",
     "output_type": "stream",
     "text": [
      "Collecting colorama\n",
      "  Using cached colorama-0.4.4-py2.py3-none-any.whl (16 kB)\n",
      "Installing collected packages: colorama\n",
      "Successfully installed colorama-0.4.4\n"
     ]
    }
   ],
   "source": [
    "!pip install colorama\n",
    "from colorama import Style, Fore"
   ]
  },
  {
   "cell_type": "code",
   "execution_count": 25,
   "id": "e2bc918b-e924-4769-9a61-3941babf8482",
   "metadata": {},
   "outputs": [
    {
     "name": "stdout",
     "output_type": "stream",
     "text": [
      "\u001b[1m\u001b[31mSingular Value Decomposition using scipy.linalg.svd\n",
      "\n",
      "\u001b[1m\u001b[33mMatrix [[ 9 14]\n",
      " [10 27]\n",
      " [11 18]]\n",
      "\n",
      "\u001b[1m\u001b[34mU is  [[-0.42160323  0.51024606 -0.74959968]\n",
      " [-0.73160231 -0.67980219 -0.05125468]\n",
      " [-0.535732    0.52679972  0.65990399]]\n",
      "\n",
      "\u001b[1m\u001b[34mΣ is [39.18073937  3.98367447]\n",
      "\n",
      "\u001b[1m\u001b[34mV Transpose is [[-0.43397609 -0.90092439]\n",
      " [ 0.90092439 -0.43397609]]\n"
     ]
    }
   ],
   "source": [
    "print(Style.BRIGHT + Fore.RED + \"Singular Value Decomposition using scipy.linalg.svd\\n\")\n",
    "print(Style.BRIGHT + Fore.YELLOW + \"Matrix\", A)\n",
    "print()\n",
    "print(Style.BRIGHT + Fore.BLUE + \"U is \", U)\n",
    "print()\n",
    "print(Style.BRIGHT + Fore.BLUE + \"Σ is\", sigma)\n",
    "print()\n",
    "print(Style.BRIGHT + Fore.BLUE + \"V Transpose is\", VT)"
   ]
  },
  {
   "cell_type": "code",
   "execution_count": 27,
   "id": "236bc5ff-295a-4ed3-a387-d1f6ff30b227",
   "metadata": {},
   "outputs": [
    {
     "name": "stdout",
     "output_type": "stream",
     "text": [
      "\u001b[1m\u001b[31mSchmidt Decomposition using pyqentangle.schmidt_decomposition\n",
      "\n",
      "\u001b[1m\u001b[33m [(39.180739371917625, array([-1.00000000e+00,  2.22044605e-16]), array([-0., -1.])), (3.9836744683601215, array([ 0., -1.]), array([-1., -0.]))]\n"
     ]
    }
   ],
   "source": [
    "print(Style.BRIGHT + Fore.RED + \"Schmidt Decomposition using pyqentangle.schmidt_decomposition\\n\")\n",
    "print(Style.BRIGHT + Fore.YELLOW, schmidt_decomposition(tensor))"
   ]
  }
 ],
 "metadata": {
  "kernelspec": {
   "display_name": "Qiskit v0.31.0 (ipykernel)",
   "language": "python",
   "name": "python3"
  },
  "language_info": {
   "codemirror_mode": {
    "name": "ipython",
    "version": 3
   },
   "file_extension": ".py",
   "mimetype": "text/x-python",
   "name": "python",
   "nbconvert_exporter": "python",
   "pygments_lexer": "ipython3",
   "version": "3.8.10"
  },
  "widgets": {
   "application/vnd.jupyter.widget-state+json": {
    "state": {
     "10a600867bf443d8ae2413bcaf3f9790": {
      "model_module": "@jupyter-widgets/base",
      "model_module_version": "1.2.0",
      "model_name": "LayoutModel",
      "state": {
       "margin": "0px 0px 0px 37px",
       "width": "600px"
      }
     },
     "16e0f2d410584d8ab46146f619c422bd": {
      "model_module": "@jupyter-widgets/controls",
      "model_module_version": "1.5.0",
      "model_name": "GridBoxModel",
      "state": {
       "children": [
        "IPY_MODEL_e45a961574c14e1688c841f9e6d57143"
       ],
       "layout": "IPY_MODEL_2eb7993ec3464c02ae3f6f6f577d9b0c"
      }
     },
     "2790ef172ffd49e39ef720f4d74a8275": {
      "model_module": "@jupyter-widgets/controls",
      "model_module_version": "1.5.0",
      "model_name": "DescriptionStyleModel",
      "state": {
       "description_width": ""
      }
     },
     "2e9cc396c7e84b82a587344eb4079be3": {
      "model_module": "@jupyter-widgets/controls",
      "model_module_version": "1.5.0",
      "model_name": "DescriptionStyleModel",
      "state": {
       "description_width": ""
      }
     },
     "2eb7993ec3464c02ae3f6f6f577d9b0c": {
      "model_module": "@jupyter-widgets/base",
      "model_module_version": "1.2.0",
      "model_name": "LayoutModel",
      "state": {
       "grid_template_areas": "\n                                       \". . . . right \"\n                                        ",
       "grid_template_columns": "20% 20% 20% 20% 20%",
       "width": "100%"
      }
     },
     "3a598577c9be46c594649ebe083b7b76": {
      "model_module": "@jupyter-widgets/controls",
      "model_module_version": "1.5.0",
      "model_name": "DescriptionStyleModel",
      "state": {
       "description_width": ""
      }
     },
     "47577c199c8d404583f82beab840a0d2": {
      "model_module": "@jupyter-widgets/controls",
      "model_module_version": "1.5.0",
      "model_name": "ButtonStyleModel",
      "state": {}
     },
     "53974c0c11b742fd99fc7d68af749c04": {
      "model_module": "@jupyter-widgets/controls",
      "model_module_version": "1.5.0",
      "model_name": "HTMLModel",
      "state": {
       "layout": "IPY_MODEL_7069b1a48f194efbb326e23b5156409e",
       "style": "IPY_MODEL_f756befe60e64e7eb7edb8379020c13a",
       "value": "<h5>Status</h5>"
      }
     },
     "7069b1a48f194efbb326e23b5156409e": {
      "model_module": "@jupyter-widgets/base",
      "model_module_version": "1.2.0",
      "model_name": "LayoutModel",
      "state": {
       "width": "95px"
      }
     },
     "7131fe1a16794c6683bbf6b0883cdba2": {
      "model_module": "@jupyter-widgets/base",
      "model_module_version": "1.2.0",
      "model_name": "LayoutModel",
      "state": {
       "margin": "0px 0px 10px 0px"
      }
     },
     "7e57b675377e4a2b848cb27766e33826": {
      "model_module": "@jupyter-widgets/controls",
      "model_module_version": "1.5.0",
      "model_name": "HTMLModel",
      "state": {
       "layout": "IPY_MODEL_e13b9307758e43428539efd7613c6277",
       "style": "IPY_MODEL_2e9cc396c7e84b82a587344eb4079be3",
       "value": "<h5>Backend</h5>"
      }
     },
     "8e05901519524c1aacd7cbf574d02af9": {
      "model_module": "@jupyter-widgets/controls",
      "model_module_version": "1.5.0",
      "model_name": "HTMLModel",
      "state": {
       "layout": "IPY_MODEL_92733ada1a48465b905c5c637f2dada9",
       "style": "IPY_MODEL_3a598577c9be46c594649ebe083b7b76",
       "value": "<h5>Message</h5>"
      }
     },
     "92733ada1a48465b905c5c637f2dada9": {
      "model_module": "@jupyter-widgets/base",
      "model_module_version": "1.2.0",
      "model_name": "LayoutModel",
      "state": {}
     },
     "989028d54476499c83ff75db18a5cb28": {
      "model_module": "@jupyter-widgets/controls",
      "model_module_version": "1.5.0",
      "model_name": "DescriptionStyleModel",
      "state": {
       "description_width": ""
      }
     },
     "a5eeed451a074da2ae2efb986cab0053": {
      "model_module": "@jupyter-widgets/controls",
      "model_module_version": "1.5.0",
      "model_name": "HBoxModel",
      "state": {
       "children": [
        "IPY_MODEL_b623f837d6bc48fa9a20b7d93231c483",
        "IPY_MODEL_7e57b675377e4a2b848cb27766e33826",
        "IPY_MODEL_53974c0c11b742fd99fc7d68af749c04",
        "IPY_MODEL_bd92499e97ca450eab29478a0b44f2f8",
        "IPY_MODEL_8e05901519524c1aacd7cbf574d02af9"
       ],
       "layout": "IPY_MODEL_10a600867bf443d8ae2413bcaf3f9790"
      }
     },
     "a9614d02949b45cb8c930f254c000c91": {
      "model_module": "@jupyter-widgets/base",
      "model_module_version": "1.2.0",
      "model_name": "LayoutModel",
      "state": {
       "width": "190px"
      }
     },
     "b623f837d6bc48fa9a20b7d93231c483": {
      "model_module": "@jupyter-widgets/controls",
      "model_module_version": "1.5.0",
      "model_name": "HTMLModel",
      "state": {
       "layout": "IPY_MODEL_a9614d02949b45cb8c930f254c000c91",
       "style": "IPY_MODEL_989028d54476499c83ff75db18a5cb28",
       "value": "<h5>Job ID</h5>"
      }
     },
     "bd92499e97ca450eab29478a0b44f2f8": {
      "model_module": "@jupyter-widgets/controls",
      "model_module_version": "1.5.0",
      "model_name": "HTMLModel",
      "state": {
       "layout": "IPY_MODEL_ca2791e7ed8b4d76baca7e3ae3324b2d",
       "style": "IPY_MODEL_2790ef172ffd49e39ef720f4d74a8275",
       "value": "<h5>Queue</h5>"
      }
     },
     "ca2791e7ed8b4d76baca7e3ae3324b2d": {
      "model_module": "@jupyter-widgets/base",
      "model_module_version": "1.2.0",
      "model_name": "LayoutModel",
      "state": {
       "width": "70px"
      }
     },
     "d318597eac81478ebc677935bb33966f": {
      "model_module": "@jupyter-widgets/controls",
      "model_module_version": "1.5.0",
      "model_name": "HTMLModel",
      "state": {
       "layout": "IPY_MODEL_7131fe1a16794c6683bbf6b0883cdba2",
       "style": "IPY_MODEL_e4791e359ca94e2cb75f481677bef0fe",
       "value": "<p style='font-family: IBM Plex Sans, Arial, Helvetica, sans-serif; font-size: 20px; font-weight: medium;'>Circuit Properties</p>"
      }
     },
     "e13b9307758e43428539efd7613c6277": {
      "model_module": "@jupyter-widgets/base",
      "model_module_version": "1.2.0",
      "model_name": "LayoutModel",
      "state": {
       "width": "145px"
      }
     },
     "e45a961574c14e1688c841f9e6d57143": {
      "model_module": "@jupyter-widgets/controls",
      "model_module_version": "1.5.0",
      "model_name": "ButtonModel",
      "state": {
       "button_style": "primary",
       "description": "Clear",
       "layout": "IPY_MODEL_ea6876bc0c3c49bd9fed493b572dc31b",
       "style": "IPY_MODEL_47577c199c8d404583f82beab840a0d2"
      }
     },
     "e4791e359ca94e2cb75f481677bef0fe": {
      "model_module": "@jupyter-widgets/controls",
      "model_module_version": "1.5.0",
      "model_name": "DescriptionStyleModel",
      "state": {
       "description_width": ""
      }
     },
     "ea6876bc0c3c49bd9fed493b572dc31b": {
      "model_module": "@jupyter-widgets/base",
      "model_module_version": "1.2.0",
      "model_name": "LayoutModel",
      "state": {
       "grid_area": "right",
       "padding": "0px 0px 0px 0px",
       "width": "70px"
      }
     },
     "f756befe60e64e7eb7edb8379020c13a": {
      "model_module": "@jupyter-widgets/controls",
      "model_module_version": "1.5.0",
      "model_name": "DescriptionStyleModel",
      "state": {
       "description_width": ""
      }
     }
    },
    "version_major": 2,
    "version_minor": 0
   }
  }
 },
 "nbformat": 4,
 "nbformat_minor": 5
}
