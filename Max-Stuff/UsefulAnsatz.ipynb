{
 "cells": [
  {
   "cell_type": "code",
   "execution_count": 2,
   "id": "7f4b4762-3eca-4432-be90-8b72a71e2bc7",
   "metadata": {},
   "outputs": [],
   "source": [
    "import numpy as np\n",
    "\n",
    "# Importing standard Qiskit libraries\n",
    "from qiskit import QuantumCircuit, transpile, Aer, IBMQ\n",
    "from qiskit.tools.jupyter import *\n",
    "from qiskit.visualization import *\n",
    "from ibm_quantum_widgets import *\n",
    "from qiskit.providers.aer import QasmSimulator\n",
    "\n",
    "# Loading your IBM Quantum account(s)\n",
    "provider = IBMQ.load_account()"
   ]
  },
  {
   "cell_type": "code",
   "execution_count": 11,
   "id": "f91253eb-f227-418c-ba94-498a2ab3498b",
   "metadata": {},
   "outputs": [],
   "source": [
    "num_qubits = 4"
   ]
  },
  {
   "cell_type": "code",
   "execution_count": 8,
   "id": "9fd0617f-536b-4f34-920c-62b10ae28365",
   "metadata": {},
   "outputs": [],
   "source": [
    "def UsefulAnsatz(num_qubits, params):\n",
    "    index = 0\n",
    "    qc = QuantumCircuit(num_qubits)\n",
    "    for i in range(num_qubits):\n",
    "        qc.rx(params[index], i)\n",
    "        index += 1\n",
    "    for i in range(num_qubits):\n",
    "        qc.rz(params[index], i)\n",
    "        index += 1\n",
    "    for i in range(0, num_qubits, 2):\n",
    "        qc.rzz(params[index], i, i+1)\n",
    "        index += 1\n",
    "    for i in range(1, num_qubits-1, 2):\n",
    "        qc.rzz(params[index], i, i+1)\n",
    "        index += 1\n",
    "    return qc"
   ]
  },
  {
   "cell_type": "code",
   "execution_count": 12,
   "id": "2ea20e3e-1818-4316-9ab1-f2a8c238eb7c",
   "metadata": {},
   "outputs": [],
   "source": [
    "ansatz = UsefulAnsatz(num_qubits, [np.pi/2] * 16)"
   ]
  },
  {
   "cell_type": "code",
   "execution_count": 13,
   "id": "86c54ac6-9dce-449e-b570-6bf807719544",
   "metadata": {},
   "outputs": [
    {
     "data": {
      "image/png": "[encoded data removed]",
      "text/plain": [
       "<Figure size 447.797x264.88 with 1 Axes>"
      ]
     },
     "execution_count": 13,
     "metadata": {},
     "output_type": "execute_result"
    }
   ],
   "source": [
    "ansatz.draw('mpl')"
   ]
  },
  {
   "cell_type": "code",
   "execution_count": 16,
   "id": "890a64c2-db4d-4075-bef6-a1c5110583a4",
   "metadata": {},
   "outputs": [
    {
     "name": "stdout",
     "output_type": "stream",
     "text": [
      "Collecting pennylane\n",
      "  Downloading PennyLane-0.18.0-py3-none-any.whl (631 kB)\n",
      "\u001b[K     |████████████████████████████████| 631 kB 25.0 MB/s eta 0:00:01\n",
      "\u001b[?25hRequirement already satisfied: toml in /opt/conda/lib/python3.8/site-packages (from pennylane) (0.10.2)\n",
      "Requirement already satisfied: appdirs in /opt/conda/lib/python3.8/site-packages (from pennylane) (1.4.4)\n",
      "Requirement already satisfied: networkx in /opt/conda/lib/python3.8/site-packages (from pennylane) (2.5.1)\n",
      "Collecting semantic-version==2.6\n",
      "  Using cached semantic_version-2.6.0-py3-none-any.whl (14 kB)\n",
      "Collecting autoray\n",
      "  Using cached autoray-0.2.5-py3-none-any.whl (16 kB)\n",
      "Requirement already satisfied: scipy in /opt/conda/lib/python3.8/site-packages (from pennylane) (1.7.1)\n",
      "Collecting cachetools\n",
      "  Using cached cachetools-4.2.4-py3-none-any.whl (10 kB)\n",
      "Collecting pennylane-lightning>=0.18\n",
      "  Downloading PennyLane_Lightning-0.18.0-cp38-cp38-manylinux2010_x86_64.whl (4.3 MB)\n",
      "\u001b[K     |████████████████████████████████| 4.3 MB 78 kB/s s eta 0:00:01            | 2.0 MB 34.3 MB/s eta 0:00:01\n",
      "\u001b[?25hCollecting autograd\n",
      "  Using cached autograd-1.3-py3-none-any.whl\n",
      "Requirement already satisfied: numpy in /opt/conda/lib/python3.8/site-packages (from pennylane) (1.21.3)\n",
      "Collecting future>=0.15.2\n",
      "  Using cached future-0.18.2-py3-none-any.whl\n",
      "Requirement already satisfied: decorator<5,>=4.3 in /opt/conda/lib/python3.8/site-packages (from networkx->pennylane) (4.4.2)\n",
      "Installing collected packages: future, semantic-version, pennylane-lightning, cachetools, autoray, autograd, pennylane\n",
      "Successfully installed autograd-1.3 autoray-0.2.5 cachetools-4.2.4 future-0.18.2 pennylane-0.18.0 pennylane-lightning-0.18.0 semantic-version-2.6.0\n"
     ]
    }
   ],
   "source": [
    "!pip install pennylane\n",
    "import pennylane as qml"
   ]
  },
  {
   "cell_type": "code",
   "execution_count": 19,
   "id": "967f4f09-da4f-4690-bf76-256143313148",
   "metadata": {},
   "outputs": [],
   "source": [
    "dev = qml.device(\"default.qubit\", wires=4, shots=1024)\n",
    "@qml.qnode(dev)\n",
    "def UsefulAnsatzPennylane(num_qubits, params):\n",
    "    index = 0\n",
    "    for i in range(num_qubits):\n",
    "        qml.RX(params[index], wires=i)\n",
    "    for i in range(num_qubits):\n",
    "        qml.RX(params[index], wires=i)\n",
    "    for i in range(0,num_qubits,2):\n",
    "        qml.MultiRZ(params[index], wires=[i,i+1])\n",
    "    for i in range(1,num_qubits-1,2):\n",
    "        qml.MultiRZ(params[index], wires=[i,i+1])\n",
    "    return [qml.expval(qml.PauliZ(i)) for i in range(num_qubits)]"
   ]
  },
  {
   "cell_type": "code",
   "execution_count": 20,
   "id": "2ab965ea-3aea-4c3e-ae36-25addc9eec26",
   "metadata": {},
   "outputs": [
    {
     "data": {
      "text/plain": [
       "tensor([-1., -1., -1., -1.], requires_grad=True)"
      ]
     },
     "execution_count": 20,
     "metadata": {},
     "output_type": "execute_result"
    }
   ],
   "source": [
    "UsefulAnsatzPennylane(num_qubits, [np.pi/2] * 16)"
   ]
  }
 ],
 "metadata": {
  "kernelspec": {
   "display_name": "Qiskit v0.31.0 (ipykernel)",
   "language": "python",
   "name": "python3"
  },
  "language_info": {
   "codemirror_mode": {
    "name": "ipython",
    "version": 3
   },
   "file_extension": ".py",
   "mimetype": "text/x-python",
   "name": "python",
   "nbconvert_exporter": "python",
   "pygments_lexer": "ipython3",
   "version": "3.8.10"
  },
  "widgets": {
   "application/vnd.jupyter.widget-state+json": {
    "state": {
     "05a0f77e42d84c3fb0a53582e93732eb": {
      "model_module": "@jupyter-widgets/controls",
      "model_module_version": "1.5.0",
      "model_name": "DescriptionStyleModel",
      "state": {
       "description_width": ""
      }
     },
     "1a6d56840ec54407a30a550d399cec7f": {
      "model_module": "@jupyter-widgets/controls",
      "model_module_version": "1.5.0",
      "model_name": "HTMLModel",
      "state": {
       "layout": "IPY_MODEL_28c42fcc5dc14c29be69c32cc871d9f7",
       "style": "IPY_MODEL_6f66740cda764c0f9dbe488ebc73d253",
       "value": "<h5>Message</h5>"
      }
     },
     "1d69b226afd34dc3be112dc7cd566b6e": {
      "model_module": "@jupyter-widgets/controls",
      "model_module_version": "1.5.0",
      "model_name": "DescriptionStyleModel",
      "state": {
       "description_width": ""
      }
     },
     "2444beabf59141ec8be7e1047c037acf": {
      "model_module": "@jupyter-widgets/base",
      "model_module_version": "1.2.0",
      "model_name": "LayoutModel",
      "state": {
       "grid_area": "right",
       "padding": "0px 0px 0px 0px",
       "width": "70px"
      }
     },
     "26ac494071f24948bfd9ee60e88a7f11": {
      "model_module": "@jupyter-widgets/base",
      "model_module_version": "1.2.0",
      "model_name": "LayoutModel",
      "state": {
       "width": "145px"
      }
     },
     "26d57fd6f7084b1b9db28929a6781ee3": {
      "model_module": "@jupyter-widgets/controls",
      "model_module_version": "1.5.0",
      "model_name": "HTMLModel",
      "state": {
       "layout": "IPY_MODEL_7e4978d8ab224601a7ecef2d61a361c5",
       "style": "IPY_MODEL_7d0de9fca9ce40e0b6b5b5cbfb0c0d74",
       "value": "<h5>Status</h5>"
      }
     },
     "28c42fcc5dc14c29be69c32cc871d9f7": {
      "model_module": "@jupyter-widgets/base",
      "model_module_version": "1.2.0",
      "model_name": "LayoutModel",
      "state": {}
     },
     "4125b0da9cdf4cc9927e34d62773bd7b": {
      "model_module": "@jupyter-widgets/controls",
      "model_module_version": "1.5.0",
      "model_name": "HTMLModel",
      "state": {
       "layout": "IPY_MODEL_26ac494071f24948bfd9ee60e88a7f11",
       "style": "IPY_MODEL_64dd276dd387471682267e81f692f6f5",
       "value": "<h5>Backend</h5>"
      }
     },
     "4576e33fa3dd4d6598c413472430882e": {
      "model_module": "@jupyter-widgets/controls",
      "model_module_version": "1.5.0",
      "model_name": "HTMLModel",
      "state": {
       "layout": "IPY_MODEL_636220dcbbdb4761b10f8b352ace33db",
       "style": "IPY_MODEL_05a0f77e42d84c3fb0a53582e93732eb",
       "value": "<h5>Job ID</h5>"
      }
     },
     "55c6d52d3e5a4f8cb1641b0927387647": {
      "model_module": "@jupyter-widgets/controls",
      "model_module_version": "1.5.0",
      "model_name": "HTMLModel",
      "state": {
       "layout": "IPY_MODEL_b6940bc43bc84a918deee81156cd590a",
       "style": "IPY_MODEL_1d69b226afd34dc3be112dc7cd566b6e",
       "value": "<p style='font-family: IBM Plex Sans, Arial, Helvetica, sans-serif; font-size: 20px; font-weight: medium;'>Circuit Properties</p>"
      }
     },
     "636220dcbbdb4761b10f8b352ace33db": {
      "model_module": "@jupyter-widgets/base",
      "model_module_version": "1.2.0",
      "model_name": "LayoutModel",
      "state": {
       "width": "190px"
      }
     },
     "64dd276dd387471682267e81f692f6f5": {
      "model_module": "@jupyter-widgets/controls",
      "model_module_version": "1.5.0",
      "model_name": "DescriptionStyleModel",
      "state": {
       "description_width": ""
      }
     },
     "66e74f6cd17d4788b243436569dc2308": {
      "model_module": "@jupyter-widgets/base",
      "model_module_version": "1.2.0",
      "model_name": "LayoutModel",
      "state": {
       "grid_template_areas": "\n                                       \". . . . right \"\n                                        ",
       "grid_template_columns": "20% 20% 20% 20% 20%",
       "width": "100%"
      }
     },
     "6f66740cda764c0f9dbe488ebc73d253": {
      "model_module": "@jupyter-widgets/controls",
      "model_module_version": "1.5.0",
      "model_name": "DescriptionStyleModel",
      "state": {
       "description_width": ""
      }
     },
     "76ed68a5bd99460e84018b63eb493c4b": {
      "model_module": "@jupyter-widgets/base",
      "model_module_version": "1.2.0",
      "model_name": "LayoutModel",
      "state": {
       "margin": "0px 0px 0px 37px",
       "width": "600px"
      }
     },
     "77e75d6457b74638ac8cb549bcdc8373": {
      "model_module": "@jupyter-widgets/controls",
      "model_module_version": "1.5.0",
      "model_name": "GridBoxModel",
      "state": {
       "children": [
        "IPY_MODEL_c96a94b48a394a049c9947bbc4781339"
       ],
       "layout": "IPY_MODEL_66e74f6cd17d4788b243436569dc2308"
      }
     },
     "7d0de9fca9ce40e0b6b5b5cbfb0c0d74": {
      "model_module": "@jupyter-widgets/controls",
      "model_module_version": "1.5.0",
      "model_name": "DescriptionStyleModel",
      "state": {
       "description_width": ""
      }
     },
     "7e4978d8ab224601a7ecef2d61a361c5": {
      "model_module": "@jupyter-widgets/base",
      "model_module_version": "1.2.0",
      "model_name": "LayoutModel",
      "state": {
       "width": "95px"
      }
     },
     "88c0538ebbe4432a86c8ce22a6b1e0f5": {
      "model_module": "@jupyter-widgets/controls",
      "model_module_version": "1.5.0",
      "model_name": "ButtonStyleModel",
      "state": {}
     },
     "9b24276952ac4c308b1d7b6ffe3227f0": {
      "model_module": "@jupyter-widgets/controls",
      "model_module_version": "1.5.0",
      "model_name": "DescriptionStyleModel",
      "state": {
       "description_width": ""
      }
     },
     "abc205d6d8bd487b9c3de3fc82aad4c0": {
      "model_module": "@jupyter-widgets/base",
      "model_module_version": "1.2.0",
      "model_name": "LayoutModel",
      "state": {
       "width": "70px"
      }
     },
     "b3271ed21c334e8d9199cd2f626b933c": {
      "model_module": "@jupyter-widgets/controls",
      "model_module_version": "1.5.0",
      "model_name": "HBoxModel",
      "state": {
       "children": [
        "IPY_MODEL_4576e33fa3dd4d6598c413472430882e",
        "IPY_MODEL_4125b0da9cdf4cc9927e34d62773bd7b",
        "IPY_MODEL_26d57fd6f7084b1b9db28929a6781ee3",
        "IPY_MODEL_fec93edcb76548e48c5392129f5515c8",
        "IPY_MODEL_1a6d56840ec54407a30a550d399cec7f"
       ],
       "layout": "IPY_MODEL_76ed68a5bd99460e84018b63eb493c4b"
      }
     },
     "b6940bc43bc84a918deee81156cd590a": {
      "model_module": "@jupyter-widgets/base",
      "model_module_version": "1.2.0",
      "model_name": "LayoutModel",
      "state": {
       "margin": "0px 0px 10px 0px"
      }
     },
     "c96a94b48a394a049c9947bbc4781339": {
      "model_module": "@jupyter-widgets/controls",
      "model_module_version": "1.5.0",
      "model_name": "ButtonModel",
      "state": {
       "button_style": "primary",
       "description": "Clear",
       "layout": "IPY_MODEL_2444beabf59141ec8be7e1047c037acf",
       "style": "IPY_MODEL_88c0538ebbe4432a86c8ce22a6b1e0f5"
      }
     },
     "fec93edcb76548e48c5392129f5515c8": {
      "model_module": "@jupyter-widgets/controls",
      "model_module_version": "1.5.0",
      "model_name": "HTMLModel",
      "state": {
       "layout": "IPY_MODEL_abc205d6d8bd487b9c3de3fc82aad4c0",
       "style": "IPY_MODEL_9b24276952ac4c308b1d7b6ffe3227f0",
       "value": "<h5>Queue</h5>"
      }
     }
    },
    "version_major": 2,
    "version_minor": 0
   }
  }
 },
 "nbformat": 4,
 "nbformat_minor": 5
}
