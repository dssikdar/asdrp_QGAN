{
 "cells": [
  {
   "cell_type": "code",
   "execution_count": 2,
   "id": "9d165ba3-e32b-4633-943b-587e60ad8f01",
   "metadata": {},
   "outputs": [
    {
     "name": "stderr",
     "output_type": "stream",
     "text": [
      "ibmqfactory.load_account:WARNING:2022-02-26 07:42:38,575: Credentials are already in use. The existing account in the session will be replaced.\n"
     ]
    },
    {
     "name": "stdout",
     "output_type": "stream",
     "text": [
      "Libraries imported successfully!\n"
     ]
    }
   ],
   "source": [
    "import numpy as np\n",
    "# Importing standard Qiskit libraries\n",
    "from qiskit import QuantumCircuit, execute, transpile, Aer, IBMQ\n",
    "from qiskit.tools.jupyter import *\n",
    "from qiskit.visualization import *\n",
    "from ibm_quantum_widgets import *\n",
    "import math\n",
    "\n",
    "# Loading your IBM Quantum account(s)\n",
    "provider = IBMQ.load_account()\n",
    "print('Libraries imported successfully!')"
   ]
  },
  {
   "cell_type": "code",
   "execution_count": 117,
   "id": "4ff94a88-d10d-4378-b317-0a88b2ff8ac4",
   "metadata": {},
   "outputs": [
    {
     "data": {
      "image/png": "[encoded data removed]",
      "text/plain": [
       "<Figure size 538.279x385.28 with 1 Axes>"
      ]
     },
     "execution_count": 117,
     "metadata": {},
     "output_type": "execute_result"
    }
   ],
   "source": [
    "num_of_qubits = 5\n",
    "qc = QuantumCircuit(num_of_qubits)\n",
    "qc.x([0,2,3,4])\n",
    "qc.measure_all()\n",
    "qc.draw()"
   ]
  },
  {
   "cell_type": "code",
   "execution_count": 118,
   "id": "bde2673b-6cbd-46c0-9bd9-2d5f15970ab6",
   "metadata": {},
   "outputs": [
    {
     "name": "stdout",
     "output_type": "stream",
     "text": [
      "{'11101': 1024}\n"
     ]
    }
   ],
   "source": [
    "shots = 1024\n",
    "\n",
    "backend = Aer.get_backend('qasm_simulator') # Tell it which simulator you want to use\n",
    "job = execute(qc,backend, shots = shots) # Put in the name of your quantum circuit where it says qc, and the number of shots you want to use\n",
    "result = job.result()\n",
    "\n",
    "counts = result.get_counts()\n",
    "print(counts)\n",
    "#plot_histogram(counts)"
   ]
  },
  {
   "cell_type": "markdown",
   "id": "a711a6e4-46bf-4bb9-a12f-aba1b623ffd1",
   "metadata": {},
   "source": [
    "<b> Please note the following: </b>\n",
    "<b>key</b> is the output vector of the quantum generator, and it must be as an integer in Big Endian format. \n",
    "Remember Qiskit simulator outputs in Little Endian format."
   ]
  },
  {
   "cell_type": "code",
   "execution_count": 119,
   "id": "4d32f64a-b806-43bd-87c7-69f9b6a8f1c1",
   "metadata": {},
   "outputs": [
    {
     "data": {
      "text/plain": [
       "10111"
      ]
     },
     "execution_count": 119,
     "metadata": {},
     "output_type": "execute_result"
    }
   ],
   "source": [
    "key = list(counts.keys())[list(counts.values()).index(shots)]\n",
    "key = int(key[::-1])\n",
    "key"
   ]
  },
  {
   "cell_type": "code",
   "execution_count": 120,
   "id": "d9028213-7e56-4a17-bb7c-b147041ffa4a",
   "metadata": {},
   "outputs": [],
   "source": [
    "def binaryToDecimal(binary):\n",
    "    binary1 = binary\n",
    "    decimal, i, n = 0, 0, 0\n",
    "    while(binary != 0):\n",
    "        dec = binary % 10\n",
    "        decimal = decimal + dec * pow(2, i)\n",
    "        binary = binary//10\n",
    "        i += 1\n",
    "    return decimal  "
   ]
  },
  {
   "cell_type": "code",
   "execution_count": 121,
   "id": "dd3683d2-f696-460c-8bec-a24b0b1b1e18",
   "metadata": {},
   "outputs": [
    {
     "data": {
      "text/plain": [
       "2.875"
      ]
     },
     "execution_count": 121,
     "metadata": {},
     "output_type": "execute_result"
    }
   ],
   "source": [
    "distance = binaryToDecimal(key)/(2**(num_of_qubits-2))\n",
    "distance"
   ]
  },
  {
   "cell_type": "code",
   "execution_count": null,
   "id": "b96fa533-ce27-45d2-baa7-8d4ad4e82473",
   "metadata": {},
   "outputs": [],
   "source": []
  },
  {
   "cell_type": "code",
   "execution_count": null,
   "id": "ac4fc67d-87b0-4fd1-b33e-9268bfe91071",
   "metadata": {},
   "outputs": [],
   "source": []
  },
  {
   "cell_type": "code",
   "execution_count": null,
   "id": "24c01aa6-8014-44de-8cd2-5a7efcb33d8c",
   "metadata": {},
   "outputs": [],
   "source": []
  }
 ],
 "metadata": {
  "kernelspec": {
   "display_name": "Qiskit v0.34.2 (ipykernel)",
   "language": "python",
   "name": "python3"
  },
  "language_info": {
   "codemirror_mode": {
    "name": "ipython",
    "version": 3
   },
   "file_extension": ".py",
   "mimetype": "text/x-python",
   "name": "python",
   "nbconvert_exporter": "python",
   "pygments_lexer": "ipython3",
   "version": "3.8.12"
  },
  "widgets": {
   "application/vnd.jupyter.widget-state+json": {
    "state": {
     "0c607f0c092546df8194bd340e887ec9": {
      "model_module": "@jupyter-widgets/controls",
      "model_module_version": "1.5.0",
      "model_name": "HBoxModel",
      "state": {
       "children": [
        "IPY_MODEL_bde3c1622c754723b82c686c79208d0b",
        "IPY_MODEL_9f2561d76bfb4812b391f2764ba87b7b",
        "IPY_MODEL_b0475d0e45644572b45d666f95445a89",
        "IPY_MODEL_c459dad05ff14795ae0c2b6f21bb31a6",
        "IPY_MODEL_5dbe61092bd44825ba0f592624349e6e"
       ],
       "layout": "IPY_MODEL_2d838798a8df451bbca0f210c832197c"
      }
     },
     "0e60164529124e4c9fc950daa546ac25": {
      "model_module": "@jupyter-widgets/controls",
      "model_module_version": "1.5.0",
      "model_name": "DescriptionStyleModel",
      "state": {
       "description_width": ""
      }
     },
     "0e63e39ec1d14a9da47e43562e72a95d": {
      "model_module": "@jupyter-widgets/controls",
      "model_module_version": "1.5.0",
      "model_name": "DescriptionStyleModel",
      "state": {
       "description_width": ""
      }
     },
     "2150e5790ba14ac8808c8aa80a34714c": {
      "model_module": "@jupyter-widgets/base",
      "model_module_version": "1.2.0",
      "model_name": "LayoutModel",
      "state": {
       "margin": "0px 0px 10px 0px"
      }
     },
     "288205aca56d4b779b0ec446cac58773": {
      "model_module": "@jupyter-widgets/base",
      "model_module_version": "1.2.0",
      "model_name": "LayoutModel",
      "state": {
       "width": "70px"
      }
     },
     "2d838798a8df451bbca0f210c832197c": {
      "model_module": "@jupyter-widgets/base",
      "model_module_version": "1.2.0",
      "model_name": "LayoutModel",
      "state": {
       "margin": "0px 0px 0px 37px",
       "width": "600px"
      }
     },
     "2f2e23f611904fc38c3b016dfe91d367": {
      "model_module": "@jupyter-widgets/base",
      "model_module_version": "1.2.0",
      "model_name": "LayoutModel",
      "state": {
       "grid_area": "right",
       "padding": "0px 0px 0px 0px",
       "width": "70px"
      }
     },
     "3a21a61ea6eb491db7f452787350cbe3": {
      "model_module": "@jupyter-widgets/controls",
      "model_module_version": "1.5.0",
      "model_name": "DescriptionStyleModel",
      "state": {
       "description_width": ""
      }
     },
     "5297154c3db44cc38a539ae56f52d05d": {
      "model_module": "@jupyter-widgets/controls",
      "model_module_version": "1.5.0",
      "model_name": "HTMLModel",
      "state": {
       "layout": "IPY_MODEL_2150e5790ba14ac8808c8aa80a34714c",
       "style": "IPY_MODEL_a2d9f23da801456b98eda1346e48cef4",
       "value": "<p style='font-family: IBM Plex Sans, Arial, Helvetica, sans-serif; font-size: 20px; font-weight: medium;'>Circuit Properties</p>"
      }
     },
     "53d632dc2d384de6bc19118f25c84e58": {
      "model_module": "@jupyter-widgets/base",
      "model_module_version": "1.2.0",
      "model_name": "LayoutModel",
      "state": {
       "grid_template_areas": "\n                                       \". . . . right \"\n                                        ",
       "grid_template_columns": "20% 20% 20% 20% 20%",
       "width": "100%"
      }
     },
     "56ff49e1029d4337910b6b0e0750d35a": {
      "model_module": "@jupyter-widgets/base",
      "model_module_version": "1.2.0",
      "model_name": "LayoutModel",
      "state": {
       "width": "190px"
      }
     },
     "5dbe61092bd44825ba0f592624349e6e": {
      "model_module": "@jupyter-widgets/controls",
      "model_module_version": "1.5.0",
      "model_name": "HTMLModel",
      "state": {
       "layout": "IPY_MODEL_cb693289d4bb4a30bcf1e28b7fdf371f",
       "style": "IPY_MODEL_0e63e39ec1d14a9da47e43562e72a95d",
       "value": "<h5>Message</h5>"
      }
     },
     "65740bf5412645c0a3e79043a9d789f2": {
      "model_module": "@jupyter-widgets/base",
      "model_module_version": "1.2.0",
      "model_name": "LayoutModel",
      "state": {
       "width": "95px"
      }
     },
     "918830d291fc42d6b961db00ae00749e": {
      "model_module": "@jupyter-widgets/controls",
      "model_module_version": "1.5.0",
      "model_name": "GridBoxModel",
      "state": {
       "children": [
        "IPY_MODEL_efac0e414d14492a9bfccf98f63727c6"
       ],
       "layout": "IPY_MODEL_53d632dc2d384de6bc19118f25c84e58"
      }
     },
     "9f2561d76bfb4812b391f2764ba87b7b": {
      "model_module": "@jupyter-widgets/controls",
      "model_module_version": "1.5.0",
      "model_name": "HTMLModel",
      "state": {
       "layout": "IPY_MODEL_dad2a1509a1d40cca90b2ea59de728a8",
       "style": "IPY_MODEL_3a21a61ea6eb491db7f452787350cbe3",
       "value": "<h5>Backend</h5>"
      }
     },
     "a2d9f23da801456b98eda1346e48cef4": {
      "model_module": "@jupyter-widgets/controls",
      "model_module_version": "1.5.0",
      "model_name": "DescriptionStyleModel",
      "state": {
       "description_width": ""
      }
     },
     "a30fc102aaf84a6495a7da365cf2458d": {
      "model_module": "@jupyter-widgets/controls",
      "model_module_version": "1.5.0",
      "model_name": "ButtonStyleModel",
      "state": {}
     },
     "b0475d0e45644572b45d666f95445a89": {
      "model_module": "@jupyter-widgets/controls",
      "model_module_version": "1.5.0",
      "model_name": "HTMLModel",
      "state": {
       "layout": "IPY_MODEL_65740bf5412645c0a3e79043a9d789f2",
       "style": "IPY_MODEL_0e60164529124e4c9fc950daa546ac25",
       "value": "<h5>Status</h5>"
      }
     },
     "bde3c1622c754723b82c686c79208d0b": {
      "model_module": "@jupyter-widgets/controls",
      "model_module_version": "1.5.0",
      "model_name": "HTMLModel",
      "state": {
       "layout": "IPY_MODEL_56ff49e1029d4337910b6b0e0750d35a",
       "style": "IPY_MODEL_f92aa07474f04c8ab7f10ce82fe1209b",
       "value": "<h5>Job ID</h5>"
      }
     },
     "c459dad05ff14795ae0c2b6f21bb31a6": {
      "model_module": "@jupyter-widgets/controls",
      "model_module_version": "1.5.0",
      "model_name": "HTMLModel",
      "state": {
       "layout": "IPY_MODEL_288205aca56d4b779b0ec446cac58773",
       "style": "IPY_MODEL_eafd2c098cfe4fc697a119e125e6ba1b",
       "value": "<h5>Queue</h5>"
      }
     },
     "cb693289d4bb4a30bcf1e28b7fdf371f": {
      "model_module": "@jupyter-widgets/base",
      "model_module_version": "1.2.0",
      "model_name": "LayoutModel",
      "state": {}
     },
     "dad2a1509a1d40cca90b2ea59de728a8": {
      "model_module": "@jupyter-widgets/base",
      "model_module_version": "1.2.0",
      "model_name": "LayoutModel",
      "state": {
       "width": "145px"
      }
     },
     "eafd2c098cfe4fc697a119e125e6ba1b": {
      "model_module": "@jupyter-widgets/controls",
      "model_module_version": "1.5.0",
      "model_name": "DescriptionStyleModel",
      "state": {
       "description_width": ""
      }
     },
     "efac0e414d14492a9bfccf98f63727c6": {
      "model_module": "@jupyter-widgets/controls",
      "model_module_version": "1.5.0",
      "model_name": "ButtonModel",
      "state": {
       "button_style": "primary",
       "description": "Clear",
       "layout": "IPY_MODEL_2f2e23f611904fc38c3b016dfe91d367",
       "style": "IPY_MODEL_a30fc102aaf84a6495a7da365cf2458d"
      }
     },
     "f92aa07474f04c8ab7f10ce82fe1209b": {
      "model_module": "@jupyter-widgets/controls",
      "model_module_version": "1.5.0",
      "model_name": "DescriptionStyleModel",
      "state": {
       "description_width": ""
      }
     }
    },
    "version_major": 2,
    "version_minor": 0
   }
  }
 },
 "nbformat": 4,
 "nbformat_minor": 5
}
