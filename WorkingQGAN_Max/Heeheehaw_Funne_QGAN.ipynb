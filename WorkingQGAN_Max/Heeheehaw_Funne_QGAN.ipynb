{
  "nbformat": 4,
  "nbformat_minor": 0,
  "metadata": {
    "colab": {
      "name": "Heeheehaw Funne QGAN.ipynb",
      "provenance": []
    },
    "kernelspec": {
      "name": "python3",
      "display_name": "Python 3"
    },
    "language_info": {
      "name": "python"
    }
  },
  "cells": [
    {
      "cell_type": "markdown",
      "source": [
        "## Install and Import ~~Your Mother~~"
      ],
      "metadata": {
        "id": "2KWxx75uexa8"
      }
    },
    {
      "cell_type": "markdown",
      "source": [
        "Using TFQ and Cirq"
      ],
      "metadata": {
        "id": "Y1xUy5eeO9tw"
      }
    },
    {
      "cell_type": "code",
      "execution_count": null,
      "metadata": {
        "id": "QqkTrUWFebJE"
      },
      "outputs": [],
      "source": [
        "!pip install tensorflow==2.3.1\n",
        "!pip install tensorflow-quantum==0.4.0"
      ]
    },
    {
      "cell_type": "markdown",
      "source": [
        "Using Torch and Pennylane\n"
      ],
      "metadata": {
        "id": "zG3gxzJmO6LH"
      }
    },
    {
      "cell_type": "code",
      "source": [
        "import cirq"
      ],
      "metadata": {
        "id": "FH-yMyY_NRAV"
      },
      "execution_count": null,
      "outputs": []
    },
    {
      "cell_type": "code",
      "source": [
        "import tensorflow as tf\n",
        "import tensorflow_quantum as tfq"
      ],
      "metadata": {
        "id": "ngLzfEOtft45"
      },
      "execution_count": null,
      "outputs": []
    },
    {
      "cell_type": "code",
      "source": [
        "#!pip install pennylane\n",
        "#import pennylane as qml\n",
        "\n",
        "# Pytorch imports\n",
        "#import torch\n",
        "#import torch.nn as nn\n",
        "#import torch.optim as optim\n",
        "#import torchvision\n",
        "#import torchvision.transforms as transforms\n",
        "#from torch.utils.data import Dataset, DataLoader"
      ],
      "metadata": {
        "id": "9MTeXzq4OxQx"
      },
      "execution_count": null,
      "outputs": []
    },
    {
      "cell_type": "code",
      "source": [
        "import math\n",
        "import random\n",
        "import numpy as np\n",
        "import pandas as pd\n",
        "import matplotlib.pyplot as plt\n",
        "import matplotlib.gridspec as gridspec"
      ],
      "metadata": {
        "id": "ybZ4dM5leh73"
      },
      "execution_count": null,
      "outputs": []
    },
    {
      "cell_type": "markdown",
      "source": [
        "Random ~~weed~~ seed for reproduct~~ion~~ibility"
      ],
      "metadata": {
        "id": "0TrqWfN8e3Ey"
      }
    },
    {
      "cell_type": "code",
      "source": [
        "seed = 42\n",
        "#torch.manual_seed(seed) #uncomment if using torch\n",
        "np.random.seed(seed)\n",
        "random.seed(seed)"
      ],
      "metadata": {
        "id": "pSunhBsjeiJk"
      },
      "execution_count": null,
      "outputs": []
    },
    {
      "cell_type": "markdown",
      "source": [
        "## Custom Dataset Loader class to load the molecules"
      ],
      "metadata": {
        "id": "sKwhyAoWfMf3"
      }
    },
    {
      "cell_type": "code",
      "source": [
        "#create custom dataset loader for the fscking molecules"
      ],
      "metadata": {
        "id": "QmmdFj5MeqZP"
      },
      "execution_count": null,
      "outputs": []
    },
    {
      "cell_type": "markdown",
      "source": [
        "## Build Discriminator using Keras\n",
        "Because all Google things are ~~shitty~~\n",
        "**Convert to Torch?!**"
      ],
      "metadata": {
        "id": "ZDP64sRnfQMN"
      }
    },
    {
      "cell_type": "code",
      "source": [
        "import tensorflow.keras.layers as fuck"
      ],
      "metadata": {
        "id": "N62XTOMCjGKw"
      },
      "execution_count": null,
      "outputs": []
    },
    {
      "cell_type": "code",
      "source": [
        "class Discriminator(tf.keras.layers.Layer):\n",
        "    def __init__(self):\n",
        "        super().__init__()\n",
        "\n",
        "        self.mol_vec_size = (16, 1, 1)\n",
        "        self.mol_shit = (self.mol_vec_size)\n",
        "\n",
        "        self.model = tf.keras.models.Sequential()\n",
        "        self.model.add(fuck.Input(shape=(16, 1, 1)))\n",
        "        self.model.add(fuck.Dense(32, activation='relu'))\n",
        "        self.model.add(fuck.Dropout(0.3))\n",
        "        self.model.add(fuck.Dense(16, activation='relu'))\n",
        "        self.model.add(fuck.Dropout(0.3))\n",
        "        self.model.add(fuck.Dense(1, activation='relu'))\n",
        "\n",
        "        self.i_will_kill_you = self.fucking_work()\n",
        "\n",
        "    def fucking_work(self):\n",
        "        self.your_mother = fuck.Input(shape=self.mol_shit)\n",
        "        self.sussy = self.model(self.your_mother)\n",
        "\n",
        "        self.model.compile(optimizer='rmsprop')\n",
        "\n",
        "        return self.model(self.your_mother, self.sussy)\n",
        "\n",
        "    def do_shit(self, x, y):\n",
        "        self.model.fit(x, y)\n"
      ],
      "metadata": {
        "id": "9SbmHY5VeuJm"
      },
      "execution_count": null,
      "outputs": []
    },
    {
      "cell_type": "markdown",
      "source": [
        "## Build the Generator\n",
        "The **~~fucking~~** generator.  \n",
        "**DONT RUN ANYTHING HERE**"
      ],
      "metadata": {
        "id": "Pj-3LONElgFG"
      }
    },
    {
      "cell_type": "code",
      "source": [
        "class Generator(tf.keras.layers.Layer): #warning: this class is dubious\n",
        "    def __init__(self, NOQ):\n",
        "        self.num_of_qubits = NOQ\n",
        "        self.qgan_bits = None\n",
        "        self.G = None\n",
        "\n",
        "    def useless_function(self, bits=None):\n",
        "        circuit = cirq.Circuit()\n",
        "        return circuit\n",
        "\n",
        "    def init_rot(self, bits):\n",
        "        circuit = cirq.Circuit()\n",
        "        for bit in bits:\n",
        "            circuit.append(cirq.rx(np.pi)(bit))\n",
        "            circuit.append(cirq.ry(np.pi)(bit))\n",
        "            circuit.append(cirq.rz(np.pi)(bit))\n",
        "        return circuit\n",
        "    \n",
        "    def connect_all(self, bits, symbols):\n",
        "        circuit = cirq.Circuit()\n",
        "        i = 0\n",
        "        circuit.append(cirq.H.on_each(bits))\n",
        "        for control, target in zip(bits, bits[1:]+[bits[0]]):\n",
        "            circuit.append(cirq.CNOT(control=control, target=target))\n",
        "            circuit.append(cirq.rx(symbols[i])(control))\n",
        "            circuit.append(cirq.rx(symbols[i])(target))\n",
        "            i += 1\n",
        "        return circuit\n",
        "\n",
        "    def create_qgan_model(self, qubits, layers=1):\n",
        "        length = layers*self.num_of_qubits\n",
        "        symbols = sympy.symbols(f'gen_param0:{length}')\n",
        "        qgan_circuit = cirq.Circuit()\n",
        "        x = 0\n",
        "        for layer in range(layers):\n",
        "            qgan_circuit += self.init_rot(qubits)\n",
        "            qgan_circuit += self.connect_all(qubits, symbols[x:x+self.num_of_qubits])\n",
        "            x += self.num_of_qubits\n",
        "        return qgan_circuit\n",
        "\n",
        "\n",
        "    #TODO: figure this stuff out\n",
        "    def build(self):\n",
        "        self.qgan_bits = cirq.GridQubit.rect(1,self.num_of_qubits)\n",
        "        #readout_ops = [cirq.Z(self.qgan_bits[i]) for i in range(self.num_of_qubits)]\n",
        "        readout_ops = cirq.Z(self.qgan_bits[0])\n",
        "        useless_input = tf.keras.Input(shape=(), dtype=tf.dtypes.string)\n",
        "        init_state = tfq.layers.AddCircuit()(useless_input, prepend=self.useless_function(self.qgan_bits))\n",
        "        quantum_model = tfq.layers.PQC(self.create_qgan_model(self.qgan_bits), readout_ops)(init_state)\n",
        "        self.G = tf.keras.Model(inputs=[useless_input], outputs=[quantum_model])\n",
        "        #tf.keras.utils.plot_model(self.G, show_shapes=True, show_layer_names=False, dpi=70)\n",
        "        \n",
        "    def call(self):\n",
        "        return None"
      ],
      "metadata": {
        "id": "HpcPyqYsqKMD"
      },
      "execution_count": null,
      "outputs": []
    }
  ]
}