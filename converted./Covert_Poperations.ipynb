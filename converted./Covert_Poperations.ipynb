{
  "nbformat": 4,
  "nbformat_minor": 0,
  "metadata": {
    "colab": {
      "name": "Covert Poperations.ipynb",
      "provenance": [],
      "collapsed_sections": []
    },
    "kernelspec": {
      "name": "python3",
      "display_name": "Python 3"
    },
    "language_info": {
      "name": "python"
    }
  },
  "cells": [
    {
      "cell_type": "code",
      "execution_count": 1,
      "metadata": {
        "colab": {
          "base_uri": "https://localhost:8080/"
        },
        "id": "xY31JvCj9_t6",
        "outputId": "4bab1185-44c9-4185-edca-68aa6d780f21"
      },
      "outputs": [
        {
          "output_type": "stream",
          "name": "stdout",
          "text": [
            "Collecting pysmiles\n",
            "  Downloading pysmiles-1.0.1.tar.gz (34 kB)\n",
            "Collecting pbr\n",
            "  Using cached pbr-5.8.0-py2.py3-none-any.whl (112 kB)\n",
            "Requirement already satisfied: networkx~=2.0 in /usr/local/lib/python3.7/dist-packages (from pysmiles) (2.6.3)\n",
            "Building wheels for collected packages: pysmiles\n",
            "  Building wheel for pysmiles (setup.py) ... \u001b[?25l\u001b[?25hdone\n",
            "  Created wheel for pysmiles: filename=pysmiles-1.0.1-py2.py3-none-any.whl size=22028 sha256=6345f5a1e8593856b044f3358131ddf4bc9adb249f7a3b215b2556169544407b\n",
            "  Stored in directory: /root/.cache/pip/wheels/e4/f0/ca/dae2e932684a6e26824d29cf5b6dadea7320e6fed036942972\n",
            "Successfully built pysmiles\n",
            "Installing collected packages: pbr, pysmiles\n",
            "Successfully installed pbr-5.8.0 pysmiles-1.0.1\n"
          ]
        }
      ],
      "source": [
        "!pip install pysmiles"
      ]
    },
    {
      "cell_type": "code",
      "source": [
        "import pandas as pd\n",
        "from pysmiles import read_smiles\n",
        "import networkx as nx\n",
        "import matplotlib.pyplot as plt\n",
        "import numpy as np\n",
        "from random import randint\n",
        "from math import sqrt"
      ],
      "metadata": {
        "id": "W6I0BY-L-48t"
      },
      "execution_count": 113,
      "outputs": []
    },
    {
      "cell_type": "code",
      "source": [
        "smiles_dfwH = pd.read_csv(\"OriginalSMILES_QM9.csv\")\n",
        "smiles_dfwH = smiles_dfwH.drop('idx', axis=1)"
      ],
      "metadata": {
        "id": "8QcOsqA7-_Ho"
      },
      "execution_count": 3,
      "outputs": []
    },
    {
      "cell_type": "code",
      "source": [
        "smiles_dfwH"
      ],
      "metadata": {
        "colab": {
          "base_uri": "https://localhost:8080/",
          "height": 419
        },
        "id": "JhyjuSVl_Bj6",
        "outputId": "d85b5532-2225-42ce-e685-31ec138f6fb3"
      },
      "execution_count": 4,
      "outputs": [
        {
          "output_type": "execute_result",
          "data": {
            "text/html": [
              "\n",
              "  <div id=\"df-12fbe00b-d0be-4bbc-80f7-7817aa072576\">\n",
              "    <div class=\"colab-df-container\">\n",
              "      <div>\n",
              "<style scoped>\n",
              "    .dataframe tbody tr th:only-of-type {\n",
              "        vertical-align: middle;\n",
              "    }\n",
              "\n",
              "    .dataframe tbody tr th {\n",
              "        vertical-align: top;\n",
              "    }\n",
              "\n",
              "    .dataframe thead th {\n",
              "        text-align: right;\n",
              "    }\n",
              "</style>\n",
              "<table border=\"1\" class=\"dataframe\">\n",
              "  <thead>\n",
              "    <tr style=\"text-align: right;\">\n",
              "      <th></th>\n",
              "      <th>smiles</th>\n",
              "    </tr>\n",
              "  </thead>\n",
              "  <tbody>\n",
              "    <tr>\n",
              "      <th>0</th>\n",
              "      <td>C</td>\n",
              "    </tr>\n",
              "    <tr>\n",
              "      <th>1</th>\n",
              "      <td>N</td>\n",
              "    </tr>\n",
              "    <tr>\n",
              "      <th>2</th>\n",
              "      <td>O</td>\n",
              "    </tr>\n",
              "    <tr>\n",
              "      <th>3</th>\n",
              "      <td>C#C</td>\n",
              "    </tr>\n",
              "    <tr>\n",
              "      <th>4</th>\n",
              "      <td>C#N</td>\n",
              "    </tr>\n",
              "    <tr>\n",
              "      <th>...</th>\n",
              "      <td>...</td>\n",
              "    </tr>\n",
              "    <tr>\n",
              "      <th>132035</th>\n",
              "      <td>C1C2C3C4C5OC14C5N23</td>\n",
              "    </tr>\n",
              "    <tr>\n",
              "      <th>132036</th>\n",
              "      <td>C1N2C3C2C2C4OC12C34</td>\n",
              "    </tr>\n",
              "    <tr>\n",
              "      <th>132037</th>\n",
              "      <td>C1N2C3C4C5C2C13CN45</td>\n",
              "    </tr>\n",
              "    <tr>\n",
              "      <th>132038</th>\n",
              "      <td>C1N2C3C4C5CC13C2C45</td>\n",
              "    </tr>\n",
              "    <tr>\n",
              "      <th>132039</th>\n",
              "      <td>C1N2C3C4C5OC13C2C45</td>\n",
              "    </tr>\n",
              "  </tbody>\n",
              "</table>\n",
              "<p>132040 rows × 1 columns</p>\n",
              "</div>\n",
              "      <button class=\"colab-df-convert\" onclick=\"convertToInteractive('df-12fbe00b-d0be-4bbc-80f7-7817aa072576')\"\n",
              "              title=\"Convert this dataframe to an interactive table.\"\n",
              "              style=\"display:none;\">\n",
              "        \n",
              "  <svg xmlns=\"http://www.w3.org/2000/svg\" height=\"24px\"viewBox=\"0 0 24 24\"\n",
              "       width=\"24px\">\n",
              "    <path d=\"M0 0h24v24H0V0z\" fill=\"none\"/>\n",
              "    <path d=\"M18.56 5.44l.94 2.06.94-2.06 2.06-.94-2.06-.94-.94-2.06-.94 2.06-2.06.94zm-11 1L8.5 8.5l.94-2.06 2.06-.94-2.06-.94L8.5 2.5l-.94 2.06-2.06.94zm10 10l.94 2.06.94-2.06 2.06-.94-2.06-.94-.94-2.06-.94 2.06-2.06.94z\"/><path d=\"M17.41 7.96l-1.37-1.37c-.4-.4-.92-.59-1.43-.59-.52 0-1.04.2-1.43.59L10.3 9.45l-7.72 7.72c-.78.78-.78 2.05 0 2.83L4 21.41c.39.39.9.59 1.41.59.51 0 1.02-.2 1.41-.59l7.78-7.78 2.81-2.81c.8-.78.8-2.07 0-2.86zM5.41 20L4 18.59l7.72-7.72 1.47 1.35L5.41 20z\"/>\n",
              "  </svg>\n",
              "      </button>\n",
              "      \n",
              "  <style>\n",
              "    .colab-df-container {\n",
              "      display:flex;\n",
              "      flex-wrap:wrap;\n",
              "      gap: 12px;\n",
              "    }\n",
              "\n",
              "    .colab-df-convert {\n",
              "      background-color: #E8F0FE;\n",
              "      border: none;\n",
              "      border-radius: 50%;\n",
              "      cursor: pointer;\n",
              "      display: none;\n",
              "      fill: #1967D2;\n",
              "      height: 32px;\n",
              "      padding: 0 0 0 0;\n",
              "      width: 32px;\n",
              "    }\n",
              "\n",
              "    .colab-df-convert:hover {\n",
              "      background-color: #E2EBFA;\n",
              "      box-shadow: 0px 1px 2px rgba(60, 64, 67, 0.3), 0px 1px 3px 1px rgba(60, 64, 67, 0.15);\n",
              "      fill: #174EA6;\n",
              "    }\n",
              "\n",
              "    [theme=dark] .colab-df-convert {\n",
              "      background-color: #3B4455;\n",
              "      fill: #D2E3FC;\n",
              "    }\n",
              "\n",
              "    [theme=dark] .colab-df-convert:hover {\n",
              "      background-color: #434B5C;\n",
              "      box-shadow: 0px 1px 3px 1px rgba(0, 0, 0, 0.15);\n",
              "      filter: drop-shadow(0px 1px 2px rgba(0, 0, 0, 0.3));\n",
              "      fill: #FFFFFF;\n",
              "    }\n",
              "  </style>\n",
              "\n",
              "      <script>\n",
              "        const buttonEl =\n",
              "          document.querySelector('#df-12fbe00b-d0be-4bbc-80f7-7817aa072576 button.colab-df-convert');\n",
              "        buttonEl.style.display =\n",
              "          google.colab.kernel.accessAllowed ? 'block' : 'none';\n",
              "\n",
              "        async function convertToInteractive(key) {\n",
              "          const element = document.querySelector('#df-12fbe00b-d0be-4bbc-80f7-7817aa072576');\n",
              "          const dataTable =\n",
              "            await google.colab.kernel.invokeFunction('convertToInteractive',\n",
              "                                                     [key], {});\n",
              "          if (!dataTable) return;\n",
              "\n",
              "          const docLinkHtml = 'Like what you see? Visit the ' +\n",
              "            '<a target=\"_blank\" href=https://colab.research.google.com/notebooks/data_table.ipynb>data table notebook</a>'\n",
              "            + ' to learn more about interactive tables.';\n",
              "          element.innerHTML = '';\n",
              "          dataTable['output_type'] = 'display_data';\n",
              "          await google.colab.output.renderOutput(dataTable, element);\n",
              "          const docLink = document.createElement('div');\n",
              "          docLink.innerHTML = docLinkHtml;\n",
              "          element.appendChild(docLink);\n",
              "        }\n",
              "      </script>\n",
              "    </div>\n",
              "  </div>\n",
              "  "
            ],
            "text/plain": [
              "                     smiles\n",
              "0                         C\n",
              "1                         N\n",
              "2                         O\n",
              "3                       C#C\n",
              "4                       C#N\n",
              "...                     ...\n",
              "132035  C1C2C3C4C5OC14C5N23\n",
              "132036  C1N2C3C2C2C4OC12C34\n",
              "132037  C1N2C3C4C5C2C13CN45\n",
              "132038  C1N2C3C4C5CC13C2C45\n",
              "132039  C1N2C3C4C5OC13C2C45\n",
              "\n",
              "[132040 rows x 1 columns]"
            ]
          },
          "metadata": {},
          "execution_count": 4
        }
      ]
    },
    {
      "cell_type": "code",
      "source": [
        "molmatrixwH = []\n",
        "\n",
        "for i in range(len(smiles_dfwH)):\n",
        "  molwH = read_smiles(smiles_dfwH['smiles'][i], explicit_hydrogen=True)\n",
        "  molmatrixwH.append(nx.to_numpy_matrix(molwH))"
      ],
      "metadata": {
        "id": "hytl1cYh_D-k"
      },
      "execution_count": 5,
      "outputs": []
    },
    {
      "cell_type": "code",
      "source": [
        "countwH = 0\n",
        "\n",
        "for i in range(len(smiles_dfwH)):\n",
        "  if len(molmatrixwH[i]) <= 11:\n",
        "      countwH += 1"
      ],
      "metadata": {
        "id": "bhYKIZjX_I-n"
      },
      "execution_count": 6,
      "outputs": []
    },
    {
      "cell_type": "code",
      "source": [
        "lenwH = []\n",
        "\n",
        "for i in range(len(smiles_dfwH)):\n",
        "  lenwH.append(len(molmatrixwH[i]))"
      ],
      "metadata": {
        "id": "GA8Bh0ob_mRo"
      },
      "execution_count": 7,
      "outputs": []
    },
    {
      "cell_type": "code",
      "source": [
        "smiles_dfwH['matrixwH'] = molmatrixwH\n",
        "smiles_dfwH['lenwH'] = lenwH"
      ],
      "metadata": {
        "id": "jiqP-BRr_oKF"
      },
      "execution_count": 8,
      "outputs": []
    },
    {
      "cell_type": "code",
      "source": [
        "smiles_dfwH = smiles_dfwH.drop(smiles_dfwH[smiles_dfwH['lenwH'] > 11].index)"
      ],
      "metadata": {
        "id": "UxWvuHsJ_rf2"
      },
      "execution_count": 9,
      "outputs": []
    },
    {
      "cell_type": "code",
      "source": [
        "smiles_dfwH = smiles_dfwH.reset_index()\n",
        "smiles_dfwH = smiles_dfwH.drop('index', axis=1)"
      ],
      "metadata": {
        "id": "HFO_cpAJ_s_d"
      },
      "execution_count": 10,
      "outputs": []
    },
    {
      "cell_type": "code",
      "source": [
        "smiles_dfwH"
      ],
      "metadata": {
        "colab": {
          "base_uri": "https://localhost:8080/",
          "height": 419
        },
        "id": "v5ozN2mY_udm",
        "outputId": "3002dcbc-dee6-4a33-c2ee-446b2fb829e8"
      },
      "execution_count": 11,
      "outputs": [
        {
          "output_type": "execute_result",
          "data": {
            "text/html": [
              "\n",
              "  <div id=\"df-b153cc3e-8beb-4c44-ad3c-47daec6e9f4b\">\n",
              "    <div class=\"colab-df-container\">\n",
              "      <div>\n",
              "<style scoped>\n",
              "    .dataframe tbody tr th:only-of-type {\n",
              "        vertical-align: middle;\n",
              "    }\n",
              "\n",
              "    .dataframe tbody tr th {\n",
              "        vertical-align: top;\n",
              "    }\n",
              "\n",
              "    .dataframe thead th {\n",
              "        text-align: right;\n",
              "    }\n",
              "</style>\n",
              "<table border=\"1\" class=\"dataframe\">\n",
              "  <thead>\n",
              "    <tr style=\"text-align: right;\">\n",
              "      <th></th>\n",
              "      <th>smiles</th>\n",
              "      <th>matrixwH</th>\n",
              "      <th>lenwH</th>\n",
              "    </tr>\n",
              "  </thead>\n",
              "  <tbody>\n",
              "    <tr>\n",
              "      <th>0</th>\n",
              "      <td>C</td>\n",
              "      <td>[[[[[0. 1. 1. 1. 1.]]]], [[[[1. 0. 0. 0. 0.]]]...</td>\n",
              "      <td>5</td>\n",
              "    </tr>\n",
              "    <tr>\n",
              "      <th>1</th>\n",
              "      <td>N</td>\n",
              "      <td>[[[[[0. 1. 1. 1.]]]], [[[[1. 0. 0. 0.]]]], [[[...</td>\n",
              "      <td>4</td>\n",
              "    </tr>\n",
              "    <tr>\n",
              "      <th>2</th>\n",
              "      <td>O</td>\n",
              "      <td>[[[[[0. 1. 1.]]]], [[[[1. 0. 0.]]]], [[[[1. 0....</td>\n",
              "      <td>3</td>\n",
              "    </tr>\n",
              "    <tr>\n",
              "      <th>3</th>\n",
              "      <td>C#C</td>\n",
              "      <td>[[[[[0. 1. 1. 0.]]]], [[[[1. 0. 0. 1.]]]], [[[...</td>\n",
              "      <td>4</td>\n",
              "    </tr>\n",
              "    <tr>\n",
              "      <th>4</th>\n",
              "      <td>C#N</td>\n",
              "      <td>[[[[[0. 1. 1.]]]], [[[[1. 0. 0.]]]], [[[[1. 0....</td>\n",
              "      <td>3</td>\n",
              "    </tr>\n",
              "    <tr>\n",
              "      <th>...</th>\n",
              "      <td>...</td>\n",
              "      <td>...</td>\n",
              "      <td>...</td>\n",
              "    </tr>\n",
              "    <tr>\n",
              "      <th>1939</th>\n",
              "      <td>FC(F)(F)C1(CO1)C#N</td>\n",
              "      <td>[[[[[0. 1. 0. 0. 0. 0. 0. 0. 0. 0. 0.]]]], [[[...</td>\n",
              "      <td>11</td>\n",
              "    </tr>\n",
              "    <tr>\n",
              "      <th>1940</th>\n",
              "      <td>FC(F)(F)C1OC1C#N</td>\n",
              "      <td>[[[[[0. 1. 0. 0. 0. 0. 0. 0. 0. 0. 0.]]]], [[[...</td>\n",
              "      <td>11</td>\n",
              "    </tr>\n",
              "    <tr>\n",
              "      <th>1941</th>\n",
              "      <td>FC(F)(F)CC#CC#N</td>\n",
              "      <td>[[[[[0. 1. 0. 0. 0. 0. 0. 0. 0. 0. 0.]]]], [[[...</td>\n",
              "      <td>11</td>\n",
              "    </tr>\n",
              "    <tr>\n",
              "      <th>1942</th>\n",
              "      <td>FC(F)(F)CC(=O)C#N</td>\n",
              "      <td>[[[[[0. 1. 0. 0. 0. 0. 0. 0. 0. 0. 0.]]]], [[[...</td>\n",
              "      <td>11</td>\n",
              "    </tr>\n",
              "    <tr>\n",
              "      <th>1943</th>\n",
              "      <td>FC(F)(F)CC(F)(F)F</td>\n",
              "      <td>[[[[[0. 1. 0. 0. 0. 0. 0. 0. 0. 0. 0.]]]], [[[...</td>\n",
              "      <td>11</td>\n",
              "    </tr>\n",
              "  </tbody>\n",
              "</table>\n",
              "<p>1944 rows × 3 columns</p>\n",
              "</div>\n",
              "      <button class=\"colab-df-convert\" onclick=\"convertToInteractive('df-b153cc3e-8beb-4c44-ad3c-47daec6e9f4b')\"\n",
              "              title=\"Convert this dataframe to an interactive table.\"\n",
              "              style=\"display:none;\">\n",
              "        \n",
              "  <svg xmlns=\"http://www.w3.org/2000/svg\" height=\"24px\"viewBox=\"0 0 24 24\"\n",
              "       width=\"24px\">\n",
              "    <path d=\"M0 0h24v24H0V0z\" fill=\"none\"/>\n",
              "    <path d=\"M18.56 5.44l.94 2.06.94-2.06 2.06-.94-2.06-.94-.94-2.06-.94 2.06-2.06.94zm-11 1L8.5 8.5l.94-2.06 2.06-.94-2.06-.94L8.5 2.5l-.94 2.06-2.06.94zm10 10l.94 2.06.94-2.06 2.06-.94-2.06-.94-.94-2.06-.94 2.06-2.06.94z\"/><path d=\"M17.41 7.96l-1.37-1.37c-.4-.4-.92-.59-1.43-.59-.52 0-1.04.2-1.43.59L10.3 9.45l-7.72 7.72c-.78.78-.78 2.05 0 2.83L4 21.41c.39.39.9.59 1.41.59.51 0 1.02-.2 1.41-.59l7.78-7.78 2.81-2.81c.8-.78.8-2.07 0-2.86zM5.41 20L4 18.59l7.72-7.72 1.47 1.35L5.41 20z\"/>\n",
              "  </svg>\n",
              "      </button>\n",
              "      \n",
              "  <style>\n",
              "    .colab-df-container {\n",
              "      display:flex;\n",
              "      flex-wrap:wrap;\n",
              "      gap: 12px;\n",
              "    }\n",
              "\n",
              "    .colab-df-convert {\n",
              "      background-color: #E8F0FE;\n",
              "      border: none;\n",
              "      border-radius: 50%;\n",
              "      cursor: pointer;\n",
              "      display: none;\n",
              "      fill: #1967D2;\n",
              "      height: 32px;\n",
              "      padding: 0 0 0 0;\n",
              "      width: 32px;\n",
              "    }\n",
              "\n",
              "    .colab-df-convert:hover {\n",
              "      background-color: #E2EBFA;\n",
              "      box-shadow: 0px 1px 2px rgba(60, 64, 67, 0.3), 0px 1px 3px 1px rgba(60, 64, 67, 0.15);\n",
              "      fill: #174EA6;\n",
              "    }\n",
              "\n",
              "    [theme=dark] .colab-df-convert {\n",
              "      background-color: #3B4455;\n",
              "      fill: #D2E3FC;\n",
              "    }\n",
              "\n",
              "    [theme=dark] .colab-df-convert:hover {\n",
              "      background-color: #434B5C;\n",
              "      box-shadow: 0px 1px 3px 1px rgba(0, 0, 0, 0.15);\n",
              "      filter: drop-shadow(0px 1px 2px rgba(0, 0, 0, 0.3));\n",
              "      fill: #FFFFFF;\n",
              "    }\n",
              "  </style>\n",
              "\n",
              "      <script>\n",
              "        const buttonEl =\n",
              "          document.querySelector('#df-b153cc3e-8beb-4c44-ad3c-47daec6e9f4b button.colab-df-convert');\n",
              "        buttonEl.style.display =\n",
              "          google.colab.kernel.accessAllowed ? 'block' : 'none';\n",
              "\n",
              "        async function convertToInteractive(key) {\n",
              "          const element = document.querySelector('#df-b153cc3e-8beb-4c44-ad3c-47daec6e9f4b');\n",
              "          const dataTable =\n",
              "            await google.colab.kernel.invokeFunction('convertToInteractive',\n",
              "                                                     [key], {});\n",
              "          if (!dataTable) return;\n",
              "\n",
              "          const docLinkHtml = 'Like what you see? Visit the ' +\n",
              "            '<a target=\"_blank\" href=https://colab.research.google.com/notebooks/data_table.ipynb>data table notebook</a>'\n",
              "            + ' to learn more about interactive tables.';\n",
              "          element.innerHTML = '';\n",
              "          dataTable['output_type'] = 'display_data';\n",
              "          await google.colab.output.renderOutput(dataTable, element);\n",
              "          const docLink = document.createElement('div');\n",
              "          docLink.innerHTML = docLinkHtml;\n",
              "          element.appendChild(docLink);\n",
              "        }\n",
              "      </script>\n",
              "    </div>\n",
              "  </div>\n",
              "  "
            ],
            "text/plain": [
              "                  smiles  ... lenwH\n",
              "0                      C  ...     5\n",
              "1                      N  ...     4\n",
              "2                      O  ...     3\n",
              "3                    C#C  ...     4\n",
              "4                    C#N  ...     3\n",
              "...                  ...  ...   ...\n",
              "1939  FC(F)(F)C1(CO1)C#N  ...    11\n",
              "1940    FC(F)(F)C1OC1C#N  ...    11\n",
              "1941     FC(F)(F)CC#CC#N  ...    11\n",
              "1942   FC(F)(F)CC(=O)C#N  ...    11\n",
              "1943   FC(F)(F)CC(F)(F)F  ...    11\n",
              "\n",
              "[1944 rows x 3 columns]"
            ]
          },
          "metadata": {},
          "execution_count": 11
        }
      ]
    },
    {
      "cell_type": "code",
      "source": [
        "smiles_csv_data = smiles_dfwH.to_csv('Graph_QM9_Hydrogens.csv', index = True)"
      ],
      "metadata": {
        "id": "OfVs_YJe_wB_"
      },
      "execution_count": 12,
      "outputs": []
    },
    {
      "cell_type": "code",
      "source": [
        "def print_adj_list(adj):\n",
        "    for i in range(len(adj)):\n",
        "        print(str(i) + \" -> \", end='')\n",
        "        for x in range(len(adj[i])-1):\n",
        "            print(adj[i][x], end=', ')\n",
        "        print(adj[i][-1])"
      ],
      "metadata": {
        "id": "WaMMUXKL_x5s"
      },
      "execution_count": 13,
      "outputs": []
    },
    {
      "cell_type": "code",
      "source": [
        "def print_adj_matrix(matrix):\n",
        "    for i in range(len(matrix)):\n",
        "        for j in range(len(matrix[i])-1):\n",
        "            print(matrix[i][j], end=' ')\n",
        "        print(matrix[i][-1])"
      ],
      "metadata": {
        "id": "xEjgqSRD_32E"
      },
      "execution_count": 14,
      "outputs": []
    },
    {
      "cell_type": "code",
      "source": [
        "def pad_matrix(matrix, buf=11):\n",
        "    for i in range(len(matrix)):\n",
        "        for j in range(buf - len(matrix[i])):\n",
        "            matrix[i].append(-1)\n",
        "    for i in range(buf-len(matrix)):\n",
        "        matrix.append([-1] * buf)\n",
        "    return matrix"
      ],
      "metadata": {
        "id": "KxGQhFcQ_5WO"
      },
      "execution_count": 15,
      "outputs": []
    },
    {
      "cell_type": "code",
      "source": [
        "def adj_matrix_to_list(matrix, buf=11):\n",
        "    matrix = pad_matrix(matrix)\n",
        "    try: adj = np.reshape(matrix, (1, buf**2))\n",
        "    except ValueError: return None\n",
        "    else: return adj"
      ],
      "metadata": {
        "id": "_rZ57GiQ_9jk"
      },
      "execution_count": 121,
      "outputs": []
    },
    {
      "cell_type": "code",
      "source": [
        "graph_hydrogens = pd.read_csv(\"Graph_QM9_Hydrogens.csv\").drop('smiles', axis=1).drop('lenwH', axis=1)"
      ],
      "metadata": {
        "id": "68XpnlWAABa1"
      },
      "execution_count": 21,
      "outputs": []
    },
    {
      "cell_type": "code",
      "source": [
        "graph_hydrogens"
      ],
      "metadata": {
        "colab": {
          "base_uri": "https://localhost:8080/",
          "height": 419
        },
        "id": "qB82em_IEkSw",
        "outputId": "531fb9d1-df76-4ad0-e840-383297d4d882"
      },
      "execution_count": 56,
      "outputs": [
        {
          "output_type": "execute_result",
          "data": {
            "text/html": [
              "\n",
              "  <div id=\"df-73f1b071-7508-4c8d-b9b1-5c384c0df388\">\n",
              "    <div class=\"colab-df-container\">\n",
              "      <div>\n",
              "<style scoped>\n",
              "    .dataframe tbody tr th:only-of-type {\n",
              "        vertical-align: middle;\n",
              "    }\n",
              "\n",
              "    .dataframe tbody tr th {\n",
              "        vertical-align: top;\n",
              "    }\n",
              "\n",
              "    .dataframe thead th {\n",
              "        text-align: right;\n",
              "    }\n",
              "</style>\n",
              "<table border=\"1\" class=\"dataframe\">\n",
              "  <thead>\n",
              "    <tr style=\"text-align: right;\">\n",
              "      <th></th>\n",
              "      <th>Unnamed: 0</th>\n",
              "      <th>matrixwH</th>\n",
              "    </tr>\n",
              "  </thead>\n",
              "  <tbody>\n",
              "    <tr>\n",
              "      <th>0</th>\n",
              "      <td>0</td>\n",
              "      <td>[[0. 1. 1. 1. 1.]\\n [1. 0. 0. 0. 0.]\\n [1. 0. ...</td>\n",
              "    </tr>\n",
              "    <tr>\n",
              "      <th>1</th>\n",
              "      <td>1</td>\n",
              "      <td>[[0. 1. 1. 1.]\\n [1. 0. 0. 0.]\\n [1. 0. 0. 0.]...</td>\n",
              "    </tr>\n",
              "    <tr>\n",
              "      <th>2</th>\n",
              "      <td>2</td>\n",
              "      <td>[[0. 1. 1.]\\n [1. 0. 0.]\\n [1. 0. 0.]]</td>\n",
              "    </tr>\n",
              "    <tr>\n",
              "      <th>3</th>\n",
              "      <td>3</td>\n",
              "      <td>[[0. 1. 1. 0.]\\n [1. 0. 0. 1.]\\n [1. 0. 0. 0.]...</td>\n",
              "    </tr>\n",
              "    <tr>\n",
              "      <th>4</th>\n",
              "      <td>4</td>\n",
              "      <td>[[0. 1. 1.]\\n [1. 0. 0.]\\n [1. 0. 0.]]</td>\n",
              "    </tr>\n",
              "    <tr>\n",
              "      <th>...</th>\n",
              "      <td>...</td>\n",
              "      <td>...</td>\n",
              "    </tr>\n",
              "    <tr>\n",
              "      <th>1939</th>\n",
              "      <td>1939</td>\n",
              "      <td>[[0. 1. 0. 0. 0. 0. 0. 0. 0. 0. 0.]\\n [1. 0. 1...</td>\n",
              "    </tr>\n",
              "    <tr>\n",
              "      <th>1940</th>\n",
              "      <td>1940</td>\n",
              "      <td>[[0. 1. 0. 0. 0. 0. 0. 0. 0. 0. 0.]\\n [1. 0. 1...</td>\n",
              "    </tr>\n",
              "    <tr>\n",
              "      <th>1941</th>\n",
              "      <td>1941</td>\n",
              "      <td>[[0. 1. 0. 0. 0. 0. 0. 0. 0. 0. 0.]\\n [1. 0. 1...</td>\n",
              "    </tr>\n",
              "    <tr>\n",
              "      <th>1942</th>\n",
              "      <td>1942</td>\n",
              "      <td>[[0. 1. 0. 0. 0. 0. 0. 0. 0. 0. 0.]\\n [1. 0. 1...</td>\n",
              "    </tr>\n",
              "    <tr>\n",
              "      <th>1943</th>\n",
              "      <td>1943</td>\n",
              "      <td>[[0. 1. 0. 0. 0. 0. 0. 0. 0. 0. 0.]\\n [1. 0. 1...</td>\n",
              "    </tr>\n",
              "  </tbody>\n",
              "</table>\n",
              "<p>1944 rows × 2 columns</p>\n",
              "</div>\n",
              "      <button class=\"colab-df-convert\" onclick=\"convertToInteractive('df-73f1b071-7508-4c8d-b9b1-5c384c0df388')\"\n",
              "              title=\"Convert this dataframe to an interactive table.\"\n",
              "              style=\"display:none;\">\n",
              "        \n",
              "  <svg xmlns=\"http://www.w3.org/2000/svg\" height=\"24px\"viewBox=\"0 0 24 24\"\n",
              "       width=\"24px\">\n",
              "    <path d=\"M0 0h24v24H0V0z\" fill=\"none\"/>\n",
              "    <path d=\"M18.56 5.44l.94 2.06.94-2.06 2.06-.94-2.06-.94-.94-2.06-.94 2.06-2.06.94zm-11 1L8.5 8.5l.94-2.06 2.06-.94-2.06-.94L8.5 2.5l-.94 2.06-2.06.94zm10 10l.94 2.06.94-2.06 2.06-.94-2.06-.94-.94-2.06-.94 2.06-2.06.94z\"/><path d=\"M17.41 7.96l-1.37-1.37c-.4-.4-.92-.59-1.43-.59-.52 0-1.04.2-1.43.59L10.3 9.45l-7.72 7.72c-.78.78-.78 2.05 0 2.83L4 21.41c.39.39.9.59 1.41.59.51 0 1.02-.2 1.41-.59l7.78-7.78 2.81-2.81c.8-.78.8-2.07 0-2.86zM5.41 20L4 18.59l7.72-7.72 1.47 1.35L5.41 20z\"/>\n",
              "  </svg>\n",
              "      </button>\n",
              "      \n",
              "  <style>\n",
              "    .colab-df-container {\n",
              "      display:flex;\n",
              "      flex-wrap:wrap;\n",
              "      gap: 12px;\n",
              "    }\n",
              "\n",
              "    .colab-df-convert {\n",
              "      background-color: #E8F0FE;\n",
              "      border: none;\n",
              "      border-radius: 50%;\n",
              "      cursor: pointer;\n",
              "      display: none;\n",
              "      fill: #1967D2;\n",
              "      height: 32px;\n",
              "      padding: 0 0 0 0;\n",
              "      width: 32px;\n",
              "    }\n",
              "\n",
              "    .colab-df-convert:hover {\n",
              "      background-color: #E2EBFA;\n",
              "      box-shadow: 0px 1px 2px rgba(60, 64, 67, 0.3), 0px 1px 3px 1px rgba(60, 64, 67, 0.15);\n",
              "      fill: #174EA6;\n",
              "    }\n",
              "\n",
              "    [theme=dark] .colab-df-convert {\n",
              "      background-color: #3B4455;\n",
              "      fill: #D2E3FC;\n",
              "    }\n",
              "\n",
              "    [theme=dark] .colab-df-convert:hover {\n",
              "      background-color: #434B5C;\n",
              "      box-shadow: 0px 1px 3px 1px rgba(0, 0, 0, 0.15);\n",
              "      filter: drop-shadow(0px 1px 2px rgba(0, 0, 0, 0.3));\n",
              "      fill: #FFFFFF;\n",
              "    }\n",
              "  </style>\n",
              "\n",
              "      <script>\n",
              "        const buttonEl =\n",
              "          document.querySelector('#df-73f1b071-7508-4c8d-b9b1-5c384c0df388 button.colab-df-convert');\n",
              "        buttonEl.style.display =\n",
              "          google.colab.kernel.accessAllowed ? 'block' : 'none';\n",
              "\n",
              "        async function convertToInteractive(key) {\n",
              "          const element = document.querySelector('#df-73f1b071-7508-4c8d-b9b1-5c384c0df388');\n",
              "          const dataTable =\n",
              "            await google.colab.kernel.invokeFunction('convertToInteractive',\n",
              "                                                     [key], {});\n",
              "          if (!dataTable) return;\n",
              "\n",
              "          const docLinkHtml = 'Like what you see? Visit the ' +\n",
              "            '<a target=\"_blank\" href=https://colab.research.google.com/notebooks/data_table.ipynb>data table notebook</a>'\n",
              "            + ' to learn more about interactive tables.';\n",
              "          element.innerHTML = '';\n",
              "          dataTable['output_type'] = 'display_data';\n",
              "          await google.colab.output.renderOutput(dataTable, element);\n",
              "          const docLink = document.createElement('div');\n",
              "          docLink.innerHTML = docLinkHtml;\n",
              "          element.appendChild(docLink);\n",
              "        }\n",
              "      </script>\n",
              "    </div>\n",
              "  </div>\n",
              "  "
            ],
            "text/plain": [
              "      Unnamed: 0                                           matrixwH\n",
              "0              0  [[0. 1. 1. 1. 1.]\\n [1. 0. 0. 0. 0.]\\n [1. 0. ...\n",
              "1              1  [[0. 1. 1. 1.]\\n [1. 0. 0. 0.]\\n [1. 0. 0. 0.]...\n",
              "2              2             [[0. 1. 1.]\\n [1. 0. 0.]\\n [1. 0. 0.]]\n",
              "3              3  [[0. 1. 1. 0.]\\n [1. 0. 0. 1.]\\n [1. 0. 0. 0.]...\n",
              "4              4             [[0. 1. 1.]\\n [1. 0. 0.]\\n [1. 0. 0.]]\n",
              "...          ...                                                ...\n",
              "1939        1939  [[0. 1. 0. 0. 0. 0. 0. 0. 0. 0. 0.]\\n [1. 0. 1...\n",
              "1940        1940  [[0. 1. 0. 0. 0. 0. 0. 0. 0. 0. 0.]\\n [1. 0. 1...\n",
              "1941        1941  [[0. 1. 0. 0. 0. 0. 0. 0. 0. 0. 0.]\\n [1. 0. 1...\n",
              "1942        1942  [[0. 1. 0. 0. 0. 0. 0. 0. 0. 0. 0.]\\n [1. 0. 1...\n",
              "1943        1943  [[0. 1. 0. 0. 0. 0. 0. 0. 0. 0. 0.]\\n [1. 0. 1...\n",
              "\n",
              "[1944 rows x 2 columns]"
            ]
          },
          "metadata": {},
          "execution_count": 56
        }
      ]
    },
    {
      "cell_type": "code",
      "source": [
        "def str_to_adj_matrix(tmp):\n",
        "    tmp = tmp.replace(\"\\n\", \",\").replace(\".\", \"\")\n",
        "    tmp = list(tmp)\n",
        "    tmp = list(filter(lambda x: x not in ['[', ']', ' ', ','], tmp))\n",
        "    out = []\n",
        "    idx = 0\n",
        "    for i in range(int(sqrt(len(tmp)))):\n",
        "        x = []\n",
        "        for j in range(int(sqrt(len(tmp)))):\n",
        "            x.append(int(tmp[idx]))\n",
        "            idx += 1\n",
        "        out.append(x)\n",
        "    return out"
      ],
      "metadata": {
        "id": "nebU9JqfHjYV"
      },
      "execution_count": 105,
      "outputs": []
    },
    {
      "cell_type": "code",
      "source": [
        "import sys\n",
        "sys.stdout = open(\"converted_mols.txt\", \"w\")"
      ],
      "metadata": {
        "id": "I-Y7D67KIgTq"
      },
      "execution_count": 124,
      "outputs": []
    },
    {
      "cell_type": "code",
      "source": [
        "for i in range(len(graph_hydrogens)):\n",
        "    print(adj_matrix_to_list(str_to_adj_matrix(graph_hydrogens['matrixwH'][i])))"
      ],
      "metadata": {
        "id": "PMwplqhiH1c8"
      },
      "execution_count": 125,
      "outputs": []
    }
  ]
}