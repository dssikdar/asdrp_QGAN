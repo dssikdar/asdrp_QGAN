{
 "cells": [
  {
   "cell_type": "markdown",
   "metadata": {
    "id": "yrwEnBIarR8X"
   },
   "source": [
    "# Imports"
   ]
  },
  {
   "cell_type": "code",
   "execution_count": 1,
   "metadata": {
    "id": "D6-GrrkpP_1Q"
   },
   "outputs": [],
   "source": [
    "import math\n",
    "import random\n",
    "import numpy as np\n",
    "import pandas as pd\n",
    "import matplotlib.pyplot as plt\n",
    "import matplotlib.gridspec as gridspec\n",
    "import pennylane as qml\n",
    "import glob\n",
    "\n",
    "# Pytorch imports\n",
    "import torch\n",
    "import torch.nn as nn\n",
    "import torch.optim as optim\n",
    "import torchvision\n",
    "import torchvision.transforms as transforms\n",
    "from torch.utils.data import Dataset, DataLoader"
   ]
  },
  {
   "cell_type": "code",
   "execution_count": 2,
   "metadata": {},
   "outputs": [
    {
     "data": {
      "text/plain": [
       "'0.19.2'"
      ]
     },
     "execution_count": 2,
     "metadata": {},
     "output_type": "execute_result"
    }
   ],
   "source": [
    "import qiskit\n",
    "qiskit.__version__"
   ]
  },
  {
   "cell_type": "code",
   "execution_count": 4,
   "metadata": {
    "colab": {
     "base_uri": "https://localhost:8080/"
    },
    "id": "d3uaAKoLX0pF",
    "outputId": "26b1027b-7825-4ba3-c959-670afcd897ab"
   },
   "outputs": [],
   "source": [
    "from qiskit import Aer\n",
    "import pennylane_qiskit"
   ]
  },
  {
   "cell_type": "markdown",
   "metadata": {
    "id": "SvnFPDmqrXOo"
   },
   "source": [
    "# Dataset Loader"
   ]
  },
  {
   "cell_type": "code",
   "execution_count": 5,
   "metadata": {
    "id": "D01hEXJ0rBNR"
   },
   "outputs": [],
   "source": [
    "class MoleculesLoader(torch.utils.data.Dataset):\n",
    "    def __init__(self, csv_file: str, transform=None) -> None:\n",
    "        self.csv = csv_file\n",
    "        self.atom_dict = {\"H\" : 1, \"C\" : 2, \"O\" : 3, \"N\" : 4}\n",
    "        self.transform = transform\n",
    "        self.df = self.process()\n",
    "        self._normalize()\n",
    "\n",
    "    def __len__(self) -> int:\n",
    "        return len(self.df)\n",
    "\n",
    "    def __getitem__(self, idx) -> list:\n",
    "        if torch.is_tensor(idx): idx = idx.tolist()\n",
    "        return self.df[idx]\n",
    "\n",
    "    def process(self) -> None:\n",
    "        tmp_df = self.csv #not actually csv file but array\n",
    "        df = [None] * len(tmp_df)\n",
    "        for i in range(len(tmp_df)):\n",
    "            mol_df = pd.read_csv(tmp_df[i])\n",
    "            tmp_vec = [None] * len(mol_df)\n",
    "            for j in range(len(mol_df)):\n",
    "                data = mol_df.iloc[j]\n",
    "                atom, x, y, z = data[\"atom\"], data[\"x\"], data[\"y\"], data[\"z\"]\n",
    "                tmp_vec[j] = (self.atom_dict[atom], x, y, z)\n",
    "            df[i] = tmp_vec\n",
    "        return df\n",
    "\n",
    "    def _normalize(self):\n",
    "        maxlen = max([len(x) for x in self.df])\n",
    "        self.size = maxlen\n",
    "        for i in range(len(self.df)):\n",
    "            while len(self.df[i]) != maxlen:\n",
    "                self.df[i].append([0, 0.0, 0.0, 0.0])"
   ]
  },
  {
   "cell_type": "code",
   "execution_count": 6,
   "metadata": {
    "colab": {
     "base_uri": "https://localhost:8080/"
    },
    "id": "ZJjK-tq0hOmd",
    "outputId": "c604d102-d871-497f-e7db-516dd65c45f1",
    "scrolled": true
   },
   "outputs": [
    {
     "name": "stdout",
     "output_type": "stream",
     "text": [
      "30\n"
     ]
    }
   ],
   "source": [
    "csv_list = list()\n",
    "for filename in glob.glob(\"C:/Users/Diptanshu/Desktop/ASDRP - Quantum/QGAN/xyz_dataset/Chem/Test/*.csv\"):\n",
    "    csv_list.append(filename)\n",
    "print(len(csv_list))"
   ]
  },
  {
   "cell_type": "code",
   "execution_count": 7,
   "metadata": {
    "id": "fgeRhbKuj-Dq"
   },
   "outputs": [],
   "source": [
    "Loaded = MoleculesLoader(csv_list)"
   ]
  },
  {
   "cell_type": "code",
   "execution_count": 8,
   "metadata": {
    "colab": {
     "base_uri": "https://localhost:8080/"
    },
    "id": "JSA4Pp32ix0v",
    "outputId": "8f359477-b319-4b6b-ac30-a3abb794b76b"
   },
   "outputs": [
    {
     "data": {
      "text/plain": [
       "[(2, -0.0126981359, 1.0858041578, 0.0080009957999999),\n",
       " (1, 0.002150416, -0.0060313176, 0.0019761204),\n",
       " (1, 1.0117308433, 1.4637511618, 0.0002765748),\n",
       " (1, -0.540815069, 1.4475266138, -0.8766437152),\n",
       " (1, -0.5238136345000001, 1.4379326443, 0.9063972942),\n",
       " [0, 0.0, 0.0, 0.0],\n",
       " [0, 0.0, 0.0, 0.0],\n",
       " [0, 0.0, 0.0, 0.0],\n",
       " [0, 0.0, 0.0, 0.0],\n",
       " [0, 0.0, 0.0, 0.0],\n",
       " [0, 0.0, 0.0, 0.0],\n",
       " [0, 0.0, 0.0, 0.0],\n",
       " [0, 0.0, 0.0, 0.0],\n",
       " [0, 0.0, 0.0, 0.0]]"
      ]
     },
     "execution_count": 8,
     "metadata": {},
     "output_type": "execute_result"
    }
   ],
   "source": [
    "Loaded.df[0]"
   ]
  },
  {
   "cell_type": "code",
   "execution_count": 9,
   "metadata": {
    "colab": {
     "base_uri": "https://localhost:8080/"
    },
    "id": "Wwt1ephVlSfo",
    "outputId": "c07dd533-2774-4a65-fa31-c24c469c542d"
   },
   "outputs": [
    {
     "data": {
      "text/plain": [
       "14"
      ]
     },
     "execution_count": 9,
     "metadata": {},
     "output_type": "execute_result"
    }
   ],
   "source": [
    "Loaded.size"
   ]
  },
  {
   "cell_type": "markdown",
   "metadata": {
    "id": "VMeo8twZrh-3"
   },
   "source": [
    "# Generator"
   ]
  },
  {
   "cell_type": "code",
   "execution_count": 282,
   "metadata": {
    "id": "iJ8hXeO6P3SD"
   },
   "outputs": [
    {
     "name": "stdout",
     "output_type": "stream",
     "text": [
      "Total number of qubits per atom: 23\n"
     ]
    }
   ],
   "source": [
    "num_of_atoms = 1\n",
    "bits_per_atom = 2\n",
    "bits_per_coord = 6\n",
    "sign_bit = 1\n",
    "n_qubits = num_of_atoms*(bits_per_atom+3*(sign_bit+bits_per_coord))\n",
    "\n",
    "print(f\"Total number of qubits per atom: {int(num_of_total_bits/num_of_atoms)}\")\n",
    "\n",
    "q_depth = 1  # Depth of the parameterised quantum circuit"
   ]
  },
  {
   "cell_type": "code",
   "execution_count": 283,
   "metadata": {
    "id": "Rk1vWlruQBGU"
   },
   "outputs": [],
   "source": [
    "device = torch.device(\"cuda:0\" if torch.cuda.is_available() else \"cpu\") #NTS: use GPU runtime\n",
    "dev = qml.device('default.qubit', wires=n_qubits)"
   ]
  },
  {
   "cell_type": "code",
   "execution_count": 284,
   "metadata": {
    "colab": {
     "base_uri": "https://localhost:8080/"
    },
    "id": "GAp9ogpPj9TC",
    "outputId": "72ffcde1-999b-4c18-c4b7-abc85e27dc8d"
   },
   "outputs": [
    {
     "data": {
      "text/plain": [
       "device(type='cpu')"
      ]
     },
     "execution_count": 284,
     "metadata": {},
     "output_type": "execute_result"
    }
   ],
   "source": [
    "device"
   ]
  },
  {
   "cell_type": "markdown",
   "metadata": {
    "id": "hovKh9GVuUCI"
   },
   "source": [
    "Uncomment the comments to add more complexity and/or parametrized gates"
   ]
  },
  {
   "cell_type": "code",
   "execution_count": 285,
   "metadata": {
    "id": "frNn_PvqQE97"
   },
   "outputs": [],
   "source": [
    "@qml.qnode(dev, interface=\"torch\", diff_method=\"parameter-shift\")\n",
    "def quantum_circuit(noise, weights):\n",
    "    weights = weights.reshape(q_depth, n_qubits)\n",
    "    \n",
    "    # Superposition and Entanglement\n",
    "    for i in range(n_qubits):\n",
    "        qml.Hadamard(wires=i)\n",
    "        qml.CNOT(wires=[i, (i+1) % n_qubits])\n",
    "\n",
    "    # Initialise latent vectors using noise\n",
    "    for i in range(n_qubits):\n",
    "        qml.RY(noise[i], wires=i)\n",
    "\n",
    "    # Repeated layer\n",
    "    \"\"\"\n",
    "    for i in range(q_depth):\n",
    "        # Parameterised layer\n",
    "        for y in range(n_qubits):\n",
    "            qml.RY(weights[i][y], wires=y)\n",
    "            # Optional: more parameters\n",
    "            #qml.RX(weights[i][y], wires=y)\n",
    "            #qml.RZ(weights[i][y], wires=y)\n",
    "\n",
    "        # Control Z gates\n",
    "        for y in range(n_qubits - 1):\n",
    "            qml.CZ(wires=[y, y + 1])\n",
    "    \"\"\"\n",
    "\n",
    "    # Return measurements on the Z basis\n",
    "    return [qml.expval(qml.PauliZ(i)) for i in range(n_qubits)]"
   ]
  },
  {
   "cell_type": "code",
   "execution_count": 286,
   "metadata": {
    "id": "YWwnUutuQpxj"
   },
   "outputs": [],
   "source": [
    "# Returns a list of 1 and 0 based on probabilities\n",
    "def partial_measure(noise, weights):\n",
    "    probs = quantum_circuit(noise, weights)\n",
    "    bits = [\"0\" if x < 0 else \"1\" for x in probs]\n",
    "    return bits"
   ]
  },
  {
   "cell_type": "code",
   "execution_count": 287,
   "metadata": {
    "id": "D8T4A6QYhtOL"
   },
   "outputs": [],
   "source": [
    "tmp_noise = torch.rand(Loaded.size, n_qubits, device=device) * math.pi / 2"
   ]
  },
  {
   "cell_type": "code",
   "execution_count": 288,
   "metadata": {
    "colab": {
     "base_uri": "https://localhost:8080/"
    },
    "id": "bkdgs92gjFyO",
    "outputId": "4c75ec9e-44ea-4b5f-af9a-d13ae46d9e51"
   },
   "outputs": [
    {
     "data": {
      "text/plain": [
       "tensor([0.0549, 1.5541, 0.5440, 0.7885, 1.4404, 1.2232, 1.5673, 0.4475, 0.5992,\n",
       "        1.3634, 0.8145, 1.3847, 1.0273, 1.0234, 0.3367, 0.4960, 1.3555, 1.4679,\n",
       "        0.7767, 0.8303, 0.9031, 1.1445, 1.2700])"
      ]
     },
     "execution_count": 288,
     "metadata": {},
     "output_type": "execute_result"
    }
   ],
   "source": [
    "tmp_noise[0]"
   ]
  },
  {
   "cell_type": "code",
   "execution_count": 289,
   "metadata": {
    "id": "MHDoJ5Tahwuu"
   },
   "outputs": [],
   "source": [
    "genParams = nn.ParameterList([nn.Parameter(torch.rand(q_depth * n_qubits), requires_grad=True)])"
   ]
  },
  {
   "cell_type": "code",
   "execution_count": 290,
   "metadata": {
    "colab": {
     "base_uri": "https://localhost:8080/"
    },
    "id": "JuOoyFkXiBhi",
    "outputId": "30f4acd0-78f5-4ad3-8bba-5daadb518f34"
   },
   "outputs": [
    {
     "data": {
      "text/plain": [
       "Parameter containing:\n",
       "tensor([0.4509, 0.4174, 0.9322, 0.5253, 0.4753, 0.9328, 0.8727, 0.0335, 0.5744,\n",
       "        0.5046, 0.3768, 0.0931, 0.5962, 0.3038, 0.5423, 0.4647, 0.4712, 0.1290,\n",
       "        0.5731, 0.5711, 0.1924, 0.1600, 0.8737], requires_grad=True)"
      ]
     },
     "execution_count": 290,
     "metadata": {},
     "output_type": "execute_result"
    }
   ],
   "source": [
    "genParams[0]"
   ]
  },
  {
   "cell_type": "code",
   "execution_count": 291,
   "metadata": {
    "id": "jYmUMcqGiIjz"
   },
   "outputs": [],
   "source": [
    "probs = partial_measure(tmp_noise[0], genParams[0])"
   ]
  },
  {
   "cell_type": "code",
   "execution_count": 292,
   "metadata": {
    "colab": {
     "base_uri": "https://localhost:8080/",
     "height": 57
    },
    "id": "vNBlpFLckVkF",
    "outputId": "d9ba357d-1ab9-4507-9061-747701a2ae19"
   },
   "outputs": [
    {
     "data": {
      "text/plain": [
       "'00011010111100011101101'"
      ]
     },
     "execution_count": 292,
     "metadata": {},
     "output_type": "execute_result"
    }
   ],
   "source": [
    "str_probs = \"\"\n",
    "str_probs.join(probs)"
   ]
  },
  {
   "cell_type": "code",
   "execution_count": 293,
   "metadata": {
    "id": "P9jWLTl2Qx1v"
   },
   "outputs": [],
   "source": [
    "class QuantumGenerator(nn.Module):\n",
    "    \"\"\"Quantum generator class\"\"\"\n",
    "\n",
    "    def __init__(self, q_delta=1):\n",
    "        \"\"\"\n",
    "        Args:\n",
    "            q_delta (float, optional): Spread of the random distribution for parameter initialisation.\n",
    "        \"\"\"\n",
    "\n",
    "        super().__init__()\n",
    "\n",
    "        # List of quantum parameters initialized with random values between 0 and 1 \n",
    "        # nn.ParameterList = list of nn.Parameters that has random numbers between 0 to 1 in a tensor of size q_depth*n_qubits\n",
    "        self.q_params = nn.ParameterList([nn.Parameter(q_delta * torch.rand(q_depth * n_qubits), requires_grad=True)])\n",
    "\n",
    "    def forward(self, x):\n",
    "        molecules = []\n",
    "        for params in self.q_params:\n",
    "            for elem in x:\n",
    "                q_probs = partial_measure(elem, params) # q_probs is a list of 1's and 0's\n",
    "                str_probs = \"\".join(q_probs)\n",
    "                molecules.append(str_probs)\n",
    "        return molecules"
   ]
  },
  {
   "cell_type": "code",
   "execution_count": 294,
   "metadata": {
    "id": "B_Jdb0s2RjnE"
   },
   "outputs": [],
   "source": [
    "lrG = 0.3  # Learning rate for the generator\n",
    "lrD = 0.01  # Learning rate for the discriminator\n",
    "num_iter = 5  # Number of training iterations"
   ]
  },
  {
   "cell_type": "code",
   "execution_count": 296,
   "metadata": {
    "id": "j8F014hpkfK-",
    "scrolled": true
   },
   "outputs": [],
   "source": [
    "# Trial Only\n",
    "\n",
    "# tmp_gen = QuantumGenerator().to(device)\n",
    "# tmp_out = tmp_gen.forward(tmp_noise)\n",
    "# tmp_out, len(tmp_out)"
   ]
  },
  {
   "cell_type": "markdown",
   "metadata": {
    "id": "8EiBZIlEnx7F"
   },
   "source": [
    "# Post Generator / Pre Discriminator Processing"
   ]
  },
  {
   "cell_type": "code",
   "execution_count": 297,
   "metadata": {
    "id": "UQSx1YC1uXJY"
   },
   "outputs": [],
   "source": [
    "class Processing(object):\n",
    "    def __init__(self, no_atom_bits: int, no_coord_bits: int) -> None:\n",
    "        self.pi = np.pi\n",
    "        self.atom_dict = {\"00\" : \"H\", \"01\" : \"C\", \"10\" : \"O\", \"11\" : \"N\"}\n",
    "        self.num_of_atom_bits = no_atom_bits\n",
    "        self.num_of_coord_bits = no_coord_bits\n",
    "        self.num_of_total_bits = self.num_of_atom_bits + 3 * self.num_of_coord_bits\n",
    "\n",
    "    def binaryToDecimal(self, binary):\n",
    "        binary1 = binary\n",
    "        decimal, i, n = 0, 0, 0\n",
    "        while(binary != 0):\n",
    "            dec = binary % 10\n",
    "            decimal = decimal + dec * pow(2, i)\n",
    "            binary = binary//10\n",
    "            i += 1\n",
    "        return decimal \n",
    "        \n",
    "    def whichAtom(self, atom: str) -> str:\n",
    "        try: x = self.atom_dict[atom]\n",
    "        except KeyError: raise Exception(f\"Key: {atom} is not in atom_dict!\")\n",
    "        else: return x \n",
    "\n",
    "    def calcDistance(self, coord_dist, num_of_qubits: int, sign) -> float:\n",
    "        distance = (self.binaryToDecimal(coord_dist))/(2**(num_of_qubits-2))\n",
    "        if sign == 1:\n",
    "            distance *= -1\n",
    "        return distance\n",
    "\n",
    "    def atomsAndCoordinates(self, generatedVector: str) -> list:\n",
    "        genVec = generatedVector\n",
    "        \n",
    "        interval = bits_per_atom+3*(sign_bit+bits_per_coord)\n",
    "        max_molecule_length = 5\n",
    "        \n",
    "        for char_index in range(0, len(genVec), interval):\n",
    "            substring = genVec[char_index:char_index+interval]\n",
    "            \n",
    "            length = len(substring)\n",
    "\n",
    "            sign_x = 1 if (int(substring[length-3]) == 1) else 0\n",
    "            sign_y = 1 if (int(substring[length-2]) == 1) else 0\n",
    "            sign_z = 1 if (int(substring[length-1]) == 1) else 0\n",
    "\n",
    "            atom_bit_str = substring[0:bits_per_atom]\n",
    "            x_coord = int(substring[bits_per_atom:bits_per_atom+bits_per_coord])\n",
    "            y_coord = int(substring[bits_per_atom+bits_per_coord:bits_per_atom+2*bits_per_coord])\n",
    "            z_coord = int(substring[bits_per_atom+2*bits_per_coord:bits_per_atom+3*bits_per_coord])\n",
    "            \n",
    "            atom = self.whichAtom(atom_bit_str)\n",
    "            x_dist = self.calcDistance(x_coord, bits_per_coord, sign_x)\n",
    "            y_dist = self.calcDistance(y_coord, bits_per_coord, sign_y)\n",
    "            z_dist = self.calcDistance(z_coord, bits_per_coord, sign_z)\n",
    "            \n",
    "        return [ord(atom), x_dist, y_dist, z_dist]"
   ]
  },
  {
   "cell_type": "code",
   "execution_count": 298,
   "metadata": {
    "id": "OIuCMQA9k27H"
   },
   "outputs": [],
   "source": [
    "## Trial only \n",
    "\n",
    "#PRO = Processing(bits_per_atom, bits_per_coord)\n",
    "#tmp_pro = [PRO.atomsAndCoordinates(out) for out in tmp_out]\n",
    "#tmp_pro = torch.tensor(tmp_pro)\n",
    "#tmp_pro"
   ]
  },
  {
   "cell_type": "markdown",
   "metadata": {
    "id": "H6mck8j8rcb0"
   },
   "source": [
    "# Discriminator\n",
    "\n",
    "<ul> \n",
    "    <li> Task Deadline: **COMPLETED**  </li> \n",
    "    <li> TODO: Check how MolGAN people loaded the molecules ✅   </li> \n",
    "    <li> UPDATE: Added options to save and load model   </li> \n",
    "    <li> UPDATE: Changed model architecture   </li> \n",
    "    <li> FIXED: `TypeError: linear(): argument 'input' (position 1) must be Tensor, not list` </li> \n",
    "    <li> PROBLEM: `torch.tensor()` doesn't work on lists with more than one `dtype`   </li> \n",
    "    <li> FIXED: ⬆️ use ASCII value of string `(dtype=int)`.   </li> \n",
    "    <li> UPDATE: Fixed issues with Doubles and Floats    </li> \n",
    "    <li> UPDATE: Add capabilities for dynamic-sized inputs </li> \n",
    "</ul>"
   ]
  },
  {
   "cell_type": "code",
   "execution_count": 312,
   "metadata": {
    "id": "v7VvDJqLuub2"
   },
   "outputs": [],
   "source": [
    "class Discriminator(nn.Module):\n",
    "    def __init__(self, data_shape):\n",
    "        super(Discriminator, self).__init__()\n",
    "        self.data_shape = data_shape\n",
    "\n",
    "        self.model = nn.Sequential(\n",
    "            nn.Linear(int(np.prod(self.data_shape)), 20),\n",
    "            nn.Tanh(),\n",
    "            nn.Linear(20, 10),\n",
    "            nn.Tanh(),\n",
    "            nn.Linear(10, 1),\n",
    "        )\n",
    "\n",
    "    def forward(self, mol):\n",
    "        validity = self.model(mol.float())\n",
    "        return validity\n",
    "\n",
    "    def save(self, path):\n",
    "        save_dict = {\n",
    "            'model': self.model.state_dict(),\n",
    "            'data_shape': self.data_shape,\n",
    "        }\n",
    "        torch.save(save_dict, path)\n",
    "        return\n",
    "\n",
    "    @staticmethod\n",
    "    def load(path):\n",
    "        save_dict = torch.load(path)\n",
    "        D = Discriminator(save_dict['data_shape'])\n",
    "        D.model.load_state_dict(save_dict[\"model\"])\n",
    "\n",
    "        return D"
   ]
  },
  {
   "cell_type": "code",
   "execution_count": 313,
   "metadata": {
    "colab": {
     "base_uri": "https://localhost:8080/"
    },
    "id": "jpXMFtq3odwR",
    "outputId": "ef8dcb8d-a343-4197-fc67-bc311a826777"
   },
   "outputs": [
    {
     "data": {
      "text/plain": [
       "14"
      ]
     },
     "execution_count": 313,
     "metadata": {},
     "output_type": "execute_result"
    }
   ],
   "source": [
    "Loaded.size"
   ]
  },
  {
   "cell_type": "code",
   "execution_count": 314,
   "metadata": {
    "id": "1PeAN_nSmq3C"
   },
   "outputs": [],
   "source": [
    "D = Discriminator(data_shape=(1, 4))"
   ]
  },
  {
   "cell_type": "code",
   "execution_count": 315,
   "metadata": {
    "colab": {
     "base_uri": "https://localhost:8080/"
    },
    "id": "eYE2-FIbmzu6",
    "outputId": "bb84ca7d-d807-4cc0-fe0b-3a9df76cd693"
   },
   "outputs": [
    {
     "data": {
      "text/plain": [
       "Sequential(\n",
       "  (0): Linear(in_features=4, out_features=20, bias=True)\n",
       "  (1): Tanh()\n",
       "  (2): Linear(in_features=20, out_features=10, bias=True)\n",
       "  (3): Tanh()\n",
       "  (4): Linear(in_features=10, out_features=1, bias=True)\n",
       ")"
      ]
     },
     "execution_count": 315,
     "metadata": {},
     "output_type": "execute_result"
    }
   ],
   "source": [
    "D.model"
   ]
  },
  {
   "cell_type": "code",
   "execution_count": 316,
   "metadata": {
    "colab": {
     "base_uri": "https://localhost:8080/"
    },
    "id": "cS9QoujgP0cR",
    "outputId": "fd0e999a-320b-4115-d10a-891e40a0e1e4"
   },
   "outputs": [
    {
     "data": {
      "text/plain": [
       "tensor([[0.5235],\n",
       "        [0.5116],\n",
       "        [0.5370],\n",
       "        [0.5334],\n",
       "        [0.5394],\n",
       "        [0.5300],\n",
       "        [0.5182],\n",
       "        [0.5449],\n",
       "        [0.5119],\n",
       "        [0.5204],\n",
       "        [0.5174],\n",
       "        [0.5211],\n",
       "        [0.5452],\n",
       "        [0.5151]], grad_fn=<AddmmBackward0>)"
      ]
     },
     "execution_count": 316,
     "metadata": {},
     "output_type": "execute_result"
    }
   ],
   "source": [
    "D.forward(tmp_pro)"
   ]
  },
  {
   "cell_type": "markdown",
   "metadata": {
    "id": "PIJ5O-f5rqLd"
   },
   "source": [
    "## Training Phase"
   ]
  },
  {
   "cell_type": "code",
   "execution_count": 317,
   "metadata": {
    "id": "D5j-6lIMRW_g"
   },
   "outputs": [],
   "source": [
    "discriminator = Discriminator(data_shape=(1, 4)).to(device)\n",
    "generator = QuantumGenerator().to(device)\n",
    "processor = Processing(bits_per_atom, bits_per_coord)"
   ]
  },
  {
   "cell_type": "code",
   "execution_count": 318,
   "metadata": {
    "id": "ckRMx_FFhtJJ"
   },
   "outputs": [],
   "source": [
    "criterion = nn.BCEWithLogitsLoss()\n",
    "\n",
    "# Optimisers\n",
    "optD = optim.Adam(discriminator.parameters(), lr=lrD)\n",
    "optG = optim.Adam(generator.parameters(), lr=lrG)\n",
    "\n",
    "batch_size = 14\n",
    "\n",
    "real_labels = torch.full((batch_size,), 1.0, dtype=torch.float, device=device)\n",
    "fake_labels = torch.full((batch_size,), 0.0, dtype=torch.float, device=device)\n",
    "\n",
    "# Fixed noise allows us to visually track the generated MOLECULES throughout training\n",
    "fixed_noise = torch.rand(Loaded.size, n_qubits, device=device) * math.pi / 2\n",
    "\n",
    "# Collect generator's molecules\n",
    "results = []"
   ]
  },
  {
   "cell_type": "code",
   "execution_count": 319,
   "metadata": {
    "colab": {
     "base_uri": "https://localhost:8080/"
    },
    "id": "P_DbJkwDhyMc",
    "outputId": "967aa112-3450-4cd6-9352-eea69f44152a"
   },
   "outputs": [
    {
     "name": "stdout",
     "output_type": "stream",
     "text": [
      "tensor([1., 1., 1., 1., 1., 1., 1., 1., 1., 1., 1., 1., 1., 1.]) \n",
      " tensor([0., 0., 0., 0., 0., 0., 0., 0., 0., 0., 0., 0., 0., 0.])\n"
     ]
    }
   ],
   "source": [
    "print(real_labels,'\\n',fake_labels)"
   ]
  },
  {
   "cell_type": "code",
   "execution_count": 320,
   "metadata": {
    "colab": {
     "base_uri": "https://localhost:8080/"
    },
    "id": "qOcqh9LEh2sz",
    "outputId": "87558e2a-d9f6-45b0-9a2f-9ad662832958"
   },
   "outputs": [
    {
     "data": {
      "text/plain": [
       "torch.Size([14, 23])"
      ]
     },
     "execution_count": 320,
     "metadata": {},
     "output_type": "execute_result"
    }
   ],
   "source": [
    "fixed_noise.shape"
   ]
  },
  {
   "cell_type": "code",
   "execution_count": 321,
   "metadata": {
    "id": "3TVGDB9uh4NR"
   },
   "outputs": [],
   "source": [
    "#x = generator.forward(fixed_noise)"
   ]
  },
  {
   "cell_type": "code",
   "execution_count": 322,
   "metadata": {
    "colab": {
     "base_uri": "https://localhost:8080/"
    },
    "id": "6sElzgwA9_73",
    "outputId": "fd754e24-10a3-4ea0-9c98-0c080ffb3df2"
   },
   "outputs": [],
   "source": [
    "#x"
   ]
  },
  {
   "cell_type": "code",
   "execution_count": 323,
   "metadata": {
    "id": "41l3v1AJYYCj"
   },
   "outputs": [],
   "source": [
    "num_iter = 4\n",
    "counter = 0"
   ]
  },
  {
   "cell_type": "code",
   "execution_count": 328,
   "metadata": {
    "colab": {
     "base_uri": "https://localhost:8080/"
    },
    "id": "yJKyyoXgp2BS",
    "outputId": "113b4027-a83d-4e50-ae09-79dfa347d20d"
   },
   "outputs": [
    {
     "name": "stderr",
     "output_type": "stream",
     "text": [
      "C:\\Users\\Diptanshu\\AppData\\Local\\Temp\\ipykernel_21328\\167230913.py:24: UserWarning: To copy construct from a tensor, it is recommended to use sourceTensor.clone().detach() or sourceTensor.clone().detach().requires_grad_(True), rather than torch.tensor(sourceTensor).\n",
      "  errD_real = criterion(torch.tensor(outD_real).to(device), real_labels)\n",
      "C:\\Users\\Diptanshu\\AppData\\Local\\Temp\\ipykernel_21328\\167230913.py:25: UserWarning: To copy construct from a tensor, it is recommended to use sourceTensor.clone().detach() or sourceTensor.clone().detach().requires_grad_(True), rather than torch.tensor(sourceTensor).\n",
      "  errD_fake = criterion(torch.tensor(outD_fake).to(device), fake_labels)\n",
      "C:\\Users\\Diptanshu\\AppData\\Local\\Temp\\ipykernel_21328\\167230913.py:46: UserWarning: To copy construct from a tensor, it is recommended to use sourceTensor.clone().detach() or sourceTensor.clone().detach().requires_grad_(True), rather than torch.tensor(sourceTensor).\n",
      "  errG = criterion(torch.tensor(outD_fake).to(device), real_labels)\n"
     ]
    },
    {
     "name": "stdout",
     "output_type": "stream",
     "text": [
      "Iteration: 1, Discriminator Loss: 0.103710, Generator Loss: 0.044771\n",
      "Iteration: 2, Discriminator Loss: 0.104683, Generator Loss: 0.044497\n",
      "Iteration: 3, Discriminator Loss: 0.103958, Generator Loss: 0.044187\n",
      "Iteration: 4, Discriminator Loss: 0.103982, Generator Loss: 0.044793\n"
     ]
    }
   ],
   "source": [
    "num_of_samples = len(Loaded)\n",
    "\n",
    "for sample in range(num_of_samples):\n",
    "    data = Loaded.df[sample]\n",
    "    data = torch.tensor(data, dtype=torch.double)\n",
    "    \n",
    "    # Data from molecule dataset for training the discriminator\n",
    "    real_data = data.to(device)\n",
    "\n",
    "    # Noise follwing a uniform distribution in range [0,pi/2)\n",
    "    noise = torch.rand(Loaded.size, n_qubits, device=device) * math.pi / 2\n",
    "    fake_data = generator(noise)\n",
    "    fake_data = [processor.atomsAndCoordinates(out) for out in fake_data]\n",
    "    fake_data = torch.tensor(fake_data).to(device)\n",
    "    results += fake_data\n",
    "\n",
    "    # Training the discriminator\n",
    "    discriminator.zero_grad()\n",
    "    outD_real = discriminator(real_data).view(-1)\n",
    "    outD_fake = discriminator(fake_data).view(-1)\n",
    "    #outD_fake = [abs(breh) for breh in outD_fake]\n",
    "    #outD_real = [abs(breh) for breh in outD_real]\n",
    "\n",
    "    errD_real = criterion(torch.tensor(outD_real).to(device), real_labels)\n",
    "    errD_fake = criterion(torch.tensor(outD_fake).to(device), fake_labels)\n",
    "\n",
    "    #for j in range(5):\n",
    "        #print(f\"outD_real is {torch.tensor([outD_real[j]])}\\n outD_fake is {torch.tensor([outD_fake[j]])}\")\n",
    "    #    errD_real += criterion(torch.tensor([abs(outD_real[j])]).to(device), real_labels)\n",
    "    #    errD_fake += criterion(torch.tensor([abs(outD_fake[j])]).to(device), fake_labels)\n",
    "    \n",
    "    errD_fake /= batch_size\n",
    "    errD_real /= batch_size\n",
    "\n",
    "    # Propagate gradients\n",
    "    #errD_real.backward()\n",
    "    #errD_fake.backward()\n",
    "\n",
    "    errD = errD_real + errD_fake\n",
    "    optD.step()\n",
    "\n",
    "    # Training the generator\n",
    "    generator.zero_grad()\n",
    "    outD_fake = discriminator(fake_data).view(-1)\n",
    "    #outD_fake = [abs(breh) for breh in outD_fake]\n",
    "    errG = criterion(torch.tensor(outD_fake).to(device), real_labels)\n",
    "    errG /= batch_size\n",
    "    #errG.backward()\n",
    "    optG.step()\n",
    "\n",
    "    counter += 1\n",
    "\n",
    "    # Show loss values\n",
    "    if counter % 1 == 0:\n",
    "        print(f'Iteration: {counter}, Discriminator Loss: {errD:0.6f}, Generator Loss: {errG:0.6f}')\n",
    "        #random print statements because yes\n",
    "\n",
    "    if counter == num_iter:\n",
    "        break"
   ]
  },
  {
   "cell_type": "code",
   "execution_count": 404,
   "metadata": {},
   "outputs": [],
   "source": [
    "molecules = []\n",
    "for idx in range(len(results)):\n",
    "    molecules.append(results[idx].tolist())"
   ]
  },
  {
   "cell_type": "code",
   "execution_count": 405,
   "metadata": {},
   "outputs": [],
   "source": [
    "np_arr = np.array(molecules)\n",
    "\n",
    "df = pd.DataFrame(np_arr, columns = ['atom','x','y','z'])"
   ]
  },
  {
   "cell_type": "code",
   "execution_count": 406,
   "metadata": {},
   "outputs": [
    {
     "name": "stderr",
     "output_type": "stream",
     "text": [
      "C:\\Users\\Diptanshu\\AppData\\Local\\Temp\\ipykernel_21328\\2999383356.py:3: SettingWithCopyWarning: \n",
      "A value is trying to be set on a copy of a slice from a DataFrame\n",
      "\n",
      "See the caveats in the documentation: https://pandas.pydata.org/pandas-docs/stable/user_guide/indexing.html#returning-a-view-versus-a-copy\n",
      "  df['atom'][idx] = chr(int(df['atom'][idx]))\n"
     ]
    }
   ],
   "source": [
    "for idx in range(len(df)):\n",
    "    #print(df['atom'][idx])\n",
    "    df['atom'][idx] = chr(int(df['atom'][idx]))"
   ]
  },
  {
   "cell_type": "code",
   "execution_count": 408,
   "metadata": {},
   "outputs": [],
   "source": [
    "df.to_csv('fake_mol.csv')"
   ]
  },
  {
   "cell_type": "code",
   "execution_count": null,
   "metadata": {},
   "outputs": [],
   "source": []
  }
 ],
 "metadata": {
  "colab": {
   "collapsed_sections": [
    "yrwEnBIarR8X"
   ],
   "name": "QGAN_efficient.ipynb",
   "provenance": []
  },
  "kernelspec": {
   "display_name": "Python 3 (ipykernel)",
   "language": "python",
   "name": "python3"
  },
  "language_info": {
   "codemirror_mode": {
    "name": "ipython",
    "version": 3
   },
   "file_extension": ".py",
   "mimetype": "text/x-python",
   "name": "python",
   "nbconvert_exporter": "python",
   "pygments_lexer": "ipython3",
   "version": "3.8.5"
  }
 },
 "nbformat": 4,
 "nbformat_minor": 1
}
