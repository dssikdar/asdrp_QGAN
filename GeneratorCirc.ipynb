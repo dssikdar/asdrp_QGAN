{
 "cells": [
  {
   "cell_type": "code",
   "execution_count": 2,
   "id": "e16dcb2f-6584-4fe4-900a-f382cf1c3e74",
   "metadata": {},
   "outputs": [
    {
     "name": "stderr",
     "output_type": "stream",
     "text": [
      "ibmqfactory.load_account:WARNING:2021-11-13 19:47:10,158: Credentials are already in use. The existing account in the session will be replaced.\n"
     ]
    }
   ],
   "source": [
    "import numpy as np\n",
    "\n",
    "# Importing standard Qiskit libraries\n",
    "from qiskit import QuantumCircuit, transpile, Aer, IBMQ\n",
    "from qiskit.tools.jupyter import *\n",
    "from qiskit.visualization import *\n",
    "from ibm_quantum_widgets import *\n",
    "from qiskit.providers.aer import QasmSimulator\n",
    "\n",
    "# Loading your IBM Quantum account(s)\n",
    "provider = IBMQ.load_account()"
   ]
  },
  {
   "cell_type": "code",
   "execution_count": 3,
   "id": "4d5d7cb7-4d7a-4afb-93cf-24d12de261e4",
   "metadata": {},
   "outputs": [],
   "source": [
    "from qiskit import QuantumRegister, ClassicalRegister, QuantumCircuit\n",
    "import math\n",
    "\n",
    "numOfQubits = 4\n",
    "readoutBits = numOfQubits\n",
    "qreg = QuantumRegister(numOfQubits)\n",
    "creg = ClassicalRegister(readoutBits)\n",
    "\n",
    "gen = QuantumCircuit(qreg, creg)\n",
    "#================================================#\n",
    "\n",
    "#*************************************************\n",
    "#Build initial rotation gates\n",
    "def initRot(qc):\n",
    "    qc.rx(math.pi, qreg[0:numOfQubits+1])\n",
    "    qc.rx(math.pi, qreg[0:numOfQubits+1])\n",
    "    qc.rz(math.pi, qreg[0:numOfQubits+1])\n",
    "    qc.barrier()\n",
    "    \n",
    "#*************************************************\n",
    "\n",
    "#initRot(gen)\n",
    "#gen.draw()\n",
    "\n",
    "#*************************************************\n",
    "#Build All-to-All qubit connectivity \n",
    "def connectAllQubits(qc):\n",
    "    for controlQubit in range(numOfQubits-1):\n",
    "        qc.h(qreg[controlQubit])\n",
    "        targetQubit = controlQubit+1\n",
    "        qc.cx(qreg[controlQubit], qreg[targetQubit:numOfQubits])\n",
    "    qc.barrier()\n",
    "#*************************************************  \n",
    "\n",
    "#connectAllQubits(gen)\n",
    "#gen.draw()\n",
    "\n",
    "#*************************************************\n",
    "def buildCircuit(qc, layerNum):\n",
    "    for layer in range(layerNum):\n",
    "        initRot(qc)\n",
    "        connectAllQubits(qc)\n",
    "    qc.measure(qreg[0:numOfQubits], creg[0:readoutBits])\n",
    "#*************************************************"
   ]
  },
  {
   "cell_type": "code",
   "execution_count": 4,
   "id": "3c1aefe3-16b1-4fa4-b9ad-ff2458458547",
   "metadata": {},
   "outputs": [
    {
     "data": {
      "image/png": "[encoded data removed]",
      "text/plain": [
       "<Figure size 1183.18x325.08 with 1 Axes>"
      ]
     },
     "execution_count": 4,
     "metadata": {},
     "output_type": "execute_result"
    }
   ],
   "source": [
    "buildCircuit(gen, 1)\n",
    "gen.draw()"
   ]
  },
  {
   "cell_type": "code",
   "execution_count": 11,
   "id": "032523bf-2178-4646-8c81-a382e9993f02",
   "metadata": {},
   "outputs": [
    {
     "name": "stdout",
     "output_type": "stream",
     "text": [
      "Depth of circuit with 4 qubits has a depth of 10 and a width of 8.\n"
     ]
    }
   ],
   "source": [
    "print(\"Depth of circuit with \"+str(numOfQubits)+\" qubits has a depth of \"+str(gen.depth())+\" and a width of \"+str(gen.width())+\".\")"
   ]
  },
  {
   "cell_type": "code",
   "execution_count": null,
   "id": "6cb15eb4-2783-4979-bfaa-629497393f75",
   "metadata": {},
   "outputs": [],
   "source": []
  }
 ],
 "metadata": {
  "kernelspec": {
   "display_name": "Qiskit v0.32.0 (ipykernel)",
   "language": "python",
   "name": "python3"
  },
  "language_info": {
   "codemirror_mode": {
    "name": "ipython",
    "version": 3
   },
   "file_extension": ".py",
   "mimetype": "text/x-python",
   "name": "python",
   "nbconvert_exporter": "python",
   "pygments_lexer": "ipython3",
   "version": "3.8.10"
  },
  "widgets": {
   "application/vnd.jupyter.widget-state+json": {
    "state": {
     "1ecc10b317d54f1abcad103ad997dbdc": {
      "model_module": "@jupyter-widgets/controls",
      "model_module_version": "1.5.0",
      "model_name": "DescriptionStyleModel",
      "state": {
       "description_width": ""
      }
     },
     "1eeab76bd42a4194b2a4f52b1abcb863": {
      "model_module": "@jupyter-widgets/controls",
      "model_module_version": "1.5.0",
      "model_name": "HBoxModel",
      "state": {
       "children": [
        "IPY_MODEL_98abff10f375474283d00955737bb231",
        "IPY_MODEL_638e7b79fe4d45009d23946df8e69c7c",
        "IPY_MODEL_7970a956667649eda20f63ad2b9e1afc",
        "IPY_MODEL_4fff3a60d42244938ab842afcd0f7266",
        "IPY_MODEL_6e8c268abda648cf96cbba50be6a8e0c"
       ],
       "layout": "IPY_MODEL_b0b9243d8d2945369c0494ca5c73fce0"
      }
     },
     "358cabf73d644aa997aefbfe04d3251a": {
      "model_module": "@jupyter-widgets/controls",
      "model_module_version": "1.5.0",
      "model_name": "DescriptionStyleModel",
      "state": {
       "description_width": ""
      }
     },
     "42296e98a4934b8890b14f4d2e47bbe1": {
      "model_module": "@jupyter-widgets/base",
      "model_module_version": "1.2.0",
      "model_name": "LayoutModel",
      "state": {}
     },
     "4a0c09137ee246218a8b4c8ae13fa725": {
      "model_module": "@jupyter-widgets/base",
      "model_module_version": "1.2.0",
      "model_name": "LayoutModel",
      "state": {
       "width": "95px"
      }
     },
     "4fb9032112b54b33acb3bd0d54b1e30c": {
      "model_module": "@jupyter-widgets/controls",
      "model_module_version": "1.5.0",
      "model_name": "HTMLModel",
      "state": {
       "layout": "IPY_MODEL_f2f556a51e714f6f8046f15760c6e789",
       "style": "IPY_MODEL_358cabf73d644aa997aefbfe04d3251a",
       "value": "<p style='font-family: IBM Plex Sans, Arial, Helvetica, sans-serif; font-size: 20px; font-weight: medium;'>Circuit Properties</p>"
      }
     },
     "4fff3a60d42244938ab842afcd0f7266": {
      "model_module": "@jupyter-widgets/controls",
      "model_module_version": "1.5.0",
      "model_name": "HTMLModel",
      "state": {
       "layout": "IPY_MODEL_a051b86bb0694dbeb7108dc57da8260b",
       "style": "IPY_MODEL_53157d7fc81a4825ab7e0bd7c1c6d9a9",
       "value": "<h5>Queue</h5>"
      }
     },
     "51ab2e0d94f643ff9946c2bc7da26583": {
      "model_module": "@jupyter-widgets/base",
      "model_module_version": "1.2.0",
      "model_name": "LayoutModel",
      "state": {
       "width": "145px"
      }
     },
     "53157d7fc81a4825ab7e0bd7c1c6d9a9": {
      "model_module": "@jupyter-widgets/controls",
      "model_module_version": "1.5.0",
      "model_name": "DescriptionStyleModel",
      "state": {
       "description_width": ""
      }
     },
     "638e7b79fe4d45009d23946df8e69c7c": {
      "model_module": "@jupyter-widgets/controls",
      "model_module_version": "1.5.0",
      "model_name": "HTMLModel",
      "state": {
       "layout": "IPY_MODEL_51ab2e0d94f643ff9946c2bc7da26583",
       "style": "IPY_MODEL_1ecc10b317d54f1abcad103ad997dbdc",
       "value": "<h5>Backend</h5>"
      }
     },
     "6b2e385c6cca4609a29adcce7b864761": {
      "model_module": "@jupyter-widgets/base",
      "model_module_version": "1.2.0",
      "model_name": "LayoutModel",
      "state": {
       "grid_area": "right",
       "padding": "0px 0px 0px 0px",
       "width": "70px"
      }
     },
     "6e8c268abda648cf96cbba50be6a8e0c": {
      "model_module": "@jupyter-widgets/controls",
      "model_module_version": "1.5.0",
      "model_name": "HTMLModel",
      "state": {
       "layout": "IPY_MODEL_42296e98a4934b8890b14f4d2e47bbe1",
       "style": "IPY_MODEL_7c4e1c65935a4707823146463ec65a49",
       "value": "<h5>Message</h5>"
      }
     },
     "75feb4cd88da4b8aa30762a67227b290": {
      "model_module": "@jupyter-widgets/controls",
      "model_module_version": "1.5.0",
      "model_name": "DescriptionStyleModel",
      "state": {
       "description_width": ""
      }
     },
     "7970a956667649eda20f63ad2b9e1afc": {
      "model_module": "@jupyter-widgets/controls",
      "model_module_version": "1.5.0",
      "model_name": "HTMLModel",
      "state": {
       "layout": "IPY_MODEL_4a0c09137ee246218a8b4c8ae13fa725",
       "style": "IPY_MODEL_a88ac454c24549bb833fa70f321ce86f",
       "value": "<h5>Status</h5>"
      }
     },
     "7c4e1c65935a4707823146463ec65a49": {
      "model_module": "@jupyter-widgets/controls",
      "model_module_version": "1.5.0",
      "model_name": "DescriptionStyleModel",
      "state": {
       "description_width": ""
      }
     },
     "98abff10f375474283d00955737bb231": {
      "model_module": "@jupyter-widgets/controls",
      "model_module_version": "1.5.0",
      "model_name": "HTMLModel",
      "state": {
       "layout": "IPY_MODEL_9f45563c0fc344c086282b90f226847f",
       "style": "IPY_MODEL_75feb4cd88da4b8aa30762a67227b290",
       "value": "<h5>Job ID</h5>"
      }
     },
     "9f45563c0fc344c086282b90f226847f": {
      "model_module": "@jupyter-widgets/base",
      "model_module_version": "1.2.0",
      "model_name": "LayoutModel",
      "state": {
       "width": "190px"
      }
     },
     "a051b86bb0694dbeb7108dc57da8260b": {
      "model_module": "@jupyter-widgets/base",
      "model_module_version": "1.2.0",
      "model_name": "LayoutModel",
      "state": {
       "width": "70px"
      }
     },
     "a88ac454c24549bb833fa70f321ce86f": {
      "model_module": "@jupyter-widgets/controls",
      "model_module_version": "1.5.0",
      "model_name": "DescriptionStyleModel",
      "state": {
       "description_width": ""
      }
     },
     "b0b9243d8d2945369c0494ca5c73fce0": {
      "model_module": "@jupyter-widgets/base",
      "model_module_version": "1.2.0",
      "model_name": "LayoutModel",
      "state": {
       "margin": "0px 0px 0px 37px",
       "width": "600px"
      }
     },
     "b25fd4c4db814ab69d3e8433036d4a86": {
      "model_module": "@jupyter-widgets/base",
      "model_module_version": "1.2.0",
      "model_name": "LayoutModel",
      "state": {
       "grid_template_areas": "\n                                       \". . . . right \"\n                                        ",
       "grid_template_columns": "20% 20% 20% 20% 20%",
       "width": "100%"
      }
     },
     "c10e6b734ba248b49d7cc0ad5284c110": {
      "model_module": "@jupyter-widgets/controls",
      "model_module_version": "1.5.0",
      "model_name": "ButtonModel",
      "state": {
       "button_style": "primary",
       "description": "Clear",
       "layout": "IPY_MODEL_6b2e385c6cca4609a29adcce7b864761",
       "style": "IPY_MODEL_fb864e277f0445dfb42f6fbde3c88df1"
      }
     },
     "f2f556a51e714f6f8046f15760c6e789": {
      "model_module": "@jupyter-widgets/base",
      "model_module_version": "1.2.0",
      "model_name": "LayoutModel",
      "state": {
       "margin": "0px 0px 10px 0px"
      }
     },
     "fb864e277f0445dfb42f6fbde3c88df1": {
      "model_module": "@jupyter-widgets/controls",
      "model_module_version": "1.5.0",
      "model_name": "ButtonStyleModel",
      "state": {}
     },
     "fe40a5d0a97346a0ab144aea87f70543": {
      "model_module": "@jupyter-widgets/controls",
      "model_module_version": "1.5.0",
      "model_name": "GridBoxModel",
      "state": {
       "children": [
        "IPY_MODEL_c10e6b734ba248b49d7cc0ad5284c110"
       ],
       "layout": "IPY_MODEL_b25fd4c4db814ab69d3e8433036d4a86"
      }
     }
    },
    "version_major": 2,
    "version_minor": 0
   }
  }
 },
 "nbformat": 4,
 "nbformat_minor": 5
}
