{
 "cells": [
  {
   "cell_type": "code",
   "execution_count": 2,
   "id": "e16dcb2f-6584-4fe4-900a-f382cf1c3e74",
   "metadata": {},
   "outputs": [],
   "source": [
    "import numpy as np\n",
    "\n",
    "# Importing standard Qiskit libraries\n",
    "from qiskit import QuantumCircuit, transpile, Aer, IBMQ\n",
    "from qiskit.tools.jupyter import *\n",
    "from qiskit.visualization import *\n",
    "from ibm_quantum_widgets import *\n",
    "from qiskit.providers.aer import QasmSimulator\n",
    "\n",
    "# Loading your IBM Quantum account(s)\n",
    "provider = IBMQ.load_account()"
   ]
  },
  {
   "cell_type": "code",
   "execution_count": 26,
   "id": "4d5d7cb7-4d7a-4afb-93cf-24d12de261e4",
   "metadata": {},
   "outputs": [],
   "source": [
    "from qiskit import QuantumRegister, ClassicalRegister, QuantumCircuit\n",
    "import math\n",
    "import random\n",
    "\n",
    "numOfQubits = 4\n",
    "readoutBits = numOfQubits\n",
    "qreg = QuantumRegister(numOfQubits)\n",
    "creg = ClassicalRegister(readoutBits)\n",
    "\n",
    "gen = QuantumCircuit(qreg, creg)\n",
    "#================================================#\n",
    "\n",
    "#*************************************************\n",
    "#Build initial rotation gates\n",
    "def initRot(qc):\n",
    "    qc.rx(math.pi, qreg[0:numOfQubits+1])\n",
    "    qc.rx(math.pi, qreg[0:numOfQubits+1])\n",
    "    qc.rz(math.pi, qreg[0:numOfQubits+1])\n",
    "    qc.barrier()\n",
    "    \n",
    "#*************************************************\n",
    "\n",
    "#initRot(gen)\n",
    "#gen.draw()\n",
    "\n",
    "#Build All-to-All qubit connectivity \n",
    "\n",
    "paramList = []\n",
    "\n",
    "def connectAllQubits(qc):\n",
    "    \"\"\"paramList = []\n",
    "    for controlQubit in range(numOfQubits-1):\n",
    "        qc.h(qreg[controlQubit])\n",
    "        targetQubit = controlQubit+1\n",
    "        rot = random.random()\n",
    "        qc.crx(rot, qreg[controlQubit], qreg[targetQubit:numOfQubits])\n",
    "        paramList.append(rot)\n",
    "    qc.barrier()\n",
    "    return paramList\"\"\"\n",
    "    \n",
    "    for controlQubit in range(numOfQubits-1):\n",
    "        qc.h(qreg[controlQubit])\n",
    "        for targetQubit in range(controlQubit+1,numOfQubits):\n",
    "            rot = random.random()\n",
    "            qc.crx(rot, qreg[controlQubit], qreg[targetQubit])\n",
    "            paramList.append(rot)\n",
    "        qc.barrier()\n",
    "    return paramList\n",
    "#*************************************************  \n",
    "\n",
    "#connectAllQubits(gen)\n",
    "#gen.draw()\n",
    "\n",
    "#*************************************************\n",
    "def buildCircuit(qc, layerNum):\n",
    "    for layer in range(layerNum):\n",
    "        initRot(qc)\n",
    "        connectAllQubits(qc)\n",
    "    qc.measure(qreg[0:numOfQubits], creg[0:readoutBits])\n",
    "#*************************************************"
   ]
  },
  {
   "cell_type": "code",
   "execution_count": 27,
   "id": "3c1aefe3-16b1-4fa4-b9ad-ff2458458547",
   "metadata": {},
   "outputs": [
    {
     "data": {
      "image/png": "[encoded data removed]",
      "text/plain": [
       "<Figure size 1316.7x325.08 with 1 Axes>"
      ]
     },
     "execution_count": 27,
     "metadata": {},
     "output_type": "execute_result"
    }
   ],
   "source": [
    "buildCircuit(gen, 1)\n",
    "gen.draw()"
   ]
  },
  {
   "cell_type": "code",
   "execution_count": 11,
   "id": "032523bf-2178-4646-8c81-a382e9993f02",
   "metadata": {},
   "outputs": [
    {
     "name": "stdout",
     "output_type": "stream",
     "text": [
      "Depth of circuit with 4 qubits has a depth of 10 and a width of 8.\n"
     ]
    }
   ],
   "source": [
    "print(\"Depth of circuit with \"+str(numOfQubits)+\" qubits has a depth of \"+str(gen.depth())+\" and a width of \"+str(gen.width())+\".\")"
   ]
  },
  {
   "cell_type": "code",
   "execution_count": 28,
   "id": "6cb15eb4-2783-4979-bfaa-629497393f75",
   "metadata": {},
   "outputs": [
    {
     "data": {
      "text/plain": [
       "[0.36828636142040827,\n",
       " 0.8245061248822559,\n",
       " 0.9510268816804779,\n",
       " 0.192357175833205,\n",
       " 0.8082598368583931,\n",
       " 0.09728110909894117]"
      ]
     },
     "execution_count": 28,
     "metadata": {},
     "output_type": "execute_result"
    }
   ],
   "source": [
    "paramList"
   ]
  },
  {
   "cell_type": "code",
   "execution_count": 35,
   "id": "a8334dc4-ab40-4f92-bfa4-d8493181c7c0",
   "metadata": {},
   "outputs": [],
   "source": [
    "for i in range(len(paramList)):\n",
    "    grad = random.random()\n",
    "    if grad < 0.5: \n",
    "        paramList[i] = paramList[i]+0.1\n",
    "    else:\n",
    "        paramList[i] = paramList[i]-0.1"
   ]
  },
  {
   "cell_type": "code",
   "execution_count": 36,
   "id": "aa066c28-b215-4f64-9729-979a2064cc07",
   "metadata": {},
   "outputs": [
    {
     "data": {
      "text/plain": [
       "[0.5682863614204082,\n",
       " 0.624506124882256,\n",
       " 1.151026881680478,\n",
       " 0.192357175833205,\n",
       " 0.8082598368583931,\n",
       " 0.09728110909894117]"
      ]
     },
     "execution_count": 36,
     "metadata": {},
     "output_type": "execute_result"
    }
   ],
   "source": [
    "paramList"
   ]
  },
  {
   "cell_type": "code",
   "execution_count": null,
   "id": "d5f65ab5-9455-44f8-acb6-5732bed784dc",
   "metadata": {},
   "outputs": [],
   "source": []
  }
 ],
 "metadata": {
  "kernelspec": {
   "display_name": "Qiskit v0.32.0 (ipykernel)",
   "language": "python",
   "name": "python3"
  },
  "language_info": {
   "codemirror_mode": {
    "name": "ipython",
    "version": 3
   },
   "file_extension": ".py",
   "mimetype": "text/x-python",
   "name": "python",
   "nbconvert_exporter": "python",
   "pygments_lexer": "ipython3",
   "version": "3.8.10"
  },
  "widgets": {
   "application/vnd.jupyter.widget-state+json": {
    "state": {
     "047416b8045e419ca12a3ace453616af": {
      "model_module": "@jupyter-widgets/base",
      "model_module_version": "1.2.0",
      "model_name": "LayoutModel",
      "state": {
       "margin": "0px 0px 10px 0px"
      }
     },
     "1d002f3281964de58ca1d0ad311fe202": {
      "model_module": "@jupyter-widgets/controls",
      "model_module_version": "1.5.0",
      "model_name": "DescriptionStyleModel",
      "state": {
       "description_width": ""
      }
     },
     "24538efb625b462b97b0c3bb2d4ad48c": {
      "model_module": "@jupyter-widgets/controls",
      "model_module_version": "1.5.0",
      "model_name": "DescriptionStyleModel",
      "state": {
       "description_width": ""
      }
     },
     "26a69930556e453295a714184fa0ddc3": {
      "model_module": "@jupyter-widgets/base",
      "model_module_version": "1.2.0",
      "model_name": "LayoutModel",
      "state": {
       "width": "190px"
      }
     },
     "33c36d9925294c23bc6b02fd3eba3aa6": {
      "model_module": "@jupyter-widgets/controls",
      "model_module_version": "1.5.0",
      "model_name": "ButtonStyleModel",
      "state": {}
     },
     "47e132a936894c69a796e51c5b48eb22": {
      "model_module": "@jupyter-widgets/base",
      "model_module_version": "1.2.0",
      "model_name": "LayoutModel",
      "state": {
       "margin": "0px 0px 0px 37px",
       "width": "600px"
      }
     },
     "516a7f65ce1643d9be5685bdd7b649d8": {
      "model_module": "@jupyter-widgets/controls",
      "model_module_version": "1.5.0",
      "model_name": "HTMLModel",
      "state": {
       "layout": "IPY_MODEL_047416b8045e419ca12a3ace453616af",
       "style": "IPY_MODEL_c280e4580a7f437fbc54c43027929a56",
       "value": "<p style='font-family: IBM Plex Sans, Arial, Helvetica, sans-serif; font-size: 20px; font-weight: medium;'>Circuit Properties</p>"
      }
     },
     "6bad5325ca1a4380a1ec3ca3f1c0c62f": {
      "model_module": "@jupyter-widgets/base",
      "model_module_version": "1.2.0",
      "model_name": "LayoutModel",
      "state": {
       "width": "70px"
      }
     },
     "6de56da4937748bc9dc9bacd98441722": {
      "model_module": "@jupyter-widgets/controls",
      "model_module_version": "1.5.0",
      "model_name": "DescriptionStyleModel",
      "state": {
       "description_width": ""
      }
     },
     "71b50439265e4dd78c6227b7ca2a9b2d": {
      "model_module": "@jupyter-widgets/controls",
      "model_module_version": "1.5.0",
      "model_name": "HBoxModel",
      "state": {
       "children": [
        "IPY_MODEL_f98af51715a6450ea4602504ae914826",
        "IPY_MODEL_9c57ebcc81434db1b1ea23d48b239e2d",
        "IPY_MODEL_72c8679bf8a04672b15e5b5d338fd30c",
        "IPY_MODEL_edf91f9b44a54b88b533823236fa9c56",
        "IPY_MODEL_77a270e22d854ba697e9c1d863188426"
       ],
       "layout": "IPY_MODEL_47e132a936894c69a796e51c5b48eb22"
      }
     },
     "72c8679bf8a04672b15e5b5d338fd30c": {
      "model_module": "@jupyter-widgets/controls",
      "model_module_version": "1.5.0",
      "model_name": "HTMLModel",
      "state": {
       "layout": "IPY_MODEL_e7a1235d7d56455cac893d1c9ee4cd61",
       "style": "IPY_MODEL_24538efb625b462b97b0c3bb2d4ad48c",
       "value": "<h5>Status</h5>"
      }
     },
     "77a270e22d854ba697e9c1d863188426": {
      "model_module": "@jupyter-widgets/controls",
      "model_module_version": "1.5.0",
      "model_name": "HTMLModel",
      "state": {
       "layout": "IPY_MODEL_83d75faf2e9f4e26acaa3ad155d497e8",
       "style": "IPY_MODEL_9e559c2c65ee4516af65f3c2c561f94e",
       "value": "<h5>Message</h5>"
      }
     },
     "83d75faf2e9f4e26acaa3ad155d497e8": {
      "model_module": "@jupyter-widgets/base",
      "model_module_version": "1.2.0",
      "model_name": "LayoutModel",
      "state": {}
     },
     "8504520097824e64b0933f4ac347aac7": {
      "model_module": "@jupyter-widgets/controls",
      "model_module_version": "1.5.0",
      "model_name": "GridBoxModel",
      "state": {
       "children": [
        "IPY_MODEL_b8b0ea04a202441182a0097b4905a2a6"
       ],
       "layout": "IPY_MODEL_bb70cce6b6b14871992e49c5ed55a6b9"
      }
     },
     "9c57ebcc81434db1b1ea23d48b239e2d": {
      "model_module": "@jupyter-widgets/controls",
      "model_module_version": "1.5.0",
      "model_name": "HTMLModel",
      "state": {
       "layout": "IPY_MODEL_d22ae0425701404a942ea81a568c96cc",
       "style": "IPY_MODEL_a6cea6cbc5ce41b38ac2f702ba7711f5",
       "value": "<h5>Backend</h5>"
      }
     },
     "9e559c2c65ee4516af65f3c2c561f94e": {
      "model_module": "@jupyter-widgets/controls",
      "model_module_version": "1.5.0",
      "model_name": "DescriptionStyleModel",
      "state": {
       "description_width": ""
      }
     },
     "a6cea6cbc5ce41b38ac2f702ba7711f5": {
      "model_module": "@jupyter-widgets/controls",
      "model_module_version": "1.5.0",
      "model_name": "DescriptionStyleModel",
      "state": {
       "description_width": ""
      }
     },
     "b8b0ea04a202441182a0097b4905a2a6": {
      "model_module": "@jupyter-widgets/controls",
      "model_module_version": "1.5.0",
      "model_name": "ButtonModel",
      "state": {
       "button_style": "primary",
       "description": "Clear",
       "layout": "IPY_MODEL_f4275ee8d9ce43df992e9e9787c1888f",
       "style": "IPY_MODEL_33c36d9925294c23bc6b02fd3eba3aa6"
      }
     },
     "bb70cce6b6b14871992e49c5ed55a6b9": {
      "model_module": "@jupyter-widgets/base",
      "model_module_version": "1.2.0",
      "model_name": "LayoutModel",
      "state": {
       "grid_template_areas": "\n                                       \". . . . right \"\n                                        ",
       "grid_template_columns": "20% 20% 20% 20% 20%",
       "width": "100%"
      }
     },
     "c280e4580a7f437fbc54c43027929a56": {
      "model_module": "@jupyter-widgets/controls",
      "model_module_version": "1.5.0",
      "model_name": "DescriptionStyleModel",
      "state": {
       "description_width": ""
      }
     },
     "d22ae0425701404a942ea81a568c96cc": {
      "model_module": "@jupyter-widgets/base",
      "model_module_version": "1.2.0",
      "model_name": "LayoutModel",
      "state": {
       "width": "145px"
      }
     },
     "e7a1235d7d56455cac893d1c9ee4cd61": {
      "model_module": "@jupyter-widgets/base",
      "model_module_version": "1.2.0",
      "model_name": "LayoutModel",
      "state": {
       "width": "95px"
      }
     },
     "edf91f9b44a54b88b533823236fa9c56": {
      "model_module": "@jupyter-widgets/controls",
      "model_module_version": "1.5.0",
      "model_name": "HTMLModel",
      "state": {
       "layout": "IPY_MODEL_6bad5325ca1a4380a1ec3ca3f1c0c62f",
       "style": "IPY_MODEL_6de56da4937748bc9dc9bacd98441722",
       "value": "<h5>Queue</h5>"
      }
     },
     "f4275ee8d9ce43df992e9e9787c1888f": {
      "model_module": "@jupyter-widgets/base",
      "model_module_version": "1.2.0",
      "model_name": "LayoutModel",
      "state": {
       "grid_area": "right",
       "padding": "0px 0px 0px 0px",
       "width": "70px"
      }
     },
     "f98af51715a6450ea4602504ae914826": {
      "model_module": "@jupyter-widgets/controls",
      "model_module_version": "1.5.0",
      "model_name": "HTMLModel",
      "state": {
       "layout": "IPY_MODEL_26a69930556e453295a714184fa0ddc3",
       "style": "IPY_MODEL_1d002f3281964de58ca1d0ad311fe202",
       "value": "<h5>Job ID</h5>"
      }
     }
    },
    "version_major": 2,
    "version_minor": 0
   }
  }
 },
 "nbformat": 4,
 "nbformat_minor": 5
}
